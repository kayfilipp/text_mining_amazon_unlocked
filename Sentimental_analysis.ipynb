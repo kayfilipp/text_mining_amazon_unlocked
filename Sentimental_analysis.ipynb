{
 "cells": [
  {
   "cell_type": "markdown",
   "metadata": {},
   "source": [
    "## Sentimental Analysis\n",
    "##### In this section, we will explore two models to estimate the sentiment from a snippet of text data. "
   ]
  },
  {
   "cell_type": "markdown",
   "metadata": {},
   "source": [
    "### Packages"
   ]
  },
  {
   "cell_type": "code",
   "execution_count": 1,
   "metadata": {},
   "outputs": [],
   "source": [
    "import kaggle\n",
    "import pandas as pd\n",
    "import matplotlib.pyplot as plt \n",
    "import pyarrow\n",
    "import fastparquet\n",
    "import numpy as np\n",
    "import os\n",
    "from collections import Counter, defaultdict\n",
    "import warnings\n",
    "import seaborn as sns\n",
    "warnings.filterwarnings(\"ignore\")\n",
    "from wordcloud import WordCloud \n",
    "#kaggle.api.authenticate()\n",
    "import nltk\n",
    "from string import punctuation\n",
    "import textacy.preprocessing as tprep\n",
    "from nltk.corpus import stopwords\n",
    "from wordcloud import WordCloud, STOPWORDS\n",
    "import spacy\n",
    "nlp = spacy.load(\"en_core_web_sm\")\n",
    "from sklearn.metrics import accuracy_score \n",
    "from sklearn.metrics import roc_auc_score\n",
    "from sklearn.feature_extraction.text import TfidfVectorizer\n",
    "from sklearn.svm import LinearSVC\n",
    "from sklearn.linear_model import LinearRegression\n",
    "from sklearn.neural_network import MLPClassifier\n",
    "from sklearn.ensemble import RandomForestClassifier\n",
    "from sklearn.metrics import classification_report, confusion_matrix,plot_confusion_matrix\n",
    "from sklearn.dummy import DummyClassifier\n",
    "from sklearn.model_selection import cross_val_score\n",
    "from sklearn.pipeline import Pipeline\n",
    "from sklearn.model_selection import GridSearchCV"
   ]
  },
  {
   "cell_type": "markdown",
   "metadata": {},
   "source": [
    "## Step 1: Data Preparation\n",
    "####    Loading Dataset for Modeling"
   ]
  },
  {
   "cell_type": "code",
   "execution_count": 2,
   "metadata": {},
   "outputs": [
    {
     "data": {
      "text/html": [
       "<div>\n",
       "<style scoped>\n",
       "    .dataframe tbody tr th:only-of-type {\n",
       "        vertical-align: middle;\n",
       "    }\n",
       "\n",
       "    .dataframe tbody tr th {\n",
       "        vertical-align: top;\n",
       "    }\n",
       "\n",
       "    .dataframe thead th {\n",
       "        text-align: right;\n",
       "    }\n",
       "</style>\n",
       "<table border=\"1\" class=\"dataframe\">\n",
       "  <thead>\n",
       "    <tr style=\"text-align: right;\">\n",
       "      <th></th>\n",
       "      <th>Rating</th>\n",
       "      <th>lemmas</th>\n",
       "      <th>adjs_verbs</th>\n",
       "      <th>nouns</th>\n",
       "      <th>noun_phrases</th>\n",
       "      <th>adj_noun_phrases</th>\n",
       "      <th>entities</th>\n",
       "      <th>tokens</th>\n",
       "      <th>token_count</th>\n",
       "      <th>new_reviews</th>\n",
       "    </tr>\n",
       "  </thead>\n",
       "  <tbody>\n",
       "    <tr>\n",
       "      <th>0</th>\n",
       "      <td>5</td>\n",
       "      <td>[feel, lucky, find, use, phone, use, hard, pho...</td>\n",
       "      <td>[feel, lucky, find, hard, upgrade, sell, like,...</td>\n",
       "      <td>[phone, phone, line, son, year, thank, seller,...</td>\n",
       "      <td>[phone_line, thank_seller]</td>\n",
       "      <td>[hard_phone, hard_phone_line, old_one, recomme...</td>\n",
       "      <td>[]</td>\n",
       "      <td>[feel, lucky, found, used, phone, us, used, ha...</td>\n",
       "      <td>38</td>\n",
       "      <td>feel lucky found used phone us used hard phone...</td>\n",
       "    </tr>\n",
       "    <tr>\n",
       "      <th>1</th>\n",
       "      <td>4</td>\n",
       "      <td>[nice, phone, nice, grade, pantach, revue, cle...</td>\n",
       "      <td>[nice, nice, clean, easy, android, fantastic, ...</td>\n",
       "      <td>[phone, grade, pantach, revue, set, set, phone...</td>\n",
       "      <td>[grade_pantach]</td>\n",
       "      <td>[nice_phone, nice_grade, nice_grade_pantach, c...</td>\n",
       "      <td>[android/GPE]</td>\n",
       "      <td>[nice, phone, nice, grade, pantach, revue, cle...</td>\n",
       "      <td>24</td>\n",
       "      <td>nice phone nice grade pantach revue clean set ...</td>\n",
       "    </tr>\n",
       "    <tr>\n",
       "      <th>2</th>\n",
       "      <td>5</td>\n",
       "      <td>[pleased]</td>\n",
       "      <td>[pleased]</td>\n",
       "      <td>[]</td>\n",
       "      <td>[]</td>\n",
       "      <td>[]</td>\n",
       "      <td>[]</td>\n",
       "      <td>[pleased]</td>\n",
       "      <td>1</td>\n",
       "      <td>pleased</td>\n",
       "    </tr>\n",
       "  </tbody>\n",
       "</table>\n",
       "</div>"
      ],
      "text/plain": [
       "   Rating                                             lemmas  \\\n",
       "0       5  [feel, lucky, find, use, phone, use, hard, pho...   \n",
       "1       4  [nice, phone, nice, grade, pantach, revue, cle...   \n",
       "2       5                                          [pleased]   \n",
       "\n",
       "                                          adjs_verbs  \\\n",
       "0  [feel, lucky, find, hard, upgrade, sell, like,...   \n",
       "1  [nice, nice, clean, easy, android, fantastic, ...   \n",
       "2                                          [pleased]   \n",
       "\n",
       "                                               nouns  \\\n",
       "0  [phone, phone, line, son, year, thank, seller,...   \n",
       "1  [phone, grade, pantach, revue, set, set, phone...   \n",
       "2                                                 []   \n",
       "\n",
       "                 noun_phrases  \\\n",
       "0  [phone_line, thank_seller]   \n",
       "1             [grade_pantach]   \n",
       "2                          []   \n",
       "\n",
       "                                    adj_noun_phrases       entities  \\\n",
       "0  [hard_phone, hard_phone_line, old_one, recomme...             []   \n",
       "1  [nice_phone, nice_grade, nice_grade_pantach, c...  [android/GPE]   \n",
       "2                                                 []             []   \n",
       "\n",
       "                                              tokens  token_count  \\\n",
       "0  [feel, lucky, found, used, phone, us, used, ha...           38   \n",
       "1  [nice, phone, nice, grade, pantach, revue, cle...           24   \n",
       "2                                          [pleased]            1   \n",
       "\n",
       "                                         new_reviews  \n",
       "0  feel lucky found used phone us used hard phone...  \n",
       "1  nice phone nice grade pantach revue clean set ...  \n",
       "2                                            pleased  "
      ]
     },
     "execution_count": 2,
     "metadata": {},
     "output_type": "execute_result"
    }
   ],
   "source": [
    "new_df=pd.read_parquet('prepared_text.parquet.gzip', engine='pyarrow')\n",
    "new_df.head(3)"
   ]
  },
  {
   "cell_type": "markdown",
   "metadata": {},
   "source": [
    "#### Removing unecessary columns prior to modeling "
   ]
  },
  {
   "cell_type": "code",
   "execution_count": 3,
   "metadata": {},
   "outputs": [],
   "source": [
    "\n",
    "new_df =new_df[[\n",
    "    'Rating','new_reviews','tokens'\n",
    "]]"
   ]
  },
  {
   "cell_type": "markdown",
   "metadata": {},
   "source": []
  },
  {
   "cell_type": "code",
   "execution_count": 4,
   "metadata": {},
   "outputs": [
    {
     "name": "stdout",
     "output_type": "stream",
     "text": [
      "<class 'pandas.core.frame.DataFrame'>\n",
      "RangeIndex: 405669 entries, 0 to 405668\n",
      "Data columns (total 3 columns):\n",
      " #   Column       Non-Null Count   Dtype \n",
      "---  ------       --------------   ----- \n",
      " 0   Rating       405669 non-null  int64 \n",
      " 1   new_reviews  405669 non-null  object\n",
      " 2   tokens       405669 non-null  object\n",
      "dtypes: int64(1), object(2)\n",
      "memory usage: 9.3+ MB\n",
      "\n",
      "\n",
      "(405669, 3)\n"
     ]
    }
   ],
   "source": [
    "new_df.info()\n",
    "print('\\n')\n",
    "print(new_df.shape)"
   ]
  },
  {
   "cell_type": "markdown",
   "metadata": {},
   "source": [
    "#### Undersampling Majority class "
   ]
  },
  {
   "cell_type": "code",
   "execution_count": 5,
   "metadata": {},
   "outputs": [],
   "source": [
    "# undersampling 5-star reviews and oversampling other reviews \n",
    "five_stars = new_df[new_df['Rating'] == 5].sample(n=70000)\n",
    "non_five = new_df[new_df['Rating'] != 5 ]\n",
    "df_bal = pd.concat([five_stars,non_five],axis=0)"
   ]
  },
  {
   "cell_type": "markdown",
   "metadata": {},
   "source": [
    "##### We  annotated all reviews with a rating of 4 and 5 as positive and with ratings 1 and 2 as negative:"
   ]
  },
  {
   "cell_type": "code",
   "execution_count": 6,
   "metadata": {},
   "outputs": [],
   "source": [
    "# Assigning a new [1,0] target class label based on the product rating\n",
    "df_bal['sentiment'] = 0\n",
    "df_bal.loc[df_bal['Rating'] > 3, 'sentiment'] = 1\n",
    "df_bal.loc[df_bal['Rating'] < 3, 'sentiment'] = 0"
   ]
  },
  {
   "cell_type": "markdown",
   "metadata": {},
   "source": [
    "## Step 2: Train-Test Split on Balanced Dataset"
   ]
  },
  {
   "cell_type": "code",
   "execution_count": 7,
   "metadata": {},
   "outputs": [
    {
     "name": "stdout",
     "output_type": "stream",
     "text": [
      "Size of Training Data  205997\n",
      "Size of Test Data  51500\n",
      "Distribution of classes in Training Data :\n",
      "Positive Sentiment  50.56529949465284\n",
      "Negative Sentiment  49.434700505347166\n",
      "Distribution of classes in Testing Data :\n",
      "Positive Sentiment  50.565048543689315\n",
      "Negative Sentiment  49.43495145631068\n"
     ]
    }
   ],
   "source": [
    "from sklearn.model_selection import train_test_split\n",
    "X_train, X_test, Y_train, Y_test = train_test_split(df_bal['new_reviews'],\n",
    "                                                       df_bal['sentiment'],\n",
    "                                                        test_size=0.2,\n",
    "                                                        random_state=42,\n",
    "                                                        stratify=df_bal['sentiment'])\n",
    "print ('Size of Training Data ', X_train.shape[0]) \n",
    "print ('Size of Test Data ', X_test.shape[0])\n",
    "print ('Distribution of classes in Training Data :')\n",
    "print ('Positive Sentiment ', str(sum(Y_train == 1)/ len(Y_train) * 100.0))\n",
    "print ('Negative Sentiment ', str(sum(Y_train == 0)/ len(Y_train) * 100.0))\n",
    "print ('Distribution of classes in Testing Data :')\n",
    "print ('Positive Sentiment ', str(sum(Y_test == 1)/ len(Y_test) * 100.0)) \n",
    "print ('Negative Sentiment ', str(sum(Y_test == 0)/ len(Y_test) * 100.0))"
   ]
  },
  {
   "cell_type": "markdown",
   "metadata": {},
   "source": [
    "## Step 3: Text Vectorization\n",
    " ##### \tUsing TF-IDF vectorization to create the vectorized representation:"
   ]
  },
  {
   "cell_type": "code",
   "execution_count": 8,
   "metadata": {},
   "outputs": [],
   "source": [
    "\n",
    "tfidf = TfidfVectorizer(min_df = 10, ngram_range=(1,1))\n",
    "X_train_tf = tfidf.fit_transform(X_train)\n",
    "X_test_tf = tfidf.transform(X_test)"
   ]
  },
  {
   "cell_type": "markdown",
   "metadata": {},
   "source": [
    "## Step 4: Training the Machine Learning Models"
   ]
  },
  {
   "cell_type": "markdown",
   "metadata": {},
   "source": [
    "#### Model 1 : Linear SVC"
   ]
  },
  {
   "cell_type": "code",
   "execution_count": 9,
   "metadata": {},
   "outputs": [
    {
     "name": "stdout",
     "output_type": "stream",
     "text": [
      "Accuracy Score -  0.8829708737864078\n",
      "ROC-AUC Score -  0.8829385881762057\n"
     ]
    }
   ],
   "source": [
    "model_svc = LinearSVC(random_state=42, tol=1e-5)\n",
    "model_svc.fit(X_train_tf, Y_train)\n",
    "Y_pred = model_svc.predict(X_test_tf)\n",
    "print ('Accuracy Score - ', accuracy_score(Y_test, Y_pred)) \n",
    "print ('ROC-AUC Score - ', roc_auc_score(Y_test, Y_pred))"
   ]
  },
  {
   "cell_type": "markdown",
   "metadata": {},
   "source": [
    "\n",
    "As we can see, our model achieves an accuracy of around 88%. Now, let’s take look at some of the model predictions and the review text to perform a sense check of the model:"
   ]
  },
  {
   "cell_type": "code",
   "execution_count": 11,
   "metadata": {},
   "outputs": [
    {
     "name": "stdout",
     "output_type": "stream",
     "text": [
      "Some sample reviews with their sentiment - \n"
     ]
    },
    {
     "data": {
      "text/html": [
       "<div>\n",
       "<style scoped>\n",
       "    .dataframe tbody tr th:only-of-type {\n",
       "        vertical-align: middle;\n",
       "    }\n",
       "\n",
       "    .dataframe tbody tr th {\n",
       "        vertical-align: top;\n",
       "    }\n",
       "\n",
       "    .dataframe thead th {\n",
       "        text-align: right;\n",
       "    }\n",
       "</style>\n",
       "<table border=\"1\" class=\"dataframe\">\n",
       "  <thead>\n",
       "    <tr style=\"text-align: right;\">\n",
       "      <th></th>\n",
       "      <th>new_reviews</th>\n",
       "      <th>sentiment_prediction</th>\n",
       "    </tr>\n",
       "  </thead>\n",
       "  <tbody>\n",
       "    <tr>\n",
       "      <th>301994</th>\n",
       "      <td>love many great features everything need phone...</td>\n",
       "      <td>1</td>\n",
       "    </tr>\n",
       "    <tr>\n",
       "      <th>113284</th>\n",
       "      <td>ready garbage fault shoulda done research first</td>\n",
       "      <td>0</td>\n",
       "    </tr>\n",
       "    <tr>\n",
       "      <th>297230</th>\n",
       "      <td>like phonei like phone letters small text stil...</td>\n",
       "      <td>1</td>\n",
       "    </tr>\n",
       "    <tr>\n",
       "      <th>145296</th>\n",
       "      <td>100 cant go wrong note couple programs google ...</td>\n",
       "      <td>1</td>\n",
       "    </tr>\n",
       "    <tr>\n",
       "      <th>211667</th>\n",
       "      <td>good</td>\n",
       "      <td>1</td>\n",
       "    </tr>\n",
       "    <tr>\n",
       "      <th>122761</th>\n",
       "      <td>ive 4 12 months holding alright freeze reviews...</td>\n",
       "      <td>0</td>\n",
       "    </tr>\n",
       "    <tr>\n",
       "      <th>222442</th>\n",
       "      <td>gift someone satisfied</td>\n",
       "      <td>1</td>\n",
       "    </tr>\n",
       "    <tr>\n",
       "      <th>126426</th>\n",
       "      <td>good features quality</td>\n",
       "      <td>1</td>\n",
       "    </tr>\n",
       "    <tr>\n",
       "      <th>123560</th>\n",
       "      <td>good</td>\n",
       "      <td>1</td>\n",
       "    </tr>\n",
       "    <tr>\n",
       "      <th>3726</th>\n",
       "      <td>works great</td>\n",
       "      <td>1</td>\n",
       "    </tr>\n",
       "  </tbody>\n",
       "</table>\n",
       "</div>"
      ],
      "text/plain": [
       "                                              new_reviews  \\\n",
       "301994  love many great features everything need phone...   \n",
       "113284    ready garbage fault shoulda done research first   \n",
       "297230  like phonei like phone letters small text stil...   \n",
       "145296  100 cant go wrong note couple programs google ...   \n",
       "211667                                               good   \n",
       "122761  ive 4 12 months holding alright freeze reviews...   \n",
       "222442                             gift someone satisfied   \n",
       "126426                              good features quality   \n",
       "123560                                               good   \n",
       "3726                                          works great   \n",
       "\n",
       "        sentiment_prediction  \n",
       "301994                     1  \n",
       "113284                     0  \n",
       "297230                     1  \n",
       "145296                     1  \n",
       "211667                     1  \n",
       "122761                     0  \n",
       "222442                     1  \n",
       "126426                     1  \n",
       "123560                     1  \n",
       "3726                       1  "
      ]
     },
     "execution_count": 11,
     "metadata": {},
     "output_type": "execute_result"
    }
   ],
   "source": [
    "sample_reviews = df_bal.sample(10)\n",
    "sample_reviews_tf = tfidf.transform(sample_reviews['new_reviews'])\n",
    "sentiment_predictions_svc = model_svc.predict(sample_reviews_tf)\n",
    "sentiment_predictions_svc = pd.DataFrame(data = sentiment_predictions_svc,\n",
    "                                         index=sample_reviews.index,\n",
    "                                         columns=['sentiment_prediction'])\n",
    "sample_reviews_svc = pd.concat([sample_reviews, sentiment_predictions_svc], axis=1)\n",
    "print ('Some sample reviews with their sentiment - ') \n",
    "sample_reviews_svc[['new_reviews','sentiment_prediction']]"
   ]
  },
  {
   "cell_type": "markdown",
   "metadata": {},
   "source": [
    "We can see that this model is able to predict the reviews reasonably well. For instance, review 113284 where the customer found the result to be garbage is marked as negative."
   ]
  },
  {
   "cell_type": "markdown",
   "metadata": {},
   "source": [
    "#### Model 2: Deep Neural Multi-layer Perceptron Classifier"
   ]
  },
  {
   "cell_type": "code",
   "execution_count": 14,
   "metadata": {},
   "outputs": [
    {
     "name": "stdout",
     "output_type": "stream",
     "text": [
      "Accuracy Score -  0.8933009708737865\n",
      "ROC-AUC Score -  0.8930619524994998\n"
     ]
    }
   ],
   "source": [
    "model_clf = MLPClassifier(solver='lbfgs', alpha=1e-5, hidden_layer_sizes=(5, 2), random_state=1)\n",
    "model_clf.fit(X_train_tf, Y_train)\n",
    "Y_pred_clf= model_clf.predict(X_test_tf)\n",
    "print ('Accuracy Score - ', accuracy_score(Y_test, Y_pred_clf)) \n",
    "print ('ROC-AUC Score - ', roc_auc_score(Y_test, Y_pred_clf))"
   ]
  },
  {
   "cell_type": "code",
   "execution_count": 13,
   "metadata": {},
   "outputs": [
    {
     "name": "stdout",
     "output_type": "stream",
     "text": [
      "Some sample reviews with their sentiment - \n"
     ]
    },
    {
     "data": {
      "text/html": [
       "<div>\n",
       "<style scoped>\n",
       "    .dataframe tbody tr th:only-of-type {\n",
       "        vertical-align: middle;\n",
       "    }\n",
       "\n",
       "    .dataframe tbody tr th {\n",
       "        vertical-align: top;\n",
       "    }\n",
       "\n",
       "    .dataframe thead th {\n",
       "        text-align: right;\n",
       "    }\n",
       "</style>\n",
       "<table border=\"1\" class=\"dataframe\">\n",
       "  <thead>\n",
       "    <tr style=\"text-align: right;\">\n",
       "      <th></th>\n",
       "      <th>new_reviews</th>\n",
       "      <th>sentiment_prediction</th>\n",
       "    </tr>\n",
       "  </thead>\n",
       "  <tbody>\n",
       "    <tr>\n",
       "      <th>301994</th>\n",
       "      <td>love many great features everything need phone...</td>\n",
       "      <td>1</td>\n",
       "    </tr>\n",
       "    <tr>\n",
       "      <th>113284</th>\n",
       "      <td>ready garbage fault shoulda done research first</td>\n",
       "      <td>0</td>\n",
       "    </tr>\n",
       "    <tr>\n",
       "      <th>297230</th>\n",
       "      <td>like phonei like phone letters small text stil...</td>\n",
       "      <td>1</td>\n",
       "    </tr>\n",
       "    <tr>\n",
       "      <th>145296</th>\n",
       "      <td>100 cant go wrong note couple programs google ...</td>\n",
       "      <td>1</td>\n",
       "    </tr>\n",
       "    <tr>\n",
       "      <th>211667</th>\n",
       "      <td>good</td>\n",
       "      <td>1</td>\n",
       "    </tr>\n",
       "    <tr>\n",
       "      <th>122761</th>\n",
       "      <td>ive 4 12 months holding alright freeze reviews...</td>\n",
       "      <td>1</td>\n",
       "    </tr>\n",
       "    <tr>\n",
       "      <th>222442</th>\n",
       "      <td>gift someone satisfied</td>\n",
       "      <td>1</td>\n",
       "    </tr>\n",
       "    <tr>\n",
       "      <th>126426</th>\n",
       "      <td>good features quality</td>\n",
       "      <td>1</td>\n",
       "    </tr>\n",
       "    <tr>\n",
       "      <th>123560</th>\n",
       "      <td>good</td>\n",
       "      <td>1</td>\n",
       "    </tr>\n",
       "    <tr>\n",
       "      <th>3726</th>\n",
       "      <td>works great</td>\n",
       "      <td>1</td>\n",
       "    </tr>\n",
       "  </tbody>\n",
       "</table>\n",
       "</div>"
      ],
      "text/plain": [
       "                                              new_reviews  \\\n",
       "301994  love many great features everything need phone...   \n",
       "113284    ready garbage fault shoulda done research first   \n",
       "297230  like phonei like phone letters small text stil...   \n",
       "145296  100 cant go wrong note couple programs google ...   \n",
       "211667                                               good   \n",
       "122761  ive 4 12 months holding alright freeze reviews...   \n",
       "222442                             gift someone satisfied   \n",
       "126426                              good features quality   \n",
       "123560                                               good   \n",
       "3726                                          works great   \n",
       "\n",
       "        sentiment_prediction  \n",
       "301994                     1  \n",
       "113284                     0  \n",
       "297230                     1  \n",
       "145296                     1  \n",
       "211667                     1  \n",
       "122761                     1  \n",
       "222442                     1  \n",
       "126426                     1  \n",
       "123560                     1  \n",
       "3726                       1  "
      ]
     },
     "execution_count": 13,
     "metadata": {},
     "output_type": "execute_result"
    }
   ],
   "source": [
    "sentiment_predictions_clf = model_clf.predict(sample_reviews_tf)\n",
    "sentiment_predictions_clf = pd.DataFrame(data = sentiment_predictions_clf,\n",
    "                                         index=sample_reviews.index,\n",
    "                                         columns=['sentiment_prediction'])\n",
    "sample_reviews_clf = pd.concat([sample_reviews, sentiment_predictions_clf], axis=1)\n",
    "print ('Some sample reviews with their sentiment - ') \n",
    "sample_reviews_clf[['new_reviews','sentiment_prediction']]"
   ]
  },
  {
   "cell_type": "markdown",
   "metadata": {},
   "source": [
    "This model achieved accuracy around 89% . However, when we look at the same sample reviews, we can see  reveiw 122761 where the customer talks about freezing reviews, the model predicted as positive while it looks more negative."
   ]
  },
  {
   "cell_type": "code",
   "execution_count": null,
   "metadata": {},
   "outputs": [],
   "source": []
  }
 ],
 "metadata": {
  "interpreter": {
   "hash": "60ba96c67dacd59ff32938a5ed53bed33b53ea2f963a0f8bbd5a1726d3f202b9"
  },
  "kernelspec": {
   "display_name": "Python 3.8.8 ('Desktop')",
   "language": "python",
   "name": "python3"
  },
  "language_info": {
   "codemirror_mode": {
    "name": "ipython",
    "version": 3
   },
   "file_extension": ".py",
   "mimetype": "text/x-python",
   "name": "python",
   "nbconvert_exporter": "python",
   "pygments_lexer": "ipython3",
   "version": "3.8.8"
  },
  "orig_nbformat": 4
 },
 "nbformat": 4,
 "nbformat_minor": 2
}
