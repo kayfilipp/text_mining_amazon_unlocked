{
 "cells": [
  {
   "cell_type": "code",
   "execution_count": 4,
   "metadata": {},
   "outputs": [],
   "source": [
    "import kaggle\n",
    "import pandas as pd\n",
    "import matplotlib.pyplot as plt \n",
    "import pyarrow\n",
    "import fastparquet\n",
    "import numpy as np\n",
    "import os\n",
    "from collections import Counter, defaultdict\n",
    "import warnings\n",
    "import seaborn as sns\n",
    "warnings.filterwarnings(\"ignore\")\n",
    "from wordcloud import WordCloud \n",
    "#kaggle.api.authenticate()\n",
    "import nltk\n",
    "from string import punctuation\n",
    "import textacy.preprocessing as tprep\n",
    "from nltk.corpus import stopwords\n",
    "from wordcloud import WordCloud, STOPWORDS\n",
    "import spacy\n",
    "nlp = spacy.load(\"en_core_web_sm\")\n",
    "from sklearn.metrics import accuracy_score \n",
    "from sklearn.metrics import roc_auc_score\n",
    "from sklearn.feature_extraction.text import TfidfVectorizer\n",
    "from sklearn.svm import LinearSVC\n",
    "from sklearn.linear_model import LinearRegression\n",
    "from sklearn.neural_network import MLPClassifier\n",
    "from sklearn.ensemble import RandomForestClassifier"
   ]
  },
  {
   "cell_type": "code",
   "execution_count": 5,
   "metadata": {},
   "outputs": [
    {
     "data": {
      "text/html": [
       "<div>\n",
       "<style scoped>\n",
       "    .dataframe tbody tr th:only-of-type {\n",
       "        vertical-align: middle;\n",
       "    }\n",
       "\n",
       "    .dataframe tbody tr th {\n",
       "        vertical-align: top;\n",
       "    }\n",
       "\n",
       "    .dataframe thead th {\n",
       "        text-align: right;\n",
       "    }\n",
       "</style>\n",
       "<table border=\"1\" class=\"dataframe\">\n",
       "  <thead>\n",
       "    <tr style=\"text-align: right;\">\n",
       "      <th></th>\n",
       "      <th>Rating</th>\n",
       "      <th>new_reviews</th>\n",
       "      <th>lemmas</th>\n",
       "      <th>adjs_verbs</th>\n",
       "      <th>nouns</th>\n",
       "      <th>noun_phrases</th>\n",
       "      <th>adj_noun_phrases</th>\n",
       "      <th>entities</th>\n",
       "      <th>tokens</th>\n",
       "    </tr>\n",
       "  </thead>\n",
       "  <tbody>\n",
       "    <tr>\n",
       "      <th>0</th>\n",
       "      <td>5</td>\n",
       "      <td>feel lucky found used phone us used hard phone...</td>\n",
       "      <td>None</td>\n",
       "      <td>None</td>\n",
       "      <td>None</td>\n",
       "      <td>None</td>\n",
       "      <td>None</td>\n",
       "      <td>None</td>\n",
       "      <td>[feel, lucky, found, used, phone, us, used, ha...</td>\n",
       "    </tr>\n",
       "    <tr>\n",
       "      <th>1</th>\n",
       "      <td>4</td>\n",
       "      <td>nice phone nice grade pantach revue clean set ...</td>\n",
       "      <td>None</td>\n",
       "      <td>None</td>\n",
       "      <td>None</td>\n",
       "      <td>None</td>\n",
       "      <td>None</td>\n",
       "      <td>None</td>\n",
       "      <td>[nice, phone, nice, grade, pantach, revue, cle...</td>\n",
       "    </tr>\n",
       "    <tr>\n",
       "      <th>2</th>\n",
       "      <td>5</td>\n",
       "      <td>pleased</td>\n",
       "      <td>None</td>\n",
       "      <td>None</td>\n",
       "      <td>None</td>\n",
       "      <td>None</td>\n",
       "      <td>None</td>\n",
       "      <td>None</td>\n",
       "      <td>[pleased]</td>\n",
       "    </tr>\n",
       "    <tr>\n",
       "      <th>3</th>\n",
       "      <td>4</td>\n",
       "      <td>works good goes slow sometimes good phone love</td>\n",
       "      <td>None</td>\n",
       "      <td>None</td>\n",
       "      <td>None</td>\n",
       "      <td>None</td>\n",
       "      <td>None</td>\n",
       "      <td>None</td>\n",
       "      <td>[works, good, goes, slow, sometimes, good, pho...</td>\n",
       "    </tr>\n",
       "    <tr>\n",
       "      <th>4</th>\n",
       "      <td>4</td>\n",
       "      <td>great phone replace lost phone thing volume bu...</td>\n",
       "      <td>None</td>\n",
       "      <td>None</td>\n",
       "      <td>None</td>\n",
       "      <td>None</td>\n",
       "      <td>None</td>\n",
       "      <td>None</td>\n",
       "      <td>[great, phone, replace, lost, phone, thing, vo...</td>\n",
       "    </tr>\n",
       "  </tbody>\n",
       "</table>\n",
       "</div>"
      ],
      "text/plain": [
       "   Rating                                        new_reviews lemmas  \\\n",
       "0       5  feel lucky found used phone us used hard phone...   None   \n",
       "1       4  nice phone nice grade pantach revue clean set ...   None   \n",
       "2       5                                            pleased   None   \n",
       "3       4     works good goes slow sometimes good phone love   None   \n",
       "4       4  great phone replace lost phone thing volume bu...   None   \n",
       "\n",
       "  adjs_verbs nouns noun_phrases adj_noun_phrases entities  \\\n",
       "0       None  None         None             None     None   \n",
       "1       None  None         None             None     None   \n",
       "2       None  None         None             None     None   \n",
       "3       None  None         None             None     None   \n",
       "4       None  None         None             None     None   \n",
       "\n",
       "                                              tokens  \n",
       "0  [feel, lucky, found, used, phone, us, used, ha...  \n",
       "1  [nice, phone, nice, grade, pantach, revue, cle...  \n",
       "2                                          [pleased]  \n",
       "3  [works, good, goes, slow, sometimes, good, pho...  \n",
       "4  [great, phone, replace, lost, phone, thing, vo...  "
      ]
     },
     "execution_count": 5,
     "metadata": {},
     "output_type": "execute_result"
    }
   ],
   "source": [
    "new_df=pd.read_parquet('prepared_text.parquet.gzip', engine='pyarrow')\n",
    "new_df.head(5)"
   ]
  },
  {
   "cell_type": "code",
   "execution_count": 6,
   "metadata": {},
   "outputs": [],
   "source": [
    "\n",
    "new_df =new_df[[\n",
    "    'Rating','new_reviews','tokens'\n",
    "]]"
   ]
  },
  {
   "cell_type": "code",
   "execution_count": 7,
   "metadata": {},
   "outputs": [
    {
     "name": "stdout",
     "output_type": "stream",
     "text": [
      "<class 'pandas.core.frame.DataFrame'>\n",
      "RangeIndex: 413840 entries, 0 to 413839\n",
      "Data columns (total 3 columns):\n",
      " #   Column       Non-Null Count   Dtype \n",
      "---  ------       --------------   ----- \n",
      " 0   Rating       413840 non-null  int64 \n",
      " 1   new_reviews  413840 non-null  object\n",
      " 2   tokens       413840 non-null  object\n",
      "dtypes: int64(1), object(2)\n",
      "memory usage: 9.5+ MB\n",
      "\n",
      "\n",
      "(413840, 3)\n"
     ]
    }
   ],
   "source": [
    "new_df.info()\n",
    "print('\\n')\n",
    "print(new_df.shape)"
   ]
  },
  {
   "cell_type": "markdown",
   "metadata": {},
   "source": [
    "## Preparing Data for a Supervised Learning Approach"
   ]
  },
  {
   "cell_type": "code",
   "execution_count": 8,
   "metadata": {},
   "outputs": [],
   "source": [
    "# Assigning a new [1,0] target class label based on the product rating\n",
    "new_df['sentiment'] = 0\n",
    "new_df.loc[new_df['Rating'] > 3, 'sentiment'] = 1\n",
    "new_df.loc[new_df['Rating'] < 3, 'sentiment'] = 0"
   ]
  },
  {
   "cell_type": "markdown",
   "metadata": {},
   "source": [
    "## Train-Test Split"
   ]
  },
  {
   "cell_type": "code",
   "execution_count": 9,
   "metadata": {},
   "outputs": [
    {
     "name": "stdout",
     "output_type": "stream",
     "text": [
      "Size of Training Data  331072\n",
      "Size of Test Data  82768\n",
      "Distribution of classes in Training Data :\n",
      "Positive Sentiment  68.86659095302532\n",
      "Negative Sentiment  31.133409046974673\n",
      "Distribution of classes in Testing Data :\n",
      "Positive Sentiment  68.86598685482312\n",
      "Negative Sentiment  31.13401314517688\n"
     ]
    }
   ],
   "source": [
    "from sklearn.model_selection import train_test_split\n",
    "X_train, X_test, Y_train, Y_test = train_test_split(new_df['tokens'],\n",
    "                                                        new_df['sentiment'],\n",
    "                                                        test_size=0.2,\n",
    "                                                        random_state=42,\n",
    "                                                        stratify=new_df['sentiment'])\n",
    "print ('Size of Training Data ', X_train.shape[0]) \n",
    "print ('Size of Test Data ', X_test.shape[0])\n",
    "print ('Distribution of classes in Training Data :')\n",
    "print ('Positive Sentiment ', str(sum(Y_train == 1)/ len(Y_train) * 100.0))\n",
    "print ('Negative Sentiment ', str(sum(Y_train == 0)/ len(Y_train) * 100.0))\n",
    "print ('Distribution of classes in Testing Data :')\n",
    "print ('Positive Sentiment ', str(sum(Y_test == 1)/ len(Y_test) * 100.0)) \n",
    "print ('Negative Sentiment ', str(sum(Y_test == 0)/ len(Y_test) * 100.0))"
   ]
  },
  {
   "cell_type": "markdown",
   "metadata": {},
   "source": [
    "## Text Vectorization"
   ]
  },
  {
   "cell_type": "code",
   "execution_count": 10,
   "metadata": {},
   "outputs": [],
   "source": [
    "def identity_tokenizer(text):\n",
    "  return text\n",
    "\n",
    "\n",
    "tfidf = TfidfVectorizer(tokenizer=identity_tokenizer,min_df = 10,ngram_range=(1,1),lowercase=False)\n",
    "X_train_tf = tfidf.fit_transform(X_train)\n",
    "X_test_tf = tfidf.transform(X_test)"
   ]
  },
  {
   "cell_type": "markdown",
   "metadata": {},
   "source": [
    "## Training the Machine Learning Model"
   ]
  },
  {
   "cell_type": "code",
   "execution_count": 11,
   "metadata": {},
   "outputs": [
    {
     "name": "stdout",
     "output_type": "stream",
     "text": [
      "Accuracy Score  -  0.9146650879566982\n",
      "ROC-AUC Score -  0.8939663352596879\n"
     ]
    }
   ],
   "source": [
    "\n",
    "model_svc = LinearSVC(random_state=42, tol=1e-5)\n",
    "model_svc.fit(X_train_tf, Y_train)\n",
    "Y_pred_svc = model_svc.predict(X_test_tf)\n",
    "print ('Accuracy Score  - ', accuracy_score(Y_test, Y_pred_svc)) \n",
    "print ('ROC-AUC Score - ', roc_auc_score(Y_test, Y_pred_svc))"
   ]
  },
  {
   "cell_type": "code",
   "execution_count": 33,
   "metadata": {},
   "outputs": [
    {
     "name": "stdout",
     "output_type": "stream",
     "text": [
      "Some sample reviews with their sentiment - \n"
     ]
    },
    {
     "data": {
      "text/html": [
       "<div>\n",
       "<style scoped>\n",
       "    .dataframe tbody tr th:only-of-type {\n",
       "        vertical-align: middle;\n",
       "    }\n",
       "\n",
       "    .dataframe tbody tr th {\n",
       "        vertical-align: top;\n",
       "    }\n",
       "\n",
       "    .dataframe thead th {\n",
       "        text-align: right;\n",
       "    }\n",
       "</style>\n",
       "<table border=\"1\" class=\"dataframe\">\n",
       "  <thead>\n",
       "    <tr style=\"text-align: right;\">\n",
       "      <th></th>\n",
       "      <th>new_reviews</th>\n",
       "      <th>sentiment_prediction</th>\n",
       "    </tr>\n",
       "  </thead>\n",
       "  <tbody>\n",
       "    <tr>\n",
       "      <th>70355</th>\n",
       "      <td>excellent</td>\n",
       "      <td>1</td>\n",
       "    </tr>\n",
       "    <tr>\n",
       "      <th>62665</th>\n",
       "      <td>excelente producto</td>\n",
       "      <td>1</td>\n",
       "    </tr>\n",
       "    <tr>\n",
       "      <th>271831</th>\n",
       "      <td>device sold open group wireless att box unlock...</td>\n",
       "      <td>1</td>\n",
       "    </tr>\n",
       "    <tr>\n",
       "      <th>177492</th>\n",
       "      <td>written package dissappointing</td>\n",
       "      <td>0</td>\n",
       "    </tr>\n",
       "    <tr>\n",
       "      <th>330452</th>\n",
       "      <td>stopped working 7months</td>\n",
       "      <td>0</td>\n",
       "    </tr>\n",
       "    <tr>\n",
       "      <th>108540</th>\n",
       "      <td>loud listening music fine without case sides p...</td>\n",
       "      <td>1</td>\n",
       "    </tr>\n",
       "    <tr>\n",
       "      <th>272571</th>\n",
       "      <td>excellent thing like battery last long otherwi...</td>\n",
       "      <td>1</td>\n",
       "    </tr>\n",
       "    <tr>\n",
       "      <th>49702</th>\n",
       "      <td>great</td>\n",
       "      <td>1</td>\n",
       "    </tr>\n",
       "    <tr>\n",
       "      <th>377420</th>\n",
       "      <td>pleased phonemit bought replace one like thril...</td>\n",
       "      <td>1</td>\n",
       "    </tr>\n",
       "    <tr>\n",
       "      <th>78481</th>\n",
       "      <td>great wife liked 38mm apple watch much said or...</td>\n",
       "      <td>1</td>\n",
       "    </tr>\n",
       "  </tbody>\n",
       "</table>\n",
       "</div>"
      ],
      "text/plain": [
       "                                              new_reviews  \\\n",
       "70355                                           excellent   \n",
       "62665                                  excelente producto   \n",
       "271831  device sold open group wireless att box unlock...   \n",
       "177492                     written package dissappointing   \n",
       "330452                            stopped working 7months   \n",
       "108540  loud listening music fine without case sides p...   \n",
       "272571  excellent thing like battery last long otherwi...   \n",
       "49702                                               great   \n",
       "377420  pleased phonemit bought replace one like thril...   \n",
       "78481   great wife liked 38mm apple watch much said or...   \n",
       "\n",
       "        sentiment_prediction  \n",
       "70355                      1  \n",
       "62665                      1  \n",
       "271831                     1  \n",
       "177492                     0  \n",
       "330452                     0  \n",
       "108540                     1  \n",
       "272571                     1  \n",
       "49702                      1  \n",
       "377420                     1  \n",
       "78481                      1  "
      ]
     },
     "execution_count": 33,
     "metadata": {},
     "output_type": "execute_result"
    }
   ],
   "source": [
    "sample_reviews = new_df.sample(10)\n",
    "sample_reviews_tf = tfidf.transform(sample_reviews['tokens'])\n",
    "sentiment_predictions_svc = model_svc.predict(sample_reviews_tf)\n",
    "sentiment_predictions_svc = pd.DataFrame(data = sentiment_predictions_svc,\n",
    "                                         index=sample_reviews.index,\n",
    "                                         columns=['sentiment_prediction'])\n",
    "sample_reviews_svc = pd.concat([sample_reviews, sentiment_predictions_svc], axis=1)\n",
    "print ('Some sample reviews with their sentiment - ') \n",
    "sample_reviews_svc[['new_reviews','sentiment_prediction']]\n"
   ]
  },
  {
   "cell_type": "code",
   "execution_count": 12,
   "metadata": {},
   "outputs": [],
   "source": [
    "##Linear Regression Supervised Model\n",
    "\n",
    "#model_reg = LinearRegression()\n",
    "#model_reg. fit(X_train_tf, Y_train)\n",
    "#Y_pred_reg = model_reg.predict(X_test_tf)\n",
    "#print ('Accuracy Score - ', accuracy_score(Y_test, Y_pred_reg)) \n",
    "#print ('ROC-AUC Score - ', roc_auc_score(Y_test, Y_pred_reg))"
   ]
  },
  {
   "cell_type": "code",
   "execution_count": 13,
   "metadata": {},
   "outputs": [
    {
     "name": "stdout",
     "output_type": "stream",
     "text": [
      "Accuracy Score -  0.9126594819253818\n",
      "ROC-AUC Score -  0.8930629852679421\n"
     ]
    }
   ],
   "source": [
    "model_clf = MLPClassifier(solver='lbfgs', alpha=1e-5, hidden_layer_sizes=(5, 2), random_state=1)\n",
    "model_clf.fit(X_train_tf, Y_train)\n",
    "Y_pred_clf= model_clf.predict(X_test_tf)\n",
    "print ('Accuracy Score - ', accuracy_score(Y_test, Y_pred_clf)) \n",
    "print ('ROC-AUC Score - ', roc_auc_score(Y_test, Y_pred_clf))"
   ]
  },
  {
   "cell_type": "code",
   "execution_count": 34,
   "metadata": {},
   "outputs": [
    {
     "name": "stdout",
     "output_type": "stream",
     "text": [
      "Some sample reviews with their sentiment - \n"
     ]
    },
    {
     "data": {
      "text/html": [
       "<div>\n",
       "<style scoped>\n",
       "    .dataframe tbody tr th:only-of-type {\n",
       "        vertical-align: middle;\n",
       "    }\n",
       "\n",
       "    .dataframe tbody tr th {\n",
       "        vertical-align: top;\n",
       "    }\n",
       "\n",
       "    .dataframe thead th {\n",
       "        text-align: right;\n",
       "    }\n",
       "</style>\n",
       "<table border=\"1\" class=\"dataframe\">\n",
       "  <thead>\n",
       "    <tr style=\"text-align: right;\">\n",
       "      <th></th>\n",
       "      <th>new_reviews</th>\n",
       "      <th>sentiment_prediction</th>\n",
       "    </tr>\n",
       "  </thead>\n",
       "  <tbody>\n",
       "    <tr>\n",
       "      <th>70355</th>\n",
       "      <td>excellent</td>\n",
       "      <td>1</td>\n",
       "    </tr>\n",
       "    <tr>\n",
       "      <th>62665</th>\n",
       "      <td>excelente producto</td>\n",
       "      <td>1</td>\n",
       "    </tr>\n",
       "    <tr>\n",
       "      <th>271831</th>\n",
       "      <td>device sold open group wireless att box unlock...</td>\n",
       "      <td>1</td>\n",
       "    </tr>\n",
       "    <tr>\n",
       "      <th>177492</th>\n",
       "      <td>written package dissappointing</td>\n",
       "      <td>0</td>\n",
       "    </tr>\n",
       "    <tr>\n",
       "      <th>330452</th>\n",
       "      <td>stopped working 7months</td>\n",
       "      <td>0</td>\n",
       "    </tr>\n",
       "    <tr>\n",
       "      <th>108540</th>\n",
       "      <td>loud listening music fine without case sides p...</td>\n",
       "      <td>1</td>\n",
       "    </tr>\n",
       "    <tr>\n",
       "      <th>272571</th>\n",
       "      <td>excellent thing like battery last long otherwi...</td>\n",
       "      <td>1</td>\n",
       "    </tr>\n",
       "    <tr>\n",
       "      <th>49702</th>\n",
       "      <td>great</td>\n",
       "      <td>1</td>\n",
       "    </tr>\n",
       "    <tr>\n",
       "      <th>377420</th>\n",
       "      <td>pleased phonemit bought replace one like thril...</td>\n",
       "      <td>1</td>\n",
       "    </tr>\n",
       "    <tr>\n",
       "      <th>78481</th>\n",
       "      <td>great wife liked 38mm apple watch much said or...</td>\n",
       "      <td>1</td>\n",
       "    </tr>\n",
       "  </tbody>\n",
       "</table>\n",
       "</div>"
      ],
      "text/plain": [
       "                                              new_reviews  \\\n",
       "70355                                           excellent   \n",
       "62665                                  excelente producto   \n",
       "271831  device sold open group wireless att box unlock...   \n",
       "177492                     written package dissappointing   \n",
       "330452                            stopped working 7months   \n",
       "108540  loud listening music fine without case sides p...   \n",
       "272571  excellent thing like battery last long otherwi...   \n",
       "49702                                               great   \n",
       "377420  pleased phonemit bought replace one like thril...   \n",
       "78481   great wife liked 38mm apple watch much said or...   \n",
       "\n",
       "        sentiment_prediction  \n",
       "70355                      1  \n",
       "62665                      1  \n",
       "271831                     1  \n",
       "177492                     0  \n",
       "330452                     0  \n",
       "108540                     1  \n",
       "272571                     1  \n",
       "49702                      1  \n",
       "377420                     1  \n",
       "78481                      1  "
      ]
     },
     "execution_count": 34,
     "metadata": {},
     "output_type": "execute_result"
    }
   ],
   "source": [
    "sentiment_predictions_clf = model_clf.predict(sample_reviews_tf)\n",
    "sentiment_predictions_clf = pd.DataFrame(data = sentiment_predictions_clf,\n",
    "                                         index=sample_reviews.index,\n",
    "                                         columns=['sentiment_prediction'])\n",
    "sample_reviews_clf = pd.concat([sample_reviews, sentiment_predictions_clf], axis=1)\n",
    "print ('Some sample reviews with their sentiment - ') \n",
    "sample_reviews_clf[['new_reviews','sentiment_prediction']]\n"
   ]
  },
  {
   "cell_type": "code",
   "execution_count": 16,
   "metadata": {},
   "outputs": [
    {
     "name": "stdout",
     "output_type": "stream",
     "text": [
      "Accuracy Score -  0.957954765126619\n",
      "ROC-AUC Score -  0.9454788121205813\n"
     ]
    }
   ],
   "source": [
    "model_rf= RandomForestClassifier()\n",
    "model_rf.fit(X_train_tf, Y_train)\n",
    "Y_pred_rf= model_rf.predict(X_test_tf)\n",
    "print ('Accuracy Score - ', accuracy_score(Y_test, Y_pred_rf)) \n",
    "print ('ROC-AUC Score - ', roc_auc_score(Y_test, Y_pred_rf))"
   ]
  },
  {
   "cell_type": "code",
   "execution_count": 35,
   "metadata": {},
   "outputs": [
    {
     "name": "stdout",
     "output_type": "stream",
     "text": [
      "Some sample reviews with their sentiment - \n"
     ]
    },
    {
     "data": {
      "text/html": [
       "<div>\n",
       "<style scoped>\n",
       "    .dataframe tbody tr th:only-of-type {\n",
       "        vertical-align: middle;\n",
       "    }\n",
       "\n",
       "    .dataframe tbody tr th {\n",
       "        vertical-align: top;\n",
       "    }\n",
       "\n",
       "    .dataframe thead th {\n",
       "        text-align: right;\n",
       "    }\n",
       "</style>\n",
       "<table border=\"1\" class=\"dataframe\">\n",
       "  <thead>\n",
       "    <tr style=\"text-align: right;\">\n",
       "      <th></th>\n",
       "      <th>new_reviews</th>\n",
       "      <th>sentiment_prediction</th>\n",
       "    </tr>\n",
       "  </thead>\n",
       "  <tbody>\n",
       "    <tr>\n",
       "      <th>70355</th>\n",
       "      <td>excellent</td>\n",
       "      <td>1</td>\n",
       "    </tr>\n",
       "    <tr>\n",
       "      <th>62665</th>\n",
       "      <td>excelente producto</td>\n",
       "      <td>1</td>\n",
       "    </tr>\n",
       "    <tr>\n",
       "      <th>271831</th>\n",
       "      <td>device sold open group wireless att box unlock...</td>\n",
       "      <td>1</td>\n",
       "    </tr>\n",
       "    <tr>\n",
       "      <th>177492</th>\n",
       "      <td>written package dissappointing</td>\n",
       "      <td>0</td>\n",
       "    </tr>\n",
       "    <tr>\n",
       "      <th>330452</th>\n",
       "      <td>stopped working 7months</td>\n",
       "      <td>0</td>\n",
       "    </tr>\n",
       "    <tr>\n",
       "      <th>108540</th>\n",
       "      <td>loud listening music fine without case sides p...</td>\n",
       "      <td>1</td>\n",
       "    </tr>\n",
       "    <tr>\n",
       "      <th>272571</th>\n",
       "      <td>excellent thing like battery last long otherwi...</td>\n",
       "      <td>1</td>\n",
       "    </tr>\n",
       "    <tr>\n",
       "      <th>49702</th>\n",
       "      <td>great</td>\n",
       "      <td>1</td>\n",
       "    </tr>\n",
       "    <tr>\n",
       "      <th>377420</th>\n",
       "      <td>pleased phonemit bought replace one like thril...</td>\n",
       "      <td>1</td>\n",
       "    </tr>\n",
       "    <tr>\n",
       "      <th>78481</th>\n",
       "      <td>great wife liked 38mm apple watch much said or...</td>\n",
       "      <td>1</td>\n",
       "    </tr>\n",
       "  </tbody>\n",
       "</table>\n",
       "</div>"
      ],
      "text/plain": [
       "                                              new_reviews  \\\n",
       "70355                                           excellent   \n",
       "62665                                  excelente producto   \n",
       "271831  device sold open group wireless att box unlock...   \n",
       "177492                     written package dissappointing   \n",
       "330452                            stopped working 7months   \n",
       "108540  loud listening music fine without case sides p...   \n",
       "272571  excellent thing like battery last long otherwi...   \n",
       "49702                                               great   \n",
       "377420  pleased phonemit bought replace one like thril...   \n",
       "78481   great wife liked 38mm apple watch much said or...   \n",
       "\n",
       "        sentiment_prediction  \n",
       "70355                      1  \n",
       "62665                      1  \n",
       "271831                     1  \n",
       "177492                     0  \n",
       "330452                     0  \n",
       "108540                     1  \n",
       "272571                     1  \n",
       "49702                      1  \n",
       "377420                     1  \n",
       "78481                      1  "
      ]
     },
     "execution_count": 35,
     "metadata": {},
     "output_type": "execute_result"
    }
   ],
   "source": [
    "sentiment_predictions_rf = model_clf.predict(sample_reviews_tf)\n",
    "sentiment_predictions_rf = pd.DataFrame(data = sentiment_predictions_rf,\n",
    "                                         index=sample_reviews.index,\n",
    "                                         columns=['sentiment_prediction'])\n",
    "sample_reviews_rf = pd.concat([sample_reviews, sentiment_predictions_rf], axis=1)\n",
    "print ('Some sample reviews with their sentiment - ') \n",
    "sample_reviews_rf[['new_reviews','sentiment_prediction']]"
   ]
  },
  {
   "cell_type": "code",
   "execution_count": null,
   "metadata": {},
   "outputs": [],
   "source": []
  }
 ],
 "metadata": {
  "interpreter": {
   "hash": "60ba96c67dacd59ff32938a5ed53bed33b53ea2f963a0f8bbd5a1726d3f202b9"
  },
  "kernelspec": {
   "display_name": "Python 3.8.8 ('Desktop')",
   "language": "python",
   "name": "python3"
  },
  "language_info": {
   "codemirror_mode": {
    "name": "ipython",
    "version": 3
   },
   "file_extension": ".py",
   "mimetype": "text/x-python",
   "name": "python",
   "nbconvert_exporter": "python",
   "pygments_lexer": "ipython3",
   "version": "3.8.8"
  },
  "orig_nbformat": 4
 },
 "nbformat": 4,
 "nbformat_minor": 2
}
