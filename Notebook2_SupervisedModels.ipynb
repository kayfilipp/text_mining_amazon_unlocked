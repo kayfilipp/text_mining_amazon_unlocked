{
 "cells": [
  {
   "cell_type": "markdown",
   "metadata": {},
   "source": [
    "#### In this section, we will build a text classication using supervised learning technique which can can predict the rating based on the reviews."
   ]
  },
  {
   "cell_type": "markdown",
   "metadata": {},
   "source": [
    "### Packages"
   ]
  },
  {
   "cell_type": "code",
   "execution_count": 1,
   "metadata": {},
   "outputs": [],
   "source": [
    "import kaggle\n",
    "import pandas as pd\n",
    "import matplotlib.pyplot as plt \n",
    "import pyarrow\n",
    "import fastparquet\n",
    "import numpy as np\n",
    "import os\n",
    "from collections import Counter, defaultdict\n",
    "import warnings\n",
    "import seaborn as sns\n",
    "warnings.filterwarnings(\"ignore\")\n",
    "from wordcloud import WordCloud \n",
    "#kaggle.api.authenticate()\n",
    "import nltk\n",
    "from string import punctuation\n",
    "import textacy.preprocessing as tprep\n",
    "from nltk.corpus import stopwords\n",
    "from wordcloud import WordCloud, STOPWORDS\n",
    "import spacy\n",
    "nlp = spacy.load(\"en_core_web_sm\")\n",
    "from sklearn.metrics import accuracy_score \n",
    "from sklearn.metrics import roc_auc_score\n",
    "from sklearn.feature_extraction.text import TfidfVectorizer\n",
    "from sklearn.svm import LinearSVC\n",
    "from sklearn.linear_model import LinearRegression\n",
    "from sklearn.neural_network import MLPClassifier\n",
    "from sklearn.ensemble import RandomForestClassifier\n",
    "from sklearn.metrics import classification_report, confusion_matrix,plot_confusion_matrix\n",
    "from sklearn.dummy import DummyClassifier\n",
    "from sklearn.model_selection import cross_val_score\n",
    "from sklearn.pipeline import Pipeline\n",
    "from sklearn.model_selection import GridSearchCV"
   ]
  },
  {
   "cell_type": "markdown",
   "metadata": {},
   "source": [
    "## Step 1: Data Preparation\n"
   ]
  },
  {
   "cell_type": "markdown",
   "metadata": {},
   "source": [
    "####    Loading Dataset for Modeling"
   ]
  },
  {
   "cell_type": "code",
   "execution_count": 2,
   "metadata": {},
   "outputs": [
    {
     "data": {
      "text/html": [
       "<div>\n",
       "<style scoped>\n",
       "    .dataframe tbody tr th:only-of-type {\n",
       "        vertical-align: middle;\n",
       "    }\n",
       "\n",
       "    .dataframe tbody tr th {\n",
       "        vertical-align: top;\n",
       "    }\n",
       "\n",
       "    .dataframe thead th {\n",
       "        text-align: right;\n",
       "    }\n",
       "</style>\n",
       "<table border=\"1\" class=\"dataframe\">\n",
       "  <thead>\n",
       "    <tr style=\"text-align: right;\">\n",
       "      <th></th>\n",
       "      <th>Rating</th>\n",
       "      <th>lemmas</th>\n",
       "      <th>adjs_verbs</th>\n",
       "      <th>nouns</th>\n",
       "      <th>noun_phrases</th>\n",
       "      <th>adj_noun_phrases</th>\n",
       "      <th>entities</th>\n",
       "      <th>tokens</th>\n",
       "      <th>token_count</th>\n",
       "      <th>new_reviews</th>\n",
       "    </tr>\n",
       "  </thead>\n",
       "  <tbody>\n",
       "    <tr>\n",
       "      <th>0</th>\n",
       "      <td>5</td>\n",
       "      <td>[feel, lucky, find, use, phone, use, hard, pho...</td>\n",
       "      <td>[feel, lucky, find, hard, upgrade, sell, like,...</td>\n",
       "      <td>[phone, phone, line, son, year, thank, seller,...</td>\n",
       "      <td>[phone_line, thank_seller]</td>\n",
       "      <td>[hard_phone, hard_phone_line, old_one, recomme...</td>\n",
       "      <td>[]</td>\n",
       "      <td>[feel, lucky, found, used, phone, us, used, ha...</td>\n",
       "      <td>38</td>\n",
       "      <td>feel lucky found used phone us used hard phone...</td>\n",
       "    </tr>\n",
       "    <tr>\n",
       "      <th>1</th>\n",
       "      <td>4</td>\n",
       "      <td>[nice, phone, nice, grade, pantach, revue, cle...</td>\n",
       "      <td>[nice, nice, clean, easy, android, fantastic, ...</td>\n",
       "      <td>[phone, grade, pantach, revue, set, set, phone...</td>\n",
       "      <td>[grade_pantach]</td>\n",
       "      <td>[nice_phone, nice_grade, nice_grade_pantach, c...</td>\n",
       "      <td>[android/GPE]</td>\n",
       "      <td>[nice, phone, nice, grade, pantach, revue, cle...</td>\n",
       "      <td>24</td>\n",
       "      <td>nice phone nice grade pantach revue clean set ...</td>\n",
       "    </tr>\n",
       "    <tr>\n",
       "      <th>2</th>\n",
       "      <td>5</td>\n",
       "      <td>[pleased]</td>\n",
       "      <td>[pleased]</td>\n",
       "      <td>[]</td>\n",
       "      <td>[]</td>\n",
       "      <td>[]</td>\n",
       "      <td>[]</td>\n",
       "      <td>[pleased]</td>\n",
       "      <td>1</td>\n",
       "      <td>pleased</td>\n",
       "    </tr>\n",
       "  </tbody>\n",
       "</table>\n",
       "</div>"
      ],
      "text/plain": [
       "   Rating                                             lemmas  \\\n",
       "0       5  [feel, lucky, find, use, phone, use, hard, pho...   \n",
       "1       4  [nice, phone, nice, grade, pantach, revue, cle...   \n",
       "2       5                                          [pleased]   \n",
       "\n",
       "                                          adjs_verbs  \\\n",
       "0  [feel, lucky, find, hard, upgrade, sell, like,...   \n",
       "1  [nice, nice, clean, easy, android, fantastic, ...   \n",
       "2                                          [pleased]   \n",
       "\n",
       "                                               nouns  \\\n",
       "0  [phone, phone, line, son, year, thank, seller,...   \n",
       "1  [phone, grade, pantach, revue, set, set, phone...   \n",
       "2                                                 []   \n",
       "\n",
       "                 noun_phrases  \\\n",
       "0  [phone_line, thank_seller]   \n",
       "1             [grade_pantach]   \n",
       "2                          []   \n",
       "\n",
       "                                    adj_noun_phrases       entities  \\\n",
       "0  [hard_phone, hard_phone_line, old_one, recomme...             []   \n",
       "1  [nice_phone, nice_grade, nice_grade_pantach, c...  [android/GPE]   \n",
       "2                                                 []             []   \n",
       "\n",
       "                                              tokens  token_count  \\\n",
       "0  [feel, lucky, found, used, phone, us, used, ha...           38   \n",
       "1  [nice, phone, nice, grade, pantach, revue, cle...           24   \n",
       "2                                          [pleased]            1   \n",
       "\n",
       "                                         new_reviews  \n",
       "0  feel lucky found used phone us used hard phone...  \n",
       "1  nice phone nice grade pantach revue clean set ...  \n",
       "2                                            pleased  "
      ]
     },
     "execution_count": 2,
     "metadata": {},
     "output_type": "execute_result"
    }
   ],
   "source": [
    "new_df=pd.read_parquet('prepared_text.parquet.gzip', engine='pyarrow')\n",
    "new_df.head(3)"
   ]
  },
  {
   "cell_type": "markdown",
   "metadata": {},
   "source": [
    "#### Removing unecessary columns prior to modeling "
   ]
  },
  {
   "cell_type": "code",
   "execution_count": 3,
   "metadata": {},
   "outputs": [],
   "source": [
    "\n",
    "new_df =new_df[[\n",
    "    'Rating','new_reviews','tokens'\n",
    "]]"
   ]
  },
  {
   "cell_type": "code",
   "execution_count": 4,
   "metadata": {},
   "outputs": [
    {
     "name": "stdout",
     "output_type": "stream",
     "text": [
      "<class 'pandas.core.frame.DataFrame'>\n",
      "RangeIndex: 405669 entries, 0 to 405668\n",
      "Data columns (total 3 columns):\n",
      " #   Column       Non-Null Count   Dtype \n",
      "---  ------       --------------   ----- \n",
      " 0   Rating       405669 non-null  int64 \n",
      " 1   new_reviews  405669 non-null  object\n",
      " 2   tokens       405669 non-null  object\n",
      "dtypes: int64(1), object(2)\n",
      "memory usage: 9.3+ MB\n",
      "\n",
      "\n",
      "(405669, 3)\n"
     ]
    }
   ],
   "source": [
    "new_df.info()\n",
    "print('\\n')\n",
    "print(new_df.shape)"
   ]
  },
  {
   "cell_type": "markdown",
   "metadata": {},
   "source": [
    "#### Checking for Class Imbalance"
   ]
  },
  {
   "cell_type": "code",
   "execution_count": 5,
   "metadata": {},
   "outputs": [
    {
     "data": {
      "image/png": "[encoded data removed]",
      "text/plain": [
       "<Figure size 504x216 with 1 Axes>"
      ]
     },
     "metadata": {
      "needs_background": "light"
     },
     "output_type": "display_data"
    }
   ],
   "source": [
    "\n",
    "plt.figure(figsize=(7,3))\n",
    "sns.set(font_scale = 1.2)\n",
    "sns.countplot(x=\"Rating\", data=new_df,\n",
    "order = new_df['Rating'].value_counts().index)\n",
    "plt.title(\"Distribution of Reviews\")\n",
    "plt.xlabel(\"Ratings\")\n",
    "plt.ylabel(\"Count\")\n",
    "plt.show()"
   ]
  },
  {
   "cell_type": "markdown",
   "metadata": {},
   "source": [
    "#### Undersampling Majority class "
   ]
  },
  {
   "cell_type": "code",
   "execution_count": 6,
   "metadata": {},
   "outputs": [],
   "source": [
    "# undersampling 5-star reviews and oversampling other reviews \n",
    "five_stars = new_df[new_df['Rating'] == 5].sample(n=70000)\n",
    "non_five = new_df[new_df['Rating'] != 5 ]\n",
    "df_bal = pd.concat([five_stars,non_five],axis=0)"
   ]
  },
  {
   "cell_type": "code",
   "execution_count": 7,
   "metadata": {},
   "outputs": [
    {
     "data": {
      "image/png": "[encoded data removed]",
      "text/plain": [
       "<Figure size 504x216 with 1 Axes>"
      ]
     },
     "metadata": {},
     "output_type": "display_data"
    }
   ],
   "source": [
    "\n",
    "plt.figure(figsize=(7,3))\n",
    "sns.set(font_scale = 1.2)\n",
    "sns.countplot(x=\"Rating\", data=df_bal,\n",
    "order = df_bal['Rating'].value_counts().index)\n",
    "plt.title(\"Distribution of Reviews After Under-Sampling\")\n",
    "plt.xlabel(\"Ratings\")\n",
    "plt.ylabel(\"Count\")\n",
    "plt.show()"
   ]
  },
  {
   "cell_type": "markdown",
   "metadata": {},
   "source": [
    "## Step 2: Train-Test Split on Balanced Dataset"
   ]
  },
  {
   "cell_type": "code",
   "execution_count": 9,
   "metadata": {},
   "outputs": [
    {
     "name": "stdout",
     "output_type": "stream",
     "text": [
      "Size of Training Data  205997\n",
      "Size of Test Data  51500\n",
      "Distribution of classes in Training Data :\n"
     ]
    }
   ],
   "source": [
    "from sklearn.model_selection import train_test_split\n",
    "X_train, X_test, Y_train, Y_test = train_test_split(df_bal['new_reviews'],\n",
    "                                                       df_bal['Rating'],\n",
    "                                                        test_size=0.2,\n",
    "                                                        random_state=42,\n",
    "                                                        stratify=df_bal['Rating'])\n",
    "print ('Size of Training Data ', X_train.shape[0]) \n",
    "print ('Size of Test Data ', X_test.shape[0])\n",
    "print ('Distribution of classes in Training Data :')\n",
    "#print ('Positive Sentiment ', str(sum(Y_train == 1)/ len(Y_train) * 100.0))\n",
    "# print ('Negative Sentiment ', str(sum(Y_train == 0)/ len(Y_train) * 100.0))\n",
    "#print ('Distribution of classes in Testing Data :')\n",
    "#print ('Positive Sentiment ', str(sum(Y_test == 1)/ len(Y_test) * 100.0)) \n",
    "#print ('Negative Sentiment ', str(sum(Y_test == 0)/ len(Y_test) * 100.0))"
   ]
  },
  {
   "cell_type": "markdown",
   "metadata": {},
   "source": [
    "## Step 3: Text Vectorization"
   ]
  },
  {
   "cell_type": "markdown",
   "metadata": {},
   "source": [
    "##### \tUsing TF-IDF vectorization to create the vectorized representation:"
   ]
  },
  {
   "cell_type": "code",
   "execution_count": 10,
   "metadata": {},
   "outputs": [],
   "source": [
    "def identity_tokenizer(text):\n",
    "  return text\n",
    "\n",
    "\n",
    "tfidf = TfidfVectorizer(tokenizer=identity_tokenizer,min_df = 10,ngram_range=(1,2),lowercase=False)\n",
    "X_train_tf = tfidf.fit_transform(X_train)\n",
    "X_test_tf = tfidf.transform(X_test)"
   ]
  },
  {
   "cell_type": "markdown",
   "metadata": {},
   "source": [
    "## Step 4: Training the Machine Learning Models"
   ]
  },
  {
   "cell_type": "markdown",
   "metadata": {},
   "source": [
    "#### Model : Linear SVC"
   ]
  },
  {
   "cell_type": "code",
   "execution_count": 11,
   "metadata": {},
   "outputs": [
    {
     "data": {
      "text/html": [
       "<style>#sk-container-id-1 {color: black;background-color: white;}#sk-container-id-1 pre{padding: 0;}#sk-container-id-1 div.sk-toggleable {background-color: white;}#sk-container-id-1 label.sk-toggleable__label {cursor: pointer;display: block;width: 100%;margin-bottom: 0;padding: 0.3em;box-sizing: border-box;text-align: center;}#sk-container-id-1 label.sk-toggleable__label-arrow:before {content: \"▸\";float: left;margin-right: 0.25em;color: #696969;}#sk-container-id-1 label.sk-toggleable__label-arrow:hover:before {color: black;}#sk-container-id-1 div.sk-estimator:hover label.sk-toggleable__label-arrow:before {color: black;}#sk-container-id-1 div.sk-toggleable__content {max-height: 0;max-width: 0;overflow: hidden;text-align: left;background-color: #f0f8ff;}#sk-container-id-1 div.sk-toggleable__content pre {margin: 0.2em;color: black;border-radius: 0.25em;background-color: #f0f8ff;}#sk-container-id-1 input.sk-toggleable__control:checked~div.sk-toggleable__content {max-height: 200px;max-width: 100%;overflow: auto;}#sk-container-id-1 input.sk-toggleable__control:checked~label.sk-toggleable__label-arrow:before {content: \"▾\";}#sk-container-id-1 div.sk-estimator input.sk-toggleable__control:checked~label.sk-toggleable__label {background-color: #d4ebff;}#sk-container-id-1 div.sk-label input.sk-toggleable__control:checked~label.sk-toggleable__label {background-color: #d4ebff;}#sk-container-id-1 input.sk-hidden--visually {border: 0;clip: rect(1px 1px 1px 1px);clip: rect(1px, 1px, 1px, 1px);height: 1px;margin: -1px;overflow: hidden;padding: 0;position: absolute;width: 1px;}#sk-container-id-1 div.sk-estimator {font-family: monospace;background-color: #f0f8ff;border: 1px dotted black;border-radius: 0.25em;box-sizing: border-box;margin-bottom: 0.5em;}#sk-container-id-1 div.sk-estimator:hover {background-color: #d4ebff;}#sk-container-id-1 div.sk-parallel-item::after {content: \"\";width: 100%;border-bottom: 1px solid gray;flex-grow: 1;}#sk-container-id-1 div.sk-label:hover label.sk-toggleable__label {background-color: #d4ebff;}#sk-container-id-1 div.sk-serial::before {content: \"\";position: absolute;border-left: 1px solid gray;box-sizing: border-box;top: 0;bottom: 0;left: 50%;z-index: 0;}#sk-container-id-1 div.sk-serial {display: flex;flex-direction: column;align-items: center;background-color: white;padding-right: 0.2em;padding-left: 0.2em;position: relative;}#sk-container-id-1 div.sk-item {position: relative;z-index: 1;}#sk-container-id-1 div.sk-parallel {display: flex;align-items: stretch;justify-content: center;background-color: white;position: relative;}#sk-container-id-1 div.sk-item::before, #sk-container-id-1 div.sk-parallel-item::before {content: \"\";position: absolute;border-left: 1px solid gray;box-sizing: border-box;top: 0;bottom: 0;left: 50%;z-index: -1;}#sk-container-id-1 div.sk-parallel-item {display: flex;flex-direction: column;z-index: 1;position: relative;background-color: white;}#sk-container-id-1 div.sk-parallel-item:first-child::after {align-self: flex-end;width: 50%;}#sk-container-id-1 div.sk-parallel-item:last-child::after {align-self: flex-start;width: 50%;}#sk-container-id-1 div.sk-parallel-item:only-child::after {width: 0;}#sk-container-id-1 div.sk-dashed-wrapped {border: 1px dashed gray;margin: 0 0.4em 0.5em 0.4em;box-sizing: border-box;padding-bottom: 0.4em;background-color: white;}#sk-container-id-1 div.sk-label label {font-family: monospace;font-weight: bold;display: inline-block;line-height: 1.2em;}#sk-container-id-1 div.sk-label-container {text-align: center;}#sk-container-id-1 div.sk-container {/* jupyter's `normalize.less` sets `[hidden] { display: none; }` but bootstrap.min.css set `[hidden] { display: none !important; }` so we also need the `!important` here to be able to override the default hidden behavior on the sphinx rendered scikit-learn.org. See: https://github.com/scikit-learn/scikit-learn/issues/21755 */display: inline-block !important;position: relative;}#sk-container-id-1 div.sk-text-repr-fallback {display: none;}</style><div id=\"sk-container-id-1\" class=\"sk-top-container\"><div class=\"sk-text-repr-fallback\"><pre>LinearSVC(random_state=0, tol=1e-05)</pre><b>In a Jupyter environment, please rerun this cell to show the HTML representation or trust the notebook. <br />On GitHub, the HTML representation is unable to render, please try loading this page with nbviewer.org.</b></div><div class=\"sk-container\" hidden><div class=\"sk-item\"><div class=\"sk-estimator sk-toggleable\"><input class=\"sk-toggleable__control sk-hidden--visually\" id=\"sk-estimator-id-1\" type=\"checkbox\" checked><label for=\"sk-estimator-id-1\" class=\"sk-toggleable__label sk-toggleable__label-arrow\">LinearSVC</label><div class=\"sk-toggleable__content\"><pre>LinearSVC(random_state=0, tol=1e-05)</pre></div></div></div></div></div>"
      ],
      "text/plain": [
       "LinearSVC(random_state=0, tol=1e-05)"
      ]
     },
     "execution_count": 11,
     "metadata": {},
     "output_type": "execute_result"
    }
   ],
   "source": [
    "\n",
    "model_svc = LinearSVC(random_state=0, tol=1e-5)\n",
    "model_svc.fit(X_train_tf, Y_train)"
   ]
  },
  {
   "cell_type": "markdown",
   "metadata": {},
   "source": [
    " ## Step 5 : Model Evaluation"
   ]
  },
  {
   "cell_type": "code",
   "execution_count": 12,
   "metadata": {},
   "outputs": [
    {
     "name": "stdout",
     "output_type": "stream",
     "text": [
      "Accuracy Score  -  0.5506407766990291\n",
      "              precision    recall  f1-score   support\n",
      "\n",
      "           1       0.57      0.87      0.69     14275\n",
      "           2       0.38      0.02      0.03      4907\n",
      "           3       0.40      0.08      0.13      6277\n",
      "           4       0.45      0.44      0.44     12041\n",
      "           5       0.62      0.72      0.67     14000\n",
      "\n",
      "    accuracy                           0.55     51500\n",
      "   macro avg       0.48      0.42      0.39     51500\n",
      "weighted avg       0.51      0.55      0.49     51500\n",
      "\n"
     ]
    }
   ],
   "source": [
    "Y_pred_svc = model_svc.predict(X_test_tf)\n",
    "print ('Accuracy Score  - ', accuracy_score(Y_test, Y_pred_svc)) \n",
    "#print ('ROC-AUC Score - ', roc_auc_score(Y_test, Y_pred_svc))\n",
    "print(classification_report(Y_test, Y_pred_svc))"
   ]
  },
  {
   "cell_type": "markdown",
   "metadata": {},
   "source": []
  },
  {
   "cell_type": "markdown",
   "metadata": {},
   "source": [
    "### Baseline Model Evaluation"
   ]
  },
  {
   "cell_type": "code",
   "execution_count": 13,
   "metadata": {},
   "outputs": [
    {
     "name": "stdout",
     "output_type": "stream",
     "text": [
      "Accuracy Score -  0.23135922330097086\n"
     ]
    }
   ],
   "source": [
    "clf_baseline = DummyClassifier(strategy='stratified')\n",
    "clf_baseline.fit(X_train, Y_train)\n",
    "Y_pred_baseline = clf_baseline.predict(X_test)\n",
    "print ('Accuracy Score - ', accuracy_score(Y_test, Y_pred_baseline))\n"
   ]
  },
  {
   "cell_type": "markdown",
   "metadata": {},
   "source": [
    "### Performing Hyperparameter Tuning with Grid Search"
   ]
  },
  {
   "cell_type": "code",
   "execution_count": 14,
   "metadata": {},
   "outputs": [
    {
     "name": "stdout",
     "output_type": "stream",
     "text": [
      "Best alpha parameter identified by grid search  {'model__loss': 'hinge', 'model__max_iter': 10000, 'model__penalty': 'l2', 'tfidf__min_df': 5, 'tfidf__ngram_range': (1, 6)}\n",
      "Best result identified by grid search  0.5797621233101519\n"
     ]
    }
   ],
   "source": [
    "training_pipeline = Pipeline(\n",
    "        steps=[('tfidf', TfidfVectorizer(stop_words=\"english\")),\n",
    "                ('model', LinearSVC(random_state=42, tol=1e-5))])\n",
    "grid_param = [{\n",
    "        'tfidf__min_df': [5, 10],\n",
    "        'tfidf__ngram_range': [(1, 3), (1, 6)],\n",
    "        'model__penalty': ['l2'],\n",
    "        'model__loss': ['hinge'],\n",
    "        'model__max_iter': [10000]\n",
    "},{\n",
    "'tfidf__min_df': [5, 10], 'tfidf__ngram_range': [(1, 3), (1, 6)], 'model__C': [1, 10],\n",
    "'model__tol': [1e-2, 1e-3]\n",
    "}]\n",
    "gridSearchProcessor = GridSearchCV(estimator=training_pipeline,\n",
    "                                       param_grid=grid_param,\n",
    "                                       cv=5)\n",
    "gridSearchProcessor.fit(df_bal['new_reviews'], df_bal['Rating'])\n",
    "best_params = gridSearchProcessor.best_params_\n",
    "\n",
    "print(\"Best alpha parameter identified by grid search \", best_params)\n",
    "best_result = gridSearchProcessor.best_score_\n",
    "print(\"Best result identified by grid search \", best_result)                "
   ]
  },
  {
   "cell_type": "code",
   "execution_count": 15,
   "metadata": {},
   "outputs": [
    {
     "data": {
      "text/html": [
       "<div>\n",
       "<style scoped>\n",
       "    .dataframe tbody tr th:only-of-type {\n",
       "        vertical-align: middle;\n",
       "    }\n",
       "\n",
       "    .dataframe tbody tr th {\n",
       "        vertical-align: top;\n",
       "    }\n",
       "\n",
       "    .dataframe thead th {\n",
       "        text-align: right;\n",
       "    }\n",
       "</style>\n",
       "<table border=\"1\" class=\"dataframe\">\n",
       "  <thead>\n",
       "    <tr style=\"text-align: right;\">\n",
       "      <th></th>\n",
       "      <th>rank_test_score</th>\n",
       "      <th>mean_test_score</th>\n",
       "      <th>params</th>\n",
       "    </tr>\n",
       "  </thead>\n",
       "  <tbody>\n",
       "    <tr>\n",
       "      <th>1</th>\n",
       "      <td>1</td>\n",
       "      <td>0.579762</td>\n",
       "      <td>{'model__loss': 'hinge', 'model__max_iter': 10...</td>\n",
       "    </tr>\n",
       "    <tr>\n",
       "      <th>0</th>\n",
       "      <td>2</td>\n",
       "      <td>0.577976</td>\n",
       "      <td>{'model__loss': 'hinge', 'model__max_iter': 10...</td>\n",
       "    </tr>\n",
       "    <tr>\n",
       "      <th>5</th>\n",
       "      <td>3</td>\n",
       "      <td>0.576752</td>\n",
       "      <td>{'model__C': 1, 'model__tol': 0.01, 'tfidf__mi...</td>\n",
       "    </tr>\n",
       "    <tr>\n",
       "      <th>9</th>\n",
       "      <td>4</td>\n",
       "      <td>0.576737</td>\n",
       "      <td>{'model__C': 1, 'model__tol': 0.001, 'tfidf__m...</td>\n",
       "    </tr>\n",
       "    <tr>\n",
       "      <th>8</th>\n",
       "      <td>5</td>\n",
       "      <td>0.576139</td>\n",
       "      <td>{'model__C': 1, 'model__tol': 0.001, 'tfidf__m...</td>\n",
       "    </tr>\n",
       "  </tbody>\n",
       "</table>\n",
       "</div>"
      ],
      "text/plain": [
       "   rank_test_score  mean_test_score  \\\n",
       "1                1         0.579762   \n",
       "0                2         0.577976   \n",
       "5                3         0.576752   \n",
       "9                4         0.576737   \n",
       "8                5         0.576139   \n",
       "\n",
       "                                              params  \n",
       "1  {'model__loss': 'hinge', 'model__max_iter': 10...  \n",
       "0  {'model__loss': 'hinge', 'model__max_iter': 10...  \n",
       "5  {'model__C': 1, 'model__tol': 0.01, 'tfidf__mi...  \n",
       "9  {'model__C': 1, 'model__tol': 0.001, 'tfidf__m...  \n",
       "8  {'model__C': 1, 'model__tol': 0.001, 'tfidf__m...  "
      ]
     },
     "execution_count": 15,
     "metadata": {},
     "output_type": "execute_result"
    }
   ],
   "source": [
    "gridsearch_results = pd.DataFrame(gridSearchProcessor.cv_results_)\n",
    "gridsearch_results[['rank_test_score', 'mean_test_score',\n",
    "                        'params']].sort_values(by=['rank_test_score'])[:5]"
   ]
  },
  {
   "cell_type": "code",
   "execution_count": 20,
   "metadata": {},
   "outputs": [],
   "source": [
    "best_chosen_model=gridSearchProcessor.best_estimator_"
   ]
  },
  {
   "cell_type": "markdown",
   "metadata": {},
   "source": [
    "#### Model Evaluation After Hyper-parameter Tuning"
   ]
  },
  {
   "cell_type": "code",
   "execution_count": 22,
   "metadata": {},
   "outputs": [
    {
     "name": "stdout",
     "output_type": "stream",
     "text": [
      "Accuracy Score -  0.8856116504854369\n",
      "              precision    recall  f1-score   support\n",
      "\n",
      "           1       0.90      0.98      0.94     14275\n",
      "           2       0.98      0.81      0.89      4907\n",
      "           3       0.96      0.82      0.88      6277\n",
      "           4       0.83      0.85      0.84     12041\n",
      "           5       0.86      0.88      0.87     14000\n",
      "\n",
      "    accuracy                           0.89     51500\n",
      "   macro avg       0.91      0.87      0.88     51500\n",
      "weighted avg       0.89      0.89      0.89     51500\n",
      "\n"
     ]
    }
   ],
   "source": [
    "\n",
    "Y_pred_bestmodel = best_chosen_model.predict(X_test)\n",
    "print('Accuracy Score - ', accuracy_score(Y_test, Y_pred_bestmodel))\n",
    "print(classification_report(Y_test, Y_pred_bestmodel))"
   ]
  }
 ],
 "metadata": {
  "interpreter": {
   "hash": "60ba96c67dacd59ff32938a5ed53bed33b53ea2f963a0f8bbd5a1726d3f202b9"
  },
  "kernelspec": {
   "display_name": "Python 3.8.8 ('Desktop')",
   "language": "python",
   "name": "python3"
  },
  "language_info": {
   "codemirror_mode": {
    "name": "ipython",
    "version": 3
   },
   "file_extension": ".py",
   "mimetype": "text/x-python",
   "name": "python",
   "nbconvert_exporter": "python",
   "pygments_lexer": "ipython3",
   "version": "3.8.8"
  },
  "orig_nbformat": 4
 },
 "nbformat": 4,
 "nbformat_minor": 2
}
