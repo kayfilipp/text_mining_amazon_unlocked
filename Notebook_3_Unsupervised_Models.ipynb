{
 "cells": [
  {
   "cell_type": "markdown",
   "id": "0cd8029b",
   "metadata": {},
   "source": [
    "# Unsupervised Modeling of Reviews\n",
    "<p style='color:navy'><b>\n",
    "    In this section, we ignore the <i> A Priori</i> classes that our review dataset belongs to and \n",
    "    created two unsupervised models - LDA and NMF - and see how the clusters we generated compare \n",
    "    to the classes the data belongs to.\n",
    "</b></p>"
   ]
  },
  {
   "cell_type": "markdown",
   "id": "b05f2ff3",
   "metadata": {},
   "source": [
    "## Table of Contents\n",
    "<ol>\n",
    "    <li>Packages</li>\n",
    "    <li>Parquet Ingestion</li>\n",
    "    <li>Recyclable Functionality</li>\n",
    "    <li><b>NMF</b> - Non-negative matrix factorization</li>\n",
    "    <li><b>NMF</b> - Full Text</li>\n",
    "    <li><b>NMF</b> - Adjectives/Verbs </li>\n",
    "    <li><b>NMF</b> - Adjectives/Nouns</li>\n",
    "    <li><b>LDA</b> - Latent Dirichlet Allocation</li>\n",
    "    <li><b>LDA</b> - Full Text</li>\n",
    "    <li><b>LDA</b> - Adjectives/Verbs </li>\n",
    "    <li><b>LDA</b> - Adjectives/Nouns</li>\n",
    "    <li><b>LDA</b> - Visualization and Comparrison with Apriori Groups</li>\n",
    "    <li>Closing Remarks</li>\n",
    "</ol>"
   ]
  },
  {
   "cell_type": "markdown",
   "id": "367b768a",
   "metadata": {},
   "source": [
    "### Packages"
   ]
  },
  {
   "cell_type": "code",
   "execution_count": 1,
   "id": "29400ca8",
   "metadata": {},
   "outputs": [],
   "source": [
    "import pandas as pd \n",
    "from sklearn.feature_extraction.text import TfidfVectorizer\n",
    "from spacy.lang.en.stop_words import STOP_WORDS as stopwords\n",
    "import matplotlib.pyplot as plt\n",
    "from imblearn.over_sampling import RandomOverSampler\n",
    "from sklearn.decomposition import NMF\n",
    "from collections import Counter, defaultdict\n",
    "import warnings #turn off warnings\n",
    "warnings.filterwarnings(\"ignore\", category=UserWarning) \n",
    "from sklearn.feature_extraction.text import CountVectorizer\n",
    "from sklearn.decomposition import LatentDirichletAllocation\n",
    "\n",
    "#GENSIM MODELING - LDA AND NMF\n",
    "from gensim.models.nmf import Nmf\n",
    "from gensim.models import LdaModel\n",
    "from gensim.models import TfidfModel\n",
    "from gensim.corpora import Dictionary\n",
    "from IPython.display import Image"
   ]
  },
  {
   "cell_type": "markdown",
   "id": "d8bb4e3d",
   "metadata": {},
   "source": [
    "### Parquet Ingestion"
   ]
  },
  {
   "cell_type": "code",
   "execution_count": 44,
   "id": "4d38c28a",
   "metadata": {},
   "outputs": [],
   "source": [
    "df = pd.read_parquet('prepared_text.parquet.gzip')"
   ]
  },
  {
   "cell_type": "code",
   "execution_count": 45,
   "id": "fcd117b3",
   "metadata": {
    "scrolled": true
   },
   "outputs": [
    {
     "data": {
      "text/html": [
       "<div>\n",
       "<style scoped>\n",
       "    .dataframe tbody tr th:only-of-type {\n",
       "        vertical-align: middle;\n",
       "    }\n",
       "\n",
       "    .dataframe tbody tr th {\n",
       "        vertical-align: top;\n",
       "    }\n",
       "\n",
       "    .dataframe thead th {\n",
       "        text-align: right;\n",
       "    }\n",
       "</style>\n",
       "<table border=\"1\" class=\"dataframe\">\n",
       "  <thead>\n",
       "    <tr style=\"text-align: right;\">\n",
       "      <th></th>\n",
       "      <th>Rating</th>\n",
       "      <th>lemmas</th>\n",
       "      <th>adjs_verbs</th>\n",
       "      <th>nouns</th>\n",
       "      <th>noun_phrases</th>\n",
       "      <th>adj_noun_phrases</th>\n",
       "      <th>entities</th>\n",
       "      <th>tokens</th>\n",
       "      <th>token_count</th>\n",
       "      <th>text</th>\n",
       "    </tr>\n",
       "  </thead>\n",
       "  <tbody>\n",
       "    <tr>\n",
       "      <th>111155</th>\n",
       "      <td>1</td>\n",
       "      <td>[keep, freeze, keep, glitching, suppose, chris...</td>\n",
       "      <td>[keep, freeze, keep, suppose, happy]</td>\n",
       "      <td>[glitching, christmas, gift, wife]</td>\n",
       "      <td>[gift_wife]</td>\n",
       "      <td>[]</td>\n",
       "      <td>[]</td>\n",
       "      <td>[keeps, freezing, keeps, glitching, suppose, c...</td>\n",
       "      <td>10</td>\n",
       "      <td>keeps freezing keeps glitching suppose christm...</td>\n",
       "    </tr>\n",
       "    <tr>\n",
       "      <th>374738</th>\n",
       "      <td>4</td>\n",
       "      <td>[buy, phone, last, month, honest, first, exper...</td>\n",
       "      <td>[buy, honest, take, familiar, android, operatt...</td>\n",
       "      <td>[phone, month, experience, smartphone, day, op...</td>\n",
       "      <td>[experience_smartphone]</td>\n",
       "      <td>[last_month, first_experience, first_experienc...</td>\n",
       "      <td>[]</td>\n",
       "      <td>[bought, phone, last, month, honest, first, ex...</td>\n",
       "      <td>21</td>\n",
       "      <td>bought phone last month honest first experienc...</td>\n",
       "    </tr>\n",
       "    <tr>\n",
       "      <th>229087</th>\n",
       "      <td>3</td>\n",
       "      <td>[buy, husband, week, thus, far, like, shall, s...</td>\n",
       "      <td>[buy, come, hold]</td>\n",
       "      <td>[husband, week, like, day, rereview]</td>\n",
       "      <td>[husband_week]</td>\n",
       "      <td>[]</td>\n",
       "      <td>[]</td>\n",
       "      <td>[bought, husband, week, thus, far, likes, shal...</td>\n",
       "      <td>12</td>\n",
       "      <td>bought husband week thus far likes shall see d...</td>\n",
       "    </tr>\n",
       "  </tbody>\n",
       "</table>\n",
       "</div>"
      ],
      "text/plain": [
       "        Rating                                             lemmas  \\\n",
       "111155       1  [keep, freeze, keep, glitching, suppose, chris...   \n",
       "374738       4  [buy, phone, last, month, honest, first, exper...   \n",
       "229087       3  [buy, husband, week, thus, far, like, shall, s...   \n",
       "\n",
       "                                               adjs_verbs  \\\n",
       "111155               [keep, freeze, keep, suppose, happy]   \n",
       "374738  [buy, honest, take, familiar, android, operatt...   \n",
       "229087                                  [buy, come, hold]   \n",
       "\n",
       "                                                    nouns  \\\n",
       "111155                 [glitching, christmas, gift, wife]   \n",
       "374738  [phone, month, experience, smartphone, day, op...   \n",
       "229087               [husband, week, like, day, rereview]   \n",
       "\n",
       "                   noun_phrases  \\\n",
       "111155              [gift_wife]   \n",
       "374738  [experience_smartphone]   \n",
       "229087           [husband_week]   \n",
       "\n",
       "                                         adj_noun_phrases entities  \\\n",
       "111155                                                 []       []   \n",
       "374738  [last_month, first_experience, first_experienc...       []   \n",
       "229087                                                 []       []   \n",
       "\n",
       "                                                   tokens  token_count  \\\n",
       "111155  [keeps, freezing, keeps, glitching, suppose, c...           10   \n",
       "374738  [bought, phone, last, month, honest, first, ex...           21   \n",
       "229087  [bought, husband, week, thus, far, likes, shal...           12   \n",
       "\n",
       "                                                     text  \n",
       "111155  keeps freezing keeps glitching suppose christm...  \n",
       "374738  bought phone last month honest first experienc...  \n",
       "229087  bought husband week thus far likes shall see d...  "
      ]
     },
     "execution_count": 45,
     "metadata": {},
     "output_type": "execute_result"
    }
   ],
   "source": [
    "df = df.rename({\"new_reviews\":\"text\"},axis=1)\n",
    "df.sample(3)"
   ]
  },
  {
   "cell_type": "markdown",
   "id": "49b88c59",
   "metadata": {},
   "source": [
    "as a result of our data cleaning pipeline, much of the groundwork needed for unsupervised analysis has already been laid out for us, primarily in the realm of tokenization. Based on the performance of our LDA and NMF models, we may consider modifying the text we pass to either model by omitting certain parts of speech or entities to improve model performance. "
   ]
  },
  {
   "cell_type": "markdown",
   "id": "1991edd8",
   "metadata": {},
   "source": [
    "### Creating Recyclable Functionality for Modeling\n",
    "this notebook utilizes the **Gensim** library for modeling LDA and NMF. We can reduce the number of lines of code we write significantly by making this process general-form and creating a function that takes in a data series and prints out topics and their coherence scores. **This also gives us the benefit of having real-time evaluation of model performance.**"
   ]
  },
  {
   "cell_type": "code",
   "execution_count": 36,
   "id": "c43100ff",
   "metadata": {},
   "outputs": [],
   "source": [
    "def display_topics_gensim(model):\n",
    "    for topic in range(0, model.num_topics):\n",
    "        print(\"\\nTopic %02d\" % topic)\n",
    "        for (word, prob) in model.show_topic(topic, topn=5):\n",
    "            print(\"  %s (%2.2f)\" % (word, prob))"
   ]
  },
  {
   "cell_type": "code",
   "execution_count": 82,
   "id": "7956e80d",
   "metadata": {},
   "outputs": [],
   "source": [
    "def get_model_gensim(tokens,model_type,topics=5):\n",
    "    \n",
    "    if model_type not in ['LDA','NMF']:\n",
    "        print('Not a model - please select from LDA or NMF.')\n",
    "        return\n",
    "    \n",
    "    #data prep\n",
    "    dict_gensim = Dictionary(tokens)\n",
    "    dict_gensim.filter_extremes(no_below=5, no_above=0.7)\n",
    "    bow_gensim = [dict_gensim.doc2bow(t) for t in tokens]\n",
    "\n",
    "    #init placeholder for model\n",
    "    this_model = None\n",
    "    \n",
    "    if model_type == 'LDA':\n",
    "        this_model = LdaModel(\n",
    "            corpus=bow_gensim, \n",
    "            id2word=dict_gensim,\n",
    "            chunksize=2000, \n",
    "            alpha='auto', \n",
    "            eta='auto', \n",
    "            iterations=400, \n",
    "            num_topics=topics,\n",
    "            passes=20, \n",
    "            eval_every=None, \n",
    "            random_state=42\n",
    "        )\n",
    "        \n",
    "    if model_type == 'NMF':\n",
    "        #conduct a TF-IDF transformation for NMF\n",
    "        tfidf_gensim = TfidfModel(bow_gensim)\n",
    "        vectors_gensim = tfidf_gensim[bow_gensim]\n",
    "        \n",
    "        #run model\n",
    "        this_model = Nmf(\n",
    "            vectors_gensim, \n",
    "            num_topics=topics,\n",
    "            id2word=dict_gensim, \n",
    "            kappa=0.1, \n",
    "            eval_every=5\n",
    "        )\n",
    "        \n",
    "    #print out topic words\n",
    "    print(f'Topics for {model_type}')\n",
    "    display_topics_gensim(this_model)\n",
    "\n",
    "    #print out coherence score\n",
    "    score = CoherenceModel(\n",
    "        model=this_model,\n",
    "        texts=tokens, \n",
    "        dictionary=dict_gensim, \n",
    "        coherence='u_mass'\n",
    "    )\n",
    "    this_coh_score = score.get_coherence()\n",
    "    print(f'Coherence score for {model_type}: {this_coh_score}')\n",
    "    \n",
    "    return (this_model)\n"
   ]
  },
  {
   "attachments": {},
   "cell_type": "markdown",
   "id": "993ddbaa",
   "metadata": {},
   "source": [
    "### Nonnegative Matrix Factorization (NMF) with Gensim\n",
    "The easiest way to find a latent structure in a doc matrix is by factorizing it and seeing what's left over. Because a TFIDF matrix always has positive values, we can represent a document matrix as the product of two smaller matrices: V = W * H, where **W has the same number of rows as V and represent the topic mapping for each document, and H shows how the topics are constituted of features.**"
   ]
  },
  {
   "cell_type": "code",
   "execution_count": 2,
   "id": "491343e4",
   "metadata": {},
   "outputs": [
    {
     "data": {
      "image/jpeg": "[encoded data removed]",
      "text/plain": [
       "<IPython.core.display.Image object>"
      ]
     },
     "execution_count": 2,
     "metadata": {},
     "output_type": "execute_result"
    }
   ],
   "source": [
    "Image(filename='nmf.jpg') "
   ]
  },
  {
   "cell_type": "markdown",
   "id": "0553bef5",
   "metadata": {},
   "source": [
    "we begin by running an NMF analysis for four different types of data - the full review text, only the verb-adjectives, adjective_nouns, and then a combination of the latter two."
   ]
  },
  {
   "cell_type": "markdown",
   "id": "6e4af22f",
   "metadata": {},
   "source": [
    "### NMF With Full Text"
   ]
  },
  {
   "cell_type": "code",
   "execution_count": 48,
   "id": "0408b14a",
   "metadata": {},
   "outputs": [
    {
     "name": "stdout",
     "output_type": "stream",
     "text": [
      "Topics for NMF\n",
      "\n",
      "Topic 00\n",
      "  like (0.03)\n",
      "  price (0.02)\n",
      "  work (0.01)\n",
      "  thanks (0.01)\n",
      "  awesome (0.01)\n",
      "\n",
      "Topic 01\n",
      "  excellent (0.13)\n",
      "  product (0.08)\n",
      "  perfect (0.06)\n",
      "  nice (0.05)\n",
      "  ok (0.03)\n",
      "\n",
      "Topic 02\n",
      "  good (0.71)\n",
      "  far (0.01)\n",
      "  condition (0.01)\n",
      "  phone (0.01)\n",
      "  quality (0.01)\n",
      "\n",
      "Topic 03\n",
      "  great (0.30)\n",
      "  love (0.14)\n",
      "  works (0.11)\n",
      "  phone (0.05)\n",
      "  condition (0.03)\n",
      "\n",
      "Topic 04\n",
      "  phone (0.01)\n",
      "  excelente (0.01)\n",
      "  new (0.01)\n",
      "  one (0.01)\n",
      "  battery (0.01)\n",
      "Coherence score for NMF: -3.955640379099367\n"
     ]
    }
   ],
   "source": [
    "get_model_gensim(df['tokens'],'NMF')"
   ]
  },
  {
   "cell_type": "markdown",
   "id": "47660c69",
   "metadata": {},
   "source": [
    "### NMF With Verbs/Adjectives only"
   ]
  },
  {
   "cell_type": "code",
   "execution_count": 49,
   "id": "313dfc86",
   "metadata": {},
   "outputs": [
    {
     "name": "stdout",
     "output_type": "stream",
     "text": [
      "Topics for NMF\n",
      "\n",
      "Topic 00\n",
      "  good (0.69)\n",
      "  love (0.08)\n",
      "  nice (0.02)\n",
      "  low (0.01)\n",
      "  fast (0.00)\n",
      "\n",
      "Topic 01\n",
      "  good (0.91)\n",
      "  recommend (0.01)\n",
      "  thank (0.00)\n",
      "  slow (0.00)\n",
      "  overall (0.00)\n",
      "\n",
      "Topic 02\n",
      "  new (0.02)\n",
      "  buy (0.02)\n",
      "  perfect (0.02)\n",
      "  love (0.02)\n",
      "  come (0.01)\n",
      "\n",
      "Topic 03\n",
      "  great (0.42)\n",
      "  work (0.22)\n",
      "  fast (0.01)\n",
      "  awesome (0.01)\n",
      "  easy (0.01)\n",
      "\n",
      "Topic 04\n",
      "  excellent (0.61)\n",
      "  nice (0.03)\n",
      "  recommend (0.02)\n",
      "  thank (0.01)\n",
      "  fast (0.00)\n",
      "Coherence score for NMF: -4.730610952079627\n"
     ]
    }
   ],
   "source": [
    "get_model_gensim(df['adjs_verbs'],'NMF')"
   ]
  },
  {
   "cell_type": "markdown",
   "id": "19c97ae6",
   "metadata": {},
   "source": [
    "### NMF With Adjectives/Noun Phrases Only"
   ]
  },
  {
   "cell_type": "code",
   "execution_count": 51,
   "id": "3688f910",
   "metadata": {},
   "outputs": [
    {
     "name": "stdout",
     "output_type": "stream",
     "text": [
      "Topics for NMF\n",
      "\n",
      "Topic 00\n",
      "  good_condition (0.10)\n",
      "  great_product (0.07)\n",
      "  good_product (0.04)\n",
      "  excellent_product (0.04)\n",
      "  excellent_condition (0.03)\n",
      "\n",
      "Topic 01\n",
      "  good_phone (0.23)\n",
      "  good_phone_price (0.01)\n",
      "  easy_use (0.00)\n",
      "  perfect_condition (0.00)\n",
      "  excellent_phone (0.00)\n",
      "\n",
      "Topic 02\n",
      "  great_phone (0.23)\n",
      "  great_phone_price (0.01)\n",
      "  great_phone_love (0.01)\n",
      "  excellent_phone (0.00)\n",
      "  easy_use (0.00)\n",
      "\n",
      "Topic 03\n",
      "  sim_card (0.09)\n",
      "  new_phone (0.08)\n",
      "  easy_use (0.00)\n",
      "  unlocked_phone (0.00)\n",
      "  sim_card_phone (0.00)\n",
      "\n",
      "Topic 04\n",
      "  nice_phone (0.12)\n",
      "  great_condition (0.05)\n",
      "  great_price (0.05)\n",
      "  excellent_product (0.02)\n",
      "  excellent_phone (0.01)\n",
      "Coherence score for NMF: -6.638012922890771\n"
     ]
    }
   ],
   "source": [
    "get_model_gensim(df['adj_noun_phrases'],'NMF')"
   ]
  },
  {
   "cell_type": "markdown",
   "id": "7561affa",
   "metadata": {},
   "source": [
    "### NMF With Verbs/Adjs + Adjs/Nouns Phrases"
   ]
  },
  {
   "cell_type": "code",
   "execution_count": 60,
   "id": "784e3b5c",
   "metadata": {
    "scrolled": false
   },
   "outputs": [
    {
     "name": "stdout",
     "output_type": "stream",
     "text": [
      "Topics for NMF\n",
      "\n",
      "Topic 00\n",
      "  excellent (0.43)\n",
      "  excellent_product (0.05)\n",
      "  excellent_phone (0.02)\n",
      "  excellent_condition (0.01)\n",
      "  recommend (0.01)\n",
      "\n",
      "Topic 01\n",
      "  love (0.16)\n",
      "  buy (0.05)\n",
      "  nice (0.05)\n",
      "  perfect (0.02)\n",
      "  nice_phone (0.02)\n",
      "\n",
      "Topic 02\n",
      "  great (0.19)\n",
      "  work (0.18)\n",
      "  great_phone (0.07)\n",
      "  great_product (0.02)\n",
      "  great_price (0.01)\n",
      "\n",
      "Topic 03\n",
      "  new (0.02)\n",
      "  come (0.01)\n",
      "  get (0.01)\n",
      "  happy (0.01)\n",
      "  look (0.01)\n",
      "\n",
      "Topic 04\n",
      "  good (0.37)\n",
      "  good_phone (0.05)\n",
      "  good_product (0.02)\n",
      "  good_price (0.01)\n",
      "  good_condition (0.01)\n",
      "Coherence score for NMF: -5.281283329510645\n"
     ]
    }
   ],
   "source": [
    "adj_noun_verbs = df.apply(lambda x: (x.adj_noun_phrases.tolist() + x.adjs_verbs.tolist()) , axis=1)\n",
    "get_model_gensim(adj_noun_verbs,'NMF')"
   ]
  },
  {
   "cell_type": "markdown",
   "id": "ff86ecff",
   "metadata": {},
   "source": [
    "#### Final Remarks on NMF:\n",
    "The best performing model was the full-text NMF with a score of -3.9, which is the highest out of all possible variants."
   ]
  },
  {
   "cell_type": "markdown",
   "id": "442dc3cc",
   "metadata": {},
   "source": [
    "### Latent Dirichlet Allocation\n",
    "LDA views each document as consisting of different topics. In other words, each\n",
    "document is a mix of different topics. In the same way, topics are mixed from words.\n",
    "To keep the number of topics per document low and to have only a few, important\n",
    "words constituting the topics, LDA initially uses a Dirichlet distribution, a so-called\n",
    "Dirichlet prior. This is applied both for assigning topics to documents and for finding\n",
    "words for the topics. The Dirichlet distribution ensures that documents have only a\n",
    "small number of topics and topics are mainly defined by a small number of words.\n",
    "\n",
    "#### Note:\n",
    "**Because C_V is far too slow as a coherence score generation mechanism, we use u_mass instead. For this type of coherence score, low negative values are associated with success.**"
   ]
  },
  {
   "cell_type": "markdown",
   "id": "b04733f3",
   "metadata": {},
   "source": [
    "### Approach: Using LDA with Gensim - Full Text (Best Performance)"
   ]
  },
  {
   "cell_type": "code",
   "execution_count": 67,
   "id": "c90fa083",
   "metadata": {},
   "outputs": [
    {
     "name": "stdout",
     "output_type": "stream",
     "text": [
      "Topics for LDA\n",
      "\n",
      "Topic 00\n",
      "  phone (0.13)\n",
      "  great (0.07)\n",
      "  good (0.07)\n",
      "  works (0.04)\n",
      "  love (0.03)\n",
      "\n",
      "Topic 01\n",
      "  camera (0.02)\n",
      "  screen (0.01)\n",
      "  like (0.01)\n",
      "  samsung (0.01)\n",
      "  sony (0.01)\n",
      "\n",
      "Topic 02\n",
      "  phone (0.08)\n",
      "  one (0.02)\n",
      "  would (0.01)\n",
      "  get (0.01)\n",
      "  work (0.01)\n",
      "\n",
      "Topic 03\n",
      "  sim (0.06)\n",
      "  card (0.05)\n",
      "  unlocked (0.03)\n",
      "  att (0.03)\n",
      "  verizon (0.02)\n",
      "\n",
      "Topic 04\n",
      "  battery (0.07)\n",
      "  life (0.02)\n",
      "  charge (0.02)\n",
      "  day (0.02)\n",
      "  sound (0.01)\n",
      "Coherence score for LDA: -2.2296787912602896\n"
     ]
    }
   ],
   "source": [
    "lda_mod = get_model_gensim(df['tokens'],'LDA')"
   ]
  },
  {
   "cell_type": "markdown",
   "id": "bb006a4c",
   "metadata": {},
   "source": [
    "### Approach: Using LDA with Gensim - Verbs/Adjs"
   ]
  },
  {
   "cell_type": "code",
   "execution_count": 62,
   "id": "c2883258",
   "metadata": {},
   "outputs": [
    {
     "name": "stdout",
     "output_type": "stream",
     "text": [
      "Topics for LDA\n",
      "\n",
      "Topic 00\n",
      "  look (0.03)\n",
      "  want (0.03)\n",
      "  use (0.02)\n",
      "  need (0.02)\n",
      "  find (0.02)\n",
      "\n",
      "Topic 01\n",
      "  awesome (0.04)\n",
      "  arrive (0.04)\n",
      "  include (0.03)\n",
      "  lte (0.02)\n",
      "  original (0.02)\n",
      "\n",
      "Topic 02\n",
      "  good (0.30)\n",
      "  nice (0.08)\n",
      "  love (0.07)\n",
      "  recommend (0.06)\n",
      "  happy (0.05)\n",
      "\n",
      "Topic 03\n",
      "  great (0.33)\n",
      "  work (0.28)\n",
      "  expect (0.06)\n",
      "  fast (0.06)\n",
      "  fine (0.04)\n",
      "\n",
      "Topic 04\n",
      "  buy (0.06)\n",
      "  get (0.05)\n",
      "  come (0.04)\n",
      "  new (0.04)\n",
      "  excellent (0.03)\n",
      "Coherence score for LDA: -3.494048601109698\n"
     ]
    }
   ],
   "source": [
    "get_model_gensim(df['adjs_verbs'],'LDA')"
   ]
  },
  {
   "cell_type": "markdown",
   "id": "17446f38",
   "metadata": {},
   "source": [
    "### Approach: Using LDA with Gensim - Nouns/Adjs"
   ]
  },
  {
   "cell_type": "code",
   "execution_count": 63,
   "id": "5b740770",
   "metadata": {},
   "outputs": [
    {
     "name": "stdout",
     "output_type": "stream",
     "text": [
      "Topics for LDA\n",
      "\n",
      "Topic 00\n",
      "  great_phone (0.08)\n",
      "  sim_card (0.04)\n",
      "  nice_phone (0.03)\n",
      "  unlocked_phone (0.02)\n",
      "  old_phone (0.02)\n",
      "\n",
      "Topic 01\n",
      "  excellent_phone (0.02)\n",
      "  dual_sim (0.02)\n",
      "  great_price (0.02)\n",
      "  good_price (0.01)\n",
      "  long_time (0.01)\n",
      "\n",
      "Topic 02\n",
      "  new_phone (0.07)\n",
      "  basic_phone (0.02)\n",
      "  international_version (0.02)\n",
      "  awesome_phone (0.02)\n",
      "  good_condition (0.02)\n",
      "\n",
      "Topic 03\n",
      "  easy_use (0.03)\n",
      "  android_phone (0.02)\n",
      "  great_product (0.02)\n",
      "  happy_phone (0.02)\n",
      "  well_phone (0.01)\n",
      "\n",
      "Topic 04\n",
      "  good_phone (0.10)\n",
      "  smart_phone (0.04)\n",
      "  excellent_product (0.02)\n",
      "  good_quality (0.01)\n",
      "  happy_purchase (0.01)\n",
      "Coherence score for LDA: -6.589716739801671\n"
     ]
    }
   ],
   "source": [
    "get_model_gensim(df['adj_noun_phrases'],'LDA')"
   ]
  },
  {
   "cell_type": "markdown",
   "id": "172148f4",
   "metadata": {},
   "source": [
    "### Visualization - LDA with Full text"
   ]
  },
  {
   "cell_type": "code",
   "execution_count": 68,
   "id": "3ffc1284",
   "metadata": {},
   "outputs": [],
   "source": [
    "from sklearn.feature_extraction.text import CountVectorizer\n",
    "count_para_vectorizer = CountVectorizer(\n",
    "    stop_words=stopwords, \n",
    "    min_df=5,\n",
    "    max_df=0.7\n",
    ")\n",
    "count_para_vectors = count_para_vectorizer.fit_transform(df[\"text\"])"
   ]
  },
  {
   "cell_type": "code",
   "execution_count": 72,
   "id": "666fc7e0",
   "metadata": {
    "scrolled": false
   },
   "outputs": [
    {
     "data": {
      "text/html": [
       "\n",
       "<link rel=\"stylesheet\" type=\"text/css\" href=\"https://cdn.jsdelivr.net/gh/bmabey/pyLDAvis@3.3.1/pyLDAvis/js/ldavis.v1.0.0.css\">\n",
       "\n",
       "\n",
       "<div id=\"ldavis_el1959629021093800483771972010\"></div>\n",
       "<script type=\"text/javascript\">\n",
       "\n",
       "var ldavis_el1959629021093800483771972010_data = {\"mdsDat\": {\"x\": [0.10538037160102436, 0.031301730272022515, 0.08982056073890107, -0.2647855139218815, 0.03828285130993358], \"y\": [-0.022008146229631164, -0.1473566644215609, -0.010137199854865553, -0.0032020015944038667, 0.18270401210046144], \"topics\": [1, 2, 3, 4, 5], \"cluster\": [1, 1, 1, 1, 1], \"Freq\": [30.90176385546797, 27.69209906395665, 20.34467947839214, 13.26215121509818, 7.799306387085067]}, \"tinfo\": {\"Term\": [\"great\", \"good\", \"excellent\", \"product\", \"works\", \"phone\", \"love\", \"watch\", \"new\", \"card\", \"sim\", \"price\", \"bought\", \"ok\", \"perfect\", \"condition\", \"fine\", \"came\", \"use\", \"seller\", \"perfectly\", \"like\", \"loves\", \"iphone\", \"fast\", \"expected\", \"happy\", \"nice\", \"recommend\", \"screen\", \"1080p\", \"720p\", \"oneplus\", \"aluminum\", \"nova\", \"marshmallow\", \"idol\", \"placement\", \"z1\", \"flagships\", \"launcher\", \"tempered\", \"usbc\", \"ips\", \"curved\", \"emui\", \"angles\", \"6p\", \"jbl\", \"jelly\", \"robin\", \"touchwiz\", \"cyanogenmod\", \"bass\", \"bean\", \"nextbit\", \"laser\", \"gpu\", \"stabilization\", \"widget\", \"nexus\", \"xperia\", \"scanner\", \"rear\", \"hd\", \"selfie\", \"amoled\", \"fingerprint\", \"5x\", \"z5\", \"ui\", \"axon\", \"bloat\", \"lag\", \"grip\", \"moto\", \"crisp\", \"z3\", \"vivo\", \"protector\", \"nfc\", \"4k\", \"lollipop\", \"sony\", \"feels\", \"kitkat\", \"focus\", \"studio\", \"bright\", \"resolution\", \"thin\", \"colors\", \"build\", \"sensor\", \"flagship\", \"ram\", \"camera\", \"stock\", \"facing\", \"speakers\", \"light\", \"case\", \"display\", \"screen\", \"processor\", \"android\", \"specs\", \"blu\", \"design\", \"glass\", \"solid\", \"quality\", \"ive\", \"life\", \"sound\", \"performance\", \"pretty\", \"low\", \"battery\", \"apps\", \"phone\", \"bit\", \"device\", \"better\", \"phones\", \"like\", \"size\", \"good\", \"big\", \"best\", \"little\", \"dont\", \"use\", \"im\", \"price\", \"great\", \"nice\", \"fast\", \"love\", \"time\", \"stopped\", \"shuts\", \"blank\", \"shutting\", \"expired\", \"technician\", \"acting\", \"avail\", \"restarting\", \"defected\", \"motherboard\", \"serial\", \"tomorrow\", \"repair\", \"returns\", \"dec\", \"waste\", \"randomly\", \"restocking\", \"seniors\", \"lemon\", \"smh\", \"return\", \"malfunctioned\", \"referred\", \"blacklisted\", \"repairs\", \"told\", \"bulls\", \"serviced\", \"refund\", \"defective\", \"policy\", \"suddenly\", \"freezes\", \"stolen\", \"froze\", \"returned\", \"contacted\", \"emailed\", \"died\", \"reset\", \"imei\", \"wasted\", \"unhappy\", \"warranty\", \"started\", \"quit\", \"send\", \"sent\", \"dead\", \"junk\", \"sprint\", \"months\", \"activate\", \"locked\", \"worst\", \"returning\", \"shut\", \"called\", \"turn\", \"charge\", \"working\", \"verizon\", \"disappointed\", \"work\", \"didnt\", \"went\", \"tried\", \"month\", \"phone\", \"money\", \"weeks\", \"wouldnt\", \"problem\", \"amazon\", \"replacement\", \"got\", \"buy\", \"bought\", \"time\", \"dont\", \"battery\", \"new\", \"cant\", \"days\", \"screen\", \"worked\", \"doesnt\", \"im\", \"use\", \"unlocked\", \"service\", \"like\", \"charger\", \"day\", \"phones\", \"e71\", \"ovi\", \"e72\", \"outlook\", \"c6\", \"n95\", \"e7\", \"n97\", \"h2o\", \"predictive\", \"whistles\", \"n900\", \"belle\", \"e6\", \"hotmail\", \"anna\", \"bells\", \"aplications\", \"5800\", \"garmin\", \"north\", \"countries\", \"travelers\", \"duos\", \"\\u00edtem\", \"absurdly\", \"payasyougo\", \"e63\", \"nan\", \"regional\", \"symbian\", \"qwerty\", \"unlimited\", \"rural\", \"travel\", \"nokia\", \"3g\", \"europe\", \"iii\", \"4g\", \"language\", \"2g\", \"nano\", \"frequencies\", \"nokias\", \"english\", \"data\", \"tmobile\", \"sim\", \"gsm\", \"spanish\", \"networks\", \"cards\", \"basic\", \"internet\", \"microsoft\", \"dual\", \"plan\", \"lte\", \"international\", \"windows\", \"card\", \"galaxy\", \"wifi\", \"easy\", \"blackberry\", \"att\", \"use\", \"network\", \"version\", \"samsung\", \"need\", \"phone\", \"features\", \"smart\", \"great\", \"iphone\", \"apps\", \"battery\", \"like\", \"works\", \"life\", \"work\", \"phones\", \"want\", \"better\", \"dont\", \"good\", \"unlocked\", \"love\", \"excelent\", \"condition\", \"exelent\", \"perfecto\", \"exellent\", \"celular\", \"publication\", \"scuffs\", \"greetings\", \"thx\", \"delivery\", \"celphone\", \"wine\", \"thank\", \"nicks\", \"immaculate\", \"te\", \"thankyou\", \"wifiinternational\", \"tel\\u00e9fono\", \"orginal\", \"buen\", \"everithing\", \"gemini\", \"likenew\", \"tlf\", \"dominican\", \"dealfisher\", \"dents\", \"discribed\", \"described\", \"product\", \"excellent\", \"thanks\", \"estimated\", \"telefono\", \"satisfied\", \"scratches\", \"arrived\", \"met\", \"shipping\", \"expected\", \"shape\", \"sealed\", \"exactly\", \"delivered\", \"recomend\", \"perfect\", \"recommended\", \"packaging\", \"brand\", \"item\", \"expectations\", \"love\", \"good\", \"great\", \"cellphone\", \"came\", \"pleased\", \"recommend\", \"price\", \"new\", \"happy\", \"seller\", \"awesome\", \"fast\", \"phone\", \"box\", \"works\", \"nice\", \"purchase\", \"buy\", \"iphone\", \"time\", \"like\", \"loves\", \"exelente\", \"wrist\", \"bien\", \"digitel\", \"pedometer\", \"cnpgd\", \"77\", \"rica\", \"fathers\", \"royalties\", \"goog\", \"wrists\", \"excellet\", \"a1\", \"gamut\", \"p3\", \"gud\", \"accord\", \"teenage\", \"audiobooks\", \"mum\", \"fone\", \"xmas\", \"watchs\", \"hebrew\", \"samoled\", \"smartwear\", \"smartwatch\", \"970\", \"watch\", \"hes\", \"grandson\", \"costa\", \"nephew\", \"bt\", \"movilnet\", \"perfectly\", \"son\", \"watches\", \"shes\", \"ok\", \"daughter\", \"likes\", \"gift\", \"mom\", \"dad\", \"movistar\", \"sister\", \"husband\", \"wife\", \"works\", \"fine\", \"6s\", \"band\", \"birthday\", \"sd\", \"memory\", \"loved\", \"bought\", \"internal\", \"friend\", \"small\", \"card\", \"micro\", \"like\", \"apple\", \"gb\", \"great\", \"bluetooth\", \"iphone\", \"phone\", \"good\", \"use\", \"got\", \"big\", \"size\", \"sim\", \"easy\", \"old\", \"work\", \"nice\"], \"Freq\": [99241.0, 95855.0, 32769.0, 32796.0, 49799.0, 429854.0, 44839.0, 14003.0, 42654.0, 30880.0, 32392.0, 34750.0, 32961.0, 11668.0, 18857.0, 10714.0, 15260.0, 21728.0, 56583.0, 16745.0, 8896.0, 61528.0, 6812.0, 28502.0, 23473.0, 11089.0, 17069.0, 27002.0, 17982.0, 58453.0, 607.6497067354563, 575.2350362700357, 498.1489284928744, 380.46154661902057, 340.9618282762412, 955.0436960571286, 321.6912188856673, 306.47334699024964, 327.68263279153524, 292.28134739627, 1320.8780278916722, 278.04708211058994, 256.7832626994313, 250.69567680649848, 234.46668819337856, 344.64253043401254, 295.09270299417597, 607.3199935521643, 220.27496492951775, 314.2522777790936, 211.14549510882128, 208.09392136497016, 218.14538557836667, 191.87741350007877, 228.22697471947896, 185.78972792723624, 195.88812370111862, 178.69422212569052, 180.6785279611247, 198.84309653186, 5044.8044996223125, 1988.487529517823, 1369.6820303845209, 1212.2355878686965, 2384.354833596775, 672.8964913468049, 697.7426673081358, 2758.7709972734083, 1117.1847277601335, 604.186918468514, 1371.8961468209327, 468.79455688451304, 400.5577365370731, 2289.706071989746, 477.7025784358802, 3823.925061694604, 1224.3008550032703, 929.7179260054996, 801.8709169019616, 4296.743749883766, 715.7438464215901, 540.952527373231, 1967.0520553851547, 4646.781804144338, 4400.902711911019, 793.1268680919036, 1234.8322624151585, 1769.9458671067043, 3021.6793852019914, 3200.621180457984, 1822.3671233826606, 2086.106009823654, 2452.867971478456, 1621.5618675506703, 1484.6495843121972, 3690.177348903131, 27867.33299870985, 2344.8698809905454, 1407.476069054511, 2617.5952507499364, 6272.746449360635, 14148.327103736738, 5560.279236099585, 37649.00505143302, 2998.587487835596, 14839.037284640557, 2633.863711456284, 9669.027768017737, 3992.5086069614085, 3015.884312621708, 2885.5091072595587, 14066.432961270624, 11732.360852741334, 12119.607030342393, 6030.524508145887, 4226.792272701055, 7990.19701237858, 5048.373592290442, 22515.06332110121, 12453.86013476491, 93715.54342429672, 5927.783610433502, 9281.61631344517, 11172.905340279323, 14705.025033394519, 20306.97352601007, 7258.854740066748, 23711.74171723462, 7210.423162044664, 8612.002480825176, 8144.222333024435, 11421.643733470288, 13275.603189993404, 9899.84236847078, 10233.70979937104, 14671.547521734024, 8837.566010299368, 7965.885791240815, 9033.350078556712, 7390.162571263399, 5181.267856954934, 1017.0669826510763, 522.7255829251291, 729.1517298063637, 342.0907792977571, 323.54257468117515, 484.9831541445313, 294.08127294947036, 576.3808822214077, 217.9885572055954, 245.18743847465126, 546.7278192066534, 214.99006028744154, 2174.749084575088, 293.6414587943272, 148.63182528726577, 4042.903334064131, 1607.1039915475403, 133.98987388044154, 132.0496968431161, 279.5409404256563, 121.30020406590337, 11705.286021490878, 101.7880265480481, 113.36620721845959, 94.95148347811204, 305.2111583222311, 4806.95455018169, 89.08788696333303, 91.01704172774421, 3887.586399571895, 3099.6688662392817, 882.8838414422331, 857.3921133680694, 2290.2327703483847, 1448.5503109979052, 691.5360001288825, 4840.441107508697, 2149.0148098678233, 465.1082616860932, 2062.4570863184736, 3027.582785699122, 1128.320678834464, 930.3176043872274, 575.3653407917585, 6095.575262511273, 5735.713300704987, 815.3524058744205, 7044.176292727978, 5953.9293784374595, 2428.3824843426232, 1820.3475485913964, 3001.2637911734414, 11557.593529057642, 2906.253280208322, 3488.8038203153105, 2815.2915097129103, 2448.686422790058, 1771.9296925368221, 3271.536906990881, 6617.98687514976, 11784.663306150584, 14064.756195680868, 7080.994518795423, 5781.747348875783, 24770.651180522476, 12278.562507003102, 6211.165116588882, 6691.110568011342, 6819.3295810131, 155568.49117813294, 10256.224517412147, 5730.615286726617, 4373.228274345045, 12204.926216105388, 10007.143860793256, 4869.567318985784, 14597.484956670809, 13904.763190532985, 14795.384788317228, 15410.777291227834, 14450.068790686757, 18266.23055428916, 15897.5711871418, 9950.86813146845, 8469.034603702212, 16427.97135582555, 7883.935575898329, 9239.103945411647, 10373.053843298514, 12619.012114885687, 8629.741927009336, 7941.3998731547235, 11630.051895143331, 7854.318236210478, 7905.179404778511, 8351.071065122502, 844.4585782926972, 468.9768288118362, 227.50554911534394, 343.731847442532, 194.0101476197189, 179.8135796687163, 208.0297429949513, 194.6701465111456, 211.75900526589464, 174.3618696398337, 725.6807405761211, 107.76324091298203, 102.69126539824954, 98.63032270784305, 89.48787636176876, 85.43858333178672, 784.0918809352102, 80.36306326026157, 185.8191409551661, 85.37164183208883, 313.3888261652228, 710.6502420711597, 73.25306893875464, 281.8621966052987, 72.22722588750459, 69.18662955041944, 117.25099226951056, 117.27341737318213, 63.11859467980963, 63.09811740151744, 655.2599599193027, 1048.0116995892633, 896.4416728978812, 154.7485068679679, 1910.7275500006429, 7610.530993201672, 4337.9051293962675, 1274.2345437845427, 210.9023959545296, 7288.221651612633, 2274.2564249850006, 1247.583445551049, 817.9961770325916, 282.93548462398576, 431.96153956520334, 2153.1286836901486, 7525.425008686376, 8551.023916275222, 22727.19913377772, 3133.2275451912956, 1088.6699980540554, 1190.097479907214, 2851.0469597272527, 3318.3961237886547, 5597.451974142197, 1039.090304944744, 3559.8996526684964, 4171.587304407696, 5256.8235533002835, 3702.753234959698, 4454.159348043715, 16793.785387676628, 7143.386091556183, 7057.643216470314, 9199.551951156613, 3775.5590922569163, 9190.629154015716, 25086.166142581187, 5109.38417521472, 5712.502101198178, 9469.546439406515, 8987.88689550828, 84396.5829416108, 6416.061992241728, 5032.022191543813, 21336.692984795267, 9843.18750907146, 9142.209671292903, 12597.493332529419, 12675.354665012414, 10801.683744864204, 7061.540401965601, 9583.447188420683, 8749.671095797969, 6281.015833341721, 6919.503583612902, 7208.304957662682, 8561.381246463416, 6276.710241696156, 6166.741886127871, 4137.903353310044, 10692.446283597747, 341.3931511151212, 245.51736781873137, 216.37719788791864, 204.14939573151926, 175.01609720072528, 185.92369778190331, 124.25869957988287, 117.66275431959376, 3987.0203802659807, 101.6763308045701, 123.99719465783492, 6589.200476714687, 102.45782125305341, 92.18860116959785, 75.37210735502252, 103.16923133891699, 67.85683156737211, 66.92309878330077, 78.99508422102176, 64.10457107423677, 64.09836440606563, 64.09275928187489, 64.07704704486318, 62.21997278824767, 143.88591332510242, 87.22612194746843, 420.2818749613839, 76.05447618392813, 5885.719612849824, 30949.38587828529, 30820.921864279575, 7115.132645232375, 278.29692210260174, 161.76182882107832, 5022.2977995779, 3945.7500689583862, 7898.425666814381, 1369.6765816598934, 5267.632425196997, 8933.111323371642, 1451.9244364380324, 1366.1972097410587, 4546.266589054415, 2278.4291166383264, 577.75644082588, 13749.548388273817, 2525.6763856590455, 1771.5659798582572, 7681.472760015617, 6373.036496920285, 3039.742560129628, 27367.9636191182, 53530.41334204119, 52398.790104116124, 3378.1645882474577, 12534.819865012985, 3391.7597043368646, 10000.47381224736, 16951.87738653616, 19899.168709527443, 9474.158212195867, 9210.338395131335, 6446.4173986124615, 10633.604268932893, 82711.31462609443, 6690.8366764009525, 17385.587472069335, 10186.701451530978, 7224.016703752639, 9233.702441545005, 8268.293016859125, 7456.149257201397, 8141.3099111477995, 6811.246410623867, 866.2377112230195, 698.7728127855452, 505.3924918997467, 460.1164603507109, 369.8796584008937, 140.34500523354745, 126.7302492700691, 305.4331219997506, 162.03116964904908, 117.35319933012146, 106.89070469071436, 101.6629491397919, 96.4330197798302, 95.38263396461136, 93.29239345947265, 90.15882709999283, 89.10969445456288, 88.0621418284306, 249.6629882354845, 83.87529060348345, 81.78875812434521, 374.3329014913743, 205.80260377986167, 67.14678055591297, 67.14216480849224, 66.09674134289841, 65.05562685345444, 440.9525795552194, 62.96330463567221, 13794.027491541621, 710.3484220423331, 374.4715869750417, 329.8515016402324, 338.98412789144373, 775.122145938891, 365.5301951285886, 7843.303613850497, 3695.698246449003, 497.0105203806368, 519.301803316006, 9493.864643795023, 3638.284122773149, 1480.3638999171355, 4347.339255570203, 1735.148448297457, 817.0799574210297, 757.580327751732, 911.3403187967252, 2245.1041208566053, 2719.909837987009, 17872.849899675268, 6779.785263696138, 1170.3812597957287, 1671.4075945855864, 859.005671361765, 3885.843923521803, 4452.194075261836, 2479.3924131074887, 8755.891908846, 1818.8012586942443, 1512.7563776127417, 3567.623415868714, 7050.1035399285265, 2092.6792749325496, 8774.830272061869, 3132.57055143857, 1714.5713404500714, 9074.313144733704, 2151.9674258420278, 4587.233374607934, 13462.877375534259, 6411.028364985119, 4993.642763670424, 3716.189214628698, 2631.3027544117717, 2533.7804681264565, 3135.5432038653257, 2575.679604903748, 2456.8077293356487, 2643.5086497706548, 2487.2164573212235], \"Total\": [99241.0, 95855.0, 32769.0, 32796.0, 49799.0, 429854.0, 44839.0, 14003.0, 42654.0, 30880.0, 32392.0, 34750.0, 32961.0, 11668.0, 18857.0, 10714.0, 15260.0, 21728.0, 56583.0, 16745.0, 8896.0, 61528.0, 6812.0, 28502.0, 23473.0, 11089.0, 17069.0, 27002.0, 17982.0, 58453.0, 608.4886087767298, 576.0338861008721, 498.9567110582102, 381.3108284178182, 341.76013646260685, 957.3645778691484, 322.49080708515345, 307.278052394699, 328.57572732321586, 293.07987403789355, 1324.5341031378944, 278.88010277411286, 257.58377394614683, 251.49881739927525, 235.272043990015, 345.828638631929, 296.12956564896734, 609.5023240383206, 221.07355317888414, 315.3917975907545, 211.94604562018023, 208.9035703498842, 219.04528588217372, 192.67680079798856, 229.1870814556712, 186.59167176625206, 196.7347594308058, 179.49261218582927, 181.5209554386567, 199.77285676542618, 5104.000504450977, 2005.9120911922175, 1382.3111388006137, 1224.377834165605, 2426.126787224176, 676.4316672262604, 701.7930920345129, 2816.2576857746653, 1130.3481905530318, 608.4894350041702, 1394.4837986713949, 471.5753027122422, 402.62322984037553, 2344.720029328666, 481.72893471998196, 3957.4643175254305, 1246.41522058661, 945.2005203456629, 813.9658891178478, 4519.546985639241, 727.2490005696214, 546.6256424280397, 2041.0462822943994, 4955.464903850334, 4730.060807581165, 809.7327104774387, 1279.576780302334, 1854.8051151977622, 3235.420413339365, 3452.7167330135458, 1921.9597165995297, 2214.3072542180585, 2626.7587252069247, 1710.338842057027, 1562.868626131795, 4132.360299206063, 36539.086614628744, 2559.82271410657, 1482.1404393488338, 2917.5887392260106, 7670.389515956069, 19069.432281569294, 6792.233804545179, 58453.983815722284, 3413.9709378621965, 21082.31862275093, 2966.8485919000946, 13387.78712011114, 4791.535319011569, 3516.682923013747, 3367.243083343581, 23978.369374636615, 19185.751426351097, 20213.086617078305, 8513.449799528564, 5481.203487186438, 12575.197575447146, 6933.504012892724, 54140.152838122376, 25189.729038563826, 429854.8095456691, 9051.830779649978, 17177.42898695857, 22857.937129778293, 34431.71111057249, 61528.52026937548, 12492.463458130442, 95855.30231866591, 13581.151692031914, 18953.496349898098, 17545.626823060735, 34601.72094547597, 56583.58123470132, 31498.739350020067, 34750.28294980999, 99241.64190726414, 27002.285368951114, 23473.709030551046, 44839.47514969069, 36247.98772260795, 5183.461224642413, 1017.9477870457413, 523.6408459732708, 730.7686488726334, 342.91179955259236, 324.3504746382808, 486.5425583144474, 295.0495830240062, 578.3870298103217, 218.8477862078316, 246.19106158568812, 548.9837048399106, 215.92146112527138, 2184.6591803276738, 295.04071931120797, 149.48820081355504, 4066.3796970042886, 1617.1200307456825, 134.83155017919017, 132.8801295215609, 281.4054541887917, 122.13429425123556, 11797.122644352143, 102.5954766263537, 114.32219833533563, 95.75704466018213, 307.8090663672484, 4849.536720475188, 89.89589814483321, 91.85063079085374, 3925.6716159891266, 3135.662621401905, 891.0972284485367, 865.8315564436493, 2343.577974169558, 1477.2427694690994, 700.7617325987572, 5005.028564711299, 2207.4915557798317, 470.8169202190908, 2134.1869283105166, 3167.3482231109074, 1157.9494134793051, 952.2100712738653, 584.9550506388613, 6548.349104418068, 6198.134182401817, 839.0164511435222, 7776.8310711603945, 6558.451581750991, 2586.753030895813, 1943.4278586414716, 3299.478508164007, 13873.262703526607, 3206.4725288053196, 3905.740961579261, 3139.1450798632086, 2701.498048825103, 1916.096681281066, 3767.6886910117155, 8262.244573577658, 15847.505669629418, 19760.323516750588, 9218.747801909381, 7305.745519708573, 39870.37357628194, 18056.715983024198, 8062.409420390397, 8841.314469374578, 9171.14152536199, 429854.8095456691, 15445.17933810758, 7467.178306469563, 5364.79194450759, 20100.642560310233, 15929.3960164816, 6187.7280575532195, 30355.59331182261, 29688.21205230541, 32961.50012036272, 36247.98772260795, 34601.72094547597, 54140.152838122376, 42654.36938761979, 19980.85806585821, 15009.69013787291, 58453.983815722284, 13735.93599028822, 19891.274340469554, 31498.739350020067, 56583.58123470132, 20208.996336593802, 15476.904093187164, 61528.52026937548, 15435.012792843749, 18214.68895709382, 34431.71111057249, 845.2879421593568, 469.8222442515256, 228.30700971468266, 345.00248237194194, 194.819309575327, 180.61283602167018, 209.02632637856007, 195.82329937771524, 213.06602050832333, 175.53872440292614, 730.6164037437459, 108.56397679456906, 103.49021432238975, 99.43109466892169, 90.2981860713637, 86.23898012146077, 791.501206199318, 81.16506322129, 187.67543619108045, 86.23902328422433, 316.59059868581573, 718.3537458951838, 74.06208149044176, 285.0251532249691, 73.04560019926929, 70.00275496320059, 118.68707276929587, 118.71135085709642, 63.914171074039004, 63.91304375725024, 665.6678977937745, 1076.2616121729304, 920.6263633280727, 157.23083224029133, 2021.7647908779618, 8312.765475242284, 4843.471917555725, 1378.8727588530753, 217.95842485031022, 8425.44112199674, 2538.292559850522, 1380.5454575600731, 893.3192044794682, 296.28860346859045, 462.39255804154345, 2534.5131986706215, 9613.650424983061, 11321.705691051318, 32392.46642204073, 3854.2915465201568, 1247.1554172573435, 1373.6704559824568, 3589.914087326967, 4253.022881093519, 7639.44245466005, 1210.836802382597, 4753.926284884049, 5671.759304420828, 7370.912164255459, 5037.909491832698, 6349.642172295287, 30880.80017663882, 11479.4478439279, 11323.086871244463, 16187.625235102221, 5491.493897777985, 16330.80797092983, 56583.58123470132, 8006.879429189037, 9980.857864626214, 19573.56063111018, 19085.847127364872, 429854.8095456691, 12880.3980714807, 9166.108647512963, 99241.64190726414, 28502.723085279806, 25189.729038563826, 54140.152838122376, 61528.52026937548, 49799.70330570999, 20213.086617078305, 39870.37357628194, 34431.71111057249, 16900.849104261433, 22857.937129778293, 34601.72094547597, 95855.30231866591, 20208.996336593802, 44839.47514969069, 4138.71554938278, 10714.952296907208, 342.2050530997996, 246.32878520898552, 217.1900181805346, 204.9713481123796, 175.8318395181739, 187.14066368205698, 125.07375396282923, 118.49529915659286, 4015.2653059387085, 102.51676196083908, 125.08455762762763, 6649.850170505469, 103.46206280109428, 93.11963783120376, 76.19624294045482, 104.41197732965348, 68.67625671582854, 67.73595346493941, 79.96118317027847, 64.91592573997454, 64.9163814386098, 64.91668056266381, 64.91711840621842, 63.036252596634554, 145.7944419975338, 88.42987847424732, 426.0954090696318, 77.16569659553397, 6067.869843757101, 32796.38820727223, 32769.81642816789, 7475.2506315887795, 283.1683421257289, 164.70935630950964, 5652.824860306957, 4531.703502173923, 9519.309566876009, 1540.6580674941747, 6323.959989455925, 11089.096693527536, 1683.7080705444703, 1580.782902279627, 5710.518274700874, 2740.6317253413, 641.07409579572, 18857.005911016382, 3103.679018384417, 2148.47169639153, 10510.596405068301, 8582.953467768284, 3931.8191319928155, 44839.47514969069, 95855.30231866591, 99241.64190726414, 4659.995029401001, 21728.743183070597, 4886.788068663688, 17982.30646251267, 34750.28294980999, 42654.36938761979, 17069.35449579484, 16745.788950567287, 11151.525152809962, 23473.709030551046, 429854.8095456691, 12229.914551732501, 49799.70330570999, 27002.285368951114, 14399.521234018728, 29688.21205230541, 28502.723085279806, 36247.98772260795, 61528.52026937548, 6812.0834821850185, 867.027262631436, 699.6750905102396, 506.18188349782594, 461.182454285175, 371.2392331202014, 141.15221622712437, 127.55365562324141, 307.4182979481755, 163.08748194867525, 118.1423595114931, 107.68285882322816, 102.45337402875748, 97.2236473385453, 96.17743302541807, 94.08586231815296, 90.94820369571781, 89.90206141498123, 88.85612961444612, 251.94899862746274, 84.67232608738753, 82.58059749030947, 378.2296318112803, 207.98842369459126, 67.93767105841364, 67.93747533173519, 66.89167329800934, 65.84588240857026, 446.4174854408503, 63.75399742675975, 14003.520214890634, 723.210184334168, 380.12812745322526, 335.5425032646748, 348.34656140652044, 803.4130780234849, 379.21677984024666, 8896.415511926398, 4111.292257127049, 525.226555591203, 557.5844582207617, 11668.077437901178, 4393.068879165318, 1710.4224000148902, 5479.327541090576, 2070.0350325046606, 932.2819044089142, 878.3487714694957, 1081.2061007208786, 3072.134307970793, 4661.946404277277, 49799.70330570999, 15260.869389959766, 1667.2135254237337, 2638.453921286273, 1139.7842820458015, 8553.624686446696, 10271.864904879785, 5055.286678703749, 32961.50012036272, 3560.6375942826144, 2758.7712910768487, 10622.022602927867, 30880.80017663882, 4790.4230609825345, 61528.52026937548, 9937.488485483416, 3611.8791158919303, 99241.64190726414, 6034.640368008451, 28502.723085279806, 429854.8095456691, 95855.30231866591, 56583.58123470132, 30355.59331182261, 13581.151692031914, 12492.463458130442, 32392.46642204073, 16187.625235102221, 12904.741275946813, 39870.37357628194, 27002.285368951114], \"Category\": [\"Default\", \"Default\", \"Default\", \"Default\", \"Default\", \"Default\", \"Default\", \"Default\", \"Default\", \"Default\", \"Default\", \"Default\", \"Default\", \"Default\", \"Default\", \"Default\", \"Default\", \"Default\", \"Default\", \"Default\", \"Default\", \"Default\", \"Default\", \"Default\", \"Default\", \"Default\", \"Default\", \"Default\", \"Default\", \"Default\", \"Topic1\", \"Topic1\", \"Topic1\", \"Topic1\", \"Topic1\", \"Topic1\", \"Topic1\", \"Topic1\", \"Topic1\", \"Topic1\", \"Topic1\", \"Topic1\", \"Topic1\", \"Topic1\", \"Topic1\", \"Topic1\", \"Topic1\", \"Topic1\", \"Topic1\", \"Topic1\", \"Topic1\", \"Topic1\", \"Topic1\", \"Topic1\", \"Topic1\", \"Topic1\", \"Topic1\", \"Topic1\", \"Topic1\", \"Topic1\", \"Topic1\", \"Topic1\", \"Topic1\", \"Topic1\", \"Topic1\", \"Topic1\", \"Topic1\", \"Topic1\", \"Topic1\", \"Topic1\", \"Topic1\", \"Topic1\", \"Topic1\", \"Topic1\", \"Topic1\", \"Topic1\", \"Topic1\", \"Topic1\", \"Topic1\", \"Topic1\", \"Topic1\", \"Topic1\", \"Topic1\", \"Topic1\", \"Topic1\", \"Topic1\", \"Topic1\", \"Topic1\", \"Topic1\", \"Topic1\", \"Topic1\", \"Topic1\", \"Topic1\", \"Topic1\", \"Topic1\", \"Topic1\", \"Topic1\", \"Topic1\", \"Topic1\", \"Topic1\", \"Topic1\", \"Topic1\", \"Topic1\", \"Topic1\", \"Topic1\", \"Topic1\", \"Topic1\", \"Topic1\", \"Topic1\", \"Topic1\", \"Topic1\", \"Topic1\", \"Topic1\", \"Topic1\", \"Topic1\", \"Topic1\", \"Topic1\", \"Topic1\", \"Topic1\", \"Topic1\", \"Topic1\", \"Topic1\", \"Topic1\", \"Topic1\", \"Topic1\", \"Topic1\", \"Topic1\", \"Topic1\", \"Topic1\", \"Topic1\", \"Topic1\", \"Topic1\", \"Topic1\", \"Topic1\", \"Topic1\", \"Topic1\", \"Topic1\", \"Topic1\", \"Topic1\", \"Topic1\", \"Topic2\", \"Topic2\", \"Topic2\", \"Topic2\", \"Topic2\", \"Topic2\", \"Topic2\", \"Topic2\", \"Topic2\", \"Topic2\", \"Topic2\", \"Topic2\", \"Topic2\", \"Topic2\", \"Topic2\", \"Topic2\", \"Topic2\", \"Topic2\", \"Topic2\", \"Topic2\", \"Topic2\", \"Topic2\", \"Topic2\", \"Topic2\", \"Topic2\", \"Topic2\", \"Topic2\", \"Topic2\", \"Topic2\", \"Topic2\", \"Topic2\", \"Topic2\", \"Topic2\", \"Topic2\", \"Topic2\", \"Topic2\", \"Topic2\", \"Topic2\", \"Topic2\", \"Topic2\", \"Topic2\", \"Topic2\", \"Topic2\", \"Topic2\", \"Topic2\", \"Topic2\", \"Topic2\", \"Topic2\", \"Topic2\", \"Topic2\", \"Topic2\", \"Topic2\", \"Topic2\", \"Topic2\", \"Topic2\", \"Topic2\", \"Topic2\", \"Topic2\", \"Topic2\", \"Topic2\", \"Topic2\", \"Topic2\", \"Topic2\", \"Topic2\", \"Topic2\", \"Topic2\", \"Topic2\", \"Topic2\", \"Topic2\", \"Topic2\", \"Topic2\", \"Topic2\", \"Topic2\", \"Topic2\", \"Topic2\", \"Topic2\", \"Topic2\", \"Topic2\", \"Topic2\", \"Topic2\", \"Topic2\", \"Topic2\", \"Topic2\", \"Topic2\", \"Topic2\", \"Topic2\", \"Topic2\", \"Topic2\", \"Topic2\", \"Topic2\", \"Topic2\", \"Topic2\", \"Topic2\", \"Topic2\", \"Topic2\", \"Topic2\", \"Topic2\", \"Topic3\", \"Topic3\", \"Topic3\", \"Topic3\", \"Topic3\", \"Topic3\", \"Topic3\", \"Topic3\", \"Topic3\", \"Topic3\", \"Topic3\", \"Topic3\", \"Topic3\", \"Topic3\", \"Topic3\", \"Topic3\", \"Topic3\", \"Topic3\", \"Topic3\", \"Topic3\", \"Topic3\", \"Topic3\", \"Topic3\", \"Topic3\", \"Topic3\", \"Topic3\", \"Topic3\", \"Topic3\", \"Topic3\", \"Topic3\", \"Topic3\", \"Topic3\", \"Topic3\", \"Topic3\", \"Topic3\", \"Topic3\", \"Topic3\", \"Topic3\", \"Topic3\", \"Topic3\", \"Topic3\", \"Topic3\", \"Topic3\", \"Topic3\", \"Topic3\", \"Topic3\", \"Topic3\", \"Topic3\", \"Topic3\", \"Topic3\", \"Topic3\", \"Topic3\", \"Topic3\", \"Topic3\", \"Topic3\", \"Topic3\", \"Topic3\", \"Topic3\", \"Topic3\", \"Topic3\", \"Topic3\", \"Topic3\", \"Topic3\", \"Topic3\", \"Topic3\", \"Topic3\", \"Topic3\", \"Topic3\", \"Topic3\", \"Topic3\", \"Topic3\", \"Topic3\", \"Topic3\", \"Topic3\", \"Topic3\", \"Topic3\", \"Topic3\", \"Topic3\", \"Topic3\", \"Topic3\", \"Topic3\", \"Topic3\", \"Topic3\", \"Topic3\", \"Topic3\", \"Topic3\", \"Topic3\", \"Topic3\", \"Topic3\", \"Topic3\", \"Topic4\", \"Topic4\", \"Topic4\", \"Topic4\", \"Topic4\", \"Topic4\", \"Topic4\", \"Topic4\", \"Topic4\", \"Topic4\", \"Topic4\", \"Topic4\", \"Topic4\", \"Topic4\", \"Topic4\", \"Topic4\", \"Topic4\", \"Topic4\", \"Topic4\", \"Topic4\", \"Topic4\", \"Topic4\", \"Topic4\", \"Topic4\", \"Topic4\", \"Topic4\", \"Topic4\", \"Topic4\", \"Topic4\", \"Topic4\", \"Topic4\", \"Topic4\", \"Topic4\", \"Topic4\", \"Topic4\", \"Topic4\", \"Topic4\", \"Topic4\", \"Topic4\", \"Topic4\", \"Topic4\", \"Topic4\", \"Topic4\", \"Topic4\", \"Topic4\", \"Topic4\", \"Topic4\", \"Topic4\", \"Topic4\", \"Topic4\", \"Topic4\", \"Topic4\", \"Topic4\", \"Topic4\", \"Topic4\", \"Topic4\", \"Topic4\", \"Topic4\", \"Topic4\", \"Topic4\", \"Topic4\", \"Topic4\", \"Topic4\", \"Topic4\", \"Topic4\", \"Topic4\", \"Topic4\", \"Topic4\", \"Topic4\", \"Topic4\", \"Topic4\", \"Topic4\", \"Topic4\", \"Topic4\", \"Topic4\", \"Topic5\", \"Topic5\", \"Topic5\", \"Topic5\", \"Topic5\", \"Topic5\", \"Topic5\", \"Topic5\", \"Topic5\", \"Topic5\", \"Topic5\", \"Topic5\", \"Topic5\", \"Topic5\", \"Topic5\", \"Topic5\", \"Topic5\", \"Topic5\", \"Topic5\", \"Topic5\", \"Topic5\", \"Topic5\", \"Topic5\", \"Topic5\", \"Topic5\", \"Topic5\", \"Topic5\", \"Topic5\", \"Topic5\", \"Topic5\", \"Topic5\", \"Topic5\", \"Topic5\", \"Topic5\", \"Topic5\", \"Topic5\", \"Topic5\", \"Topic5\", \"Topic5\", \"Topic5\", \"Topic5\", \"Topic5\", \"Topic5\", \"Topic5\", \"Topic5\", \"Topic5\", \"Topic5\", \"Topic5\", \"Topic5\", \"Topic5\", \"Topic5\", \"Topic5\", \"Topic5\", \"Topic5\", \"Topic5\", \"Topic5\", \"Topic5\", \"Topic5\", \"Topic5\", \"Topic5\", \"Topic5\", \"Topic5\", \"Topic5\", \"Topic5\", \"Topic5\", \"Topic5\", \"Topic5\", \"Topic5\", \"Topic5\", \"Topic5\", \"Topic5\", \"Topic5\", \"Topic5\", \"Topic5\", \"Topic5\", \"Topic5\", \"Topic5\", \"Topic5\", \"Topic5\", \"Topic5\", \"Topic5\", \"Topic5\"], \"logprob\": [30.0, 29.0, 28.0, 27.0, 26.0, 25.0, 24.0, 23.0, 22.0, 21.0, 20.0, 19.0, 18.0, 17.0, 16.0, 15.0, 14.0, 13.0, 12.0, 11.0, 10.0, 9.0, 8.0, 7.0, 6.0, 5.0, 4.0, 3.0, 2.0, 1.0, -8.2186, -8.2734, -8.4173, -8.6868, -8.7964, -7.7664, -8.8546, -8.903, -8.8361, -8.9504, -7.4421, -9.0004, -9.0799, -9.1039, -9.1708, -8.7856, -8.9409, -8.2191, -9.2333, -8.878, -9.2756, -9.2902, -9.243, -9.3713, -9.1978, -9.4035, -9.3506, -9.4425, -9.4314, -9.3356, -6.102, -7.033, -7.4058, -7.5279, -6.8515, -8.1166, -8.0803, -6.7056, -7.6096, -8.2243, -7.4042, -8.478, -8.6353, -6.892, -8.4592, -6.3791, -7.518, -7.7933, -7.9412, -6.2625, -8.0548, -8.3348, -7.0439, -6.1842, -6.2386, -7.9522, -7.5095, -7.1495, -6.6146, -6.5571, -7.1203, -6.9851, -6.8231, -7.237, -7.3252, -6.4147, -4.3929, -6.8682, -7.3786, -6.7581, -5.8842, -5.0708, -6.0048, -4.0921, -6.6223, -5.0231, -6.752, -5.4515, -6.336, -6.6165, -6.6607, -5.0766, -5.2581, -5.2256, -5.9236, -6.279, -5.6422, -6.1013, -4.6062, -5.1984, -3.1801, -5.9408, -5.4924, -5.3069, -5.0322, -4.7094, -5.7382, -4.5544, -5.7449, -5.5672, -5.6231, -5.2849, -5.1345, -5.4279, -5.3947, -5.0345, -5.5414, -5.6452, -5.5195, -5.7203, -5.9657, -7.5938, -8.2594, -7.9266, -8.6834, -8.7392, -8.3344, -8.8346, -8.1617, -9.134, -9.0165, -8.2145, -9.1479, -6.8338, -8.8361, -9.517, -6.2138, -7.1363, -9.6207, -9.6353, -8.8853, -9.7202, -5.1507, -9.8956, -9.7879, -9.9651, -8.7975, -6.0407, -10.0289, -10.0074, -6.2529, -6.4794, -7.7353, -7.7646, -6.7821, -7.2402, -7.9796, -6.0337, -6.8457, -8.3762, -6.8868, -6.503, -7.49, -7.683, -8.1635, -5.8032, -5.864, -7.8149, -5.6585, -5.8267, -6.7235, -7.0117, -6.5117, -5.1634, -6.5439, -6.3612, -6.5757, -6.7152, -7.0387, -6.4255, -5.7209, -5.1439, -4.9671, -5.6533, -5.856, -4.4011, -5.1029, -5.7844, -5.71, -5.691, -2.5637, -5.2829, -5.8649, -6.1352, -5.1089, -5.3074, -6.0277, -4.9299, -4.9785, -4.9164, -4.8757, -4.94, -4.7057, -4.8446, -5.3131, -5.4743, -4.8118, -5.5459, -5.3873, -5.2715, -5.0755, -5.4555, -5.5386, -5.1571, -5.5497, -5.5432, -5.4883, -7.4715, -8.0596, -8.783, -8.3703, -8.9423, -9.0182, -8.8725, -8.9389, -8.8547, -9.049, -7.6231, -9.5302, -9.5784, -9.6188, -9.7161, -9.7624, -7.5456, -9.8236, -8.9854, -9.7631, -8.4627, -7.644, -9.9162, -8.5687, -9.9303, -9.9734, -9.4458, -9.4457, -10.0651, -10.0655, -7.7251, -7.2555, -7.4117, -9.1684, -6.6549, -5.2729, -5.835, -7.0601, -8.8588, -5.3161, -6.4808, -7.0812, -7.5033, -8.5649, -8.1418, -6.5355, -5.2841, -5.1564, -4.1788, -6.1603, -7.2175, -7.1284, -6.2547, -6.1029, -5.5801, -7.2641, -6.0327, -5.8741, -5.6429, -5.9933, -5.8086, -4.4814, -5.3362, -5.3483, -5.0833, -5.9739, -5.0842, -4.0801, -5.6713, -5.5598, -5.0543, -5.1065, -2.8669, -5.4436, -5.6866, -4.242, -5.0156, -5.0895, -4.7689, -4.7627, -4.9227, -5.3477, -5.0424, -5.1334, -5.4649, -5.3681, -5.3272, -5.1551, -5.4656, -5.4832, -5.4543, -4.505, -7.9492, -8.2789, -8.4052, -8.4634, -8.6174, -8.5569, -8.9599, -9.0144, -5.4915, -9.1605, -8.962, -4.9891, -9.1528, -9.2584, -9.4598, -9.1459, -9.5649, -9.5787, -9.4129, -9.6217, -9.6218, -9.6219, -9.6222, -9.6516, -8.8132, -9.3138, -7.7413, -9.4508, -5.102, -3.4422, -3.4463, -4.9123, -8.1536, -8.6961, -5.2606, -5.5019, -4.8078, -6.5599, -5.2129, -4.6847, -6.5016, -6.5625, -5.3602, -6.051, -7.4231, -4.2535, -5.948, -6.3026, -4.8357, -5.0224, -5.7627, -3.5651, -2.8943, -2.9156, -5.6572, -4.346, -5.6532, -4.5719, -4.0441, -3.8838, -4.6259, -4.6542, -5.011, -4.5105, -2.4591, -4.9738, -4.0189, -4.5534, -4.8971, -4.6516, -4.7621, -4.8655, -4.7776, -4.425, -6.4872, -6.7021, -7.026, -7.1199, -7.3382, -8.3073, -8.4093, -7.5296, -8.1636, -8.4862, -8.5796, -8.6297, -8.6825, -8.6935, -8.7156, -8.7498, -8.7615, -8.7733, -7.7313, -8.822, -8.8472, -7.3262, -7.9245, -9.0445, -9.0446, -9.0603, -9.0761, -7.1624, -9.1088, -3.7194, -6.6856, -7.3259, -7.4527, -7.4254, -6.5984, -7.35, -4.284, -5.0365, -7.0428, -6.9989, -4.093, -5.0521, -5.9513, -4.8741, -5.7925, -6.5456, -6.6212, -6.4365, -5.5349, -5.343, -3.4603, -4.4297, -6.1863, -5.83, -6.4956, -4.9863, -4.8502, -5.4356, -4.1739, -5.7454, -5.9297, -5.0717, -4.3906, -5.6052, -4.1717, -5.2018, -5.8045, -4.1382, -5.5772, -4.8203, -3.7437, -4.4856, -4.7355, -5.0309, -5.3761, -5.4139, -5.2008, -5.3975, -5.4448, -5.3715, -5.4325], \"loglift\": [30.0, 29.0, 28.0, 27.0, 26.0, 25.0, 24.0, 23.0, 22.0, 21.0, 20.0, 19.0, 18.0, 17.0, 16.0, 15.0, 14.0, 13.0, 12.0, 11.0, 10.0, 9.0, 8.0, 7.0, 6.0, 5.0, 4.0, 3.0, 2.0, 1.0, 1.173, 1.173, 1.1727, 1.1721, 1.172, 1.1719, 1.1719, 1.1717, 1.1716, 1.1716, 1.1716, 1.1714, 1.1712, 1.1712, 1.1709, 1.1709, 1.1708, 1.1708, 1.1707, 1.1707, 1.1706, 1.1705, 1.1702, 1.1702, 1.1702, 1.17, 1.17, 1.1699, 1.1697, 1.1697, 1.1627, 1.1656, 1.1652, 1.1644, 1.157, 1.1691, 1.1686, 1.1537, 1.1626, 1.1673, 1.158, 1.1684, 1.1692, 1.1506, 1.166, 1.14, 1.1565, 1.1578, 1.1594, 1.1238, 1.1584, 1.1639, 1.1374, 1.11, 1.1022, 1.1536, 1.1388, 1.1275, 1.106, 1.0985, 1.1211, 1.1147, 1.1059, 1.1211, 1.123, 1.0612, 0.9034, 1.0866, 1.1227, 1.0659, 0.9732, 0.8759, 0.9742, 0.7344, 1.0446, 0.8232, 1.0553, 0.8489, 0.9919, 1.0207, 1.02, 0.641, 0.6825, 0.6629, 0.8295, 0.9145, 0.7208, 0.8571, 0.297, 0.47, -0.3488, 0.751, 0.5588, 0.4586, 0.3236, 0.0658, 0.6315, -0.2225, 0.5412, 0.3855, 0.4069, 0.066, -0.2754, 0.0169, -0.0481, -0.7373, 0.0574, 0.0936, -0.4278, -0.4159, 1.2836, 1.2832, 1.2823, 1.2818, 1.2816, 1.2815, 1.2808, 1.2807, 1.2805, 1.2801, 1.2799, 1.2799, 1.2797, 1.2795, 1.2793, 1.2783, 1.2782, 1.2778, 1.2778, 1.2778, 1.2774, 1.2772, 1.2762, 1.2761, 1.2756, 1.2756, 1.2755, 1.2752, 1.275, 1.2749, 1.2743, 1.2725, 1.2748, 1.2742, 1.261, 1.2644, 1.2708, 1.2506, 1.2572, 1.2718, 1.2498, 1.2389, 1.2581, 1.2608, 1.2675, 1.2124, 1.2065, 1.2554, 1.1851, 1.1873, 1.2208, 1.2186, 1.1893, 1.1014, 1.1857, 1.1711, 1.1751, 1.1858, 1.2058, 1.1428, 1.0621, 0.9878, 0.944, 1.0202, 1.0501, 0.808, 0.8984, 1.0232, 1.0054, 0.9877, 0.2677, 0.8746, 1.0193, 1.0797, 0.7851, 0.8192, 1.0445, 0.5519, 0.5255, 0.483, 0.4287, 0.4108, 0.1975, 0.2971, 0.5869, 0.7117, 0.0148, 0.7288, 0.5172, 0.1733, -0.2165, 0.4331, 0.6168, -0.3819, 0.6084, 0.4493, -0.1326, 1.5914, 1.5905, 1.5888, 1.5887, 1.5882, 1.5879, 1.5876, 1.5864, 1.5862, 1.5856, 1.5856, 1.5849, 1.5846, 1.5843, 1.5833, 1.583, 1.5829, 1.5824, 1.5824, 1.5822, 1.5822, 1.5816, 1.5814, 1.5812, 1.5811, 1.5806, 1.5802, 1.5802, 1.5798, 1.5795, 1.5766, 1.5658, 1.5657, 1.5764, 1.5359, 1.5041, 1.4821, 1.5134, 1.5594, 1.4474, 1.4825, 1.4911, 1.5043, 1.5462, 1.5243, 1.4293, 1.3475, 1.3117, 1.238, 1.3852, 1.4564, 1.4489, 1.3619, 1.3442, 1.2813, 1.4394, 1.3031, 1.2851, 1.2543, 1.2844, 1.2378, 0.9832, 1.118, 1.1196, 1.0273, 1.2177, 1.0175, 0.7789, 1.1431, 1.0343, 0.8663, 0.8393, -0.0356, 0.8954, 0.9927, 0.0552, 0.5291, 0.5788, 0.1343, 0.0125, 0.064, 0.5407, 0.1668, 0.2224, 0.6025, 0.3974, 0.0237, -0.8232, 0.4231, -0.3916, 2.0201, 2.0182, 2.0179, 2.017, 2.0165, 2.0162, 2.0156, 2.0137, 2.0137, 2.0132, 2.0132, 2.012, 2.0115, 2.0111, 2.0105, 2.0102, 2.0094, 2.0083, 2.0083, 2.0082, 2.0081, 2.0077, 2.0076, 2.0075, 2.0072, 2.0072, 2.0071, 2.0065, 2.0065, 2.0058, 1.9898, 1.9623, 1.9589, 1.9709, 2.0029, 2.0022, 1.902, 1.8818, 1.8336, 1.9026, 1.8375, 1.8041, 1.8721, 1.8744, 1.7923, 1.8356, 1.9163, 1.7044, 1.8142, 1.8274, 1.7067, 1.7226, 1.7629, 1.5265, 1.4377, 1.3816, 1.6986, 1.4701, 1.6551, 1.4335, 1.3024, 1.2578, 1.4315, 1.4224, 1.4722, 1.2284, 0.3722, 1.4171, 0.9679, 1.0454, 1.3305, 0.8524, 0.7827, 0.4389, -0.0023, 2.551, 2.5502, 2.5498, 2.5496, 2.5488, 2.5475, 2.5454, 2.5447, 2.5447, 2.5446, 2.5444, 2.5438, 2.5434, 2.543, 2.5428, 2.5427, 2.5424, 2.5423, 2.5422, 2.542, 2.5417, 2.5415, 2.5408, 2.5406, 2.5394, 2.5394, 2.5392, 2.5391, 2.5388, 2.5387, 2.5361, 2.5332, 2.5361, 2.534, 2.5239, 2.5153, 2.5144, 2.4251, 2.4446, 2.4959, 2.48, 2.3449, 2.3626, 2.4067, 2.3197, 2.3747, 2.4192, 2.4032, 2.3802, 2.2375, 2.0123, 1.5264, 1.7398, 2.1973, 2.0946, 2.2683, 1.7621, 1.7151, 1.8387, 1.2255, 1.8794, 1.9503, 1.4601, 1.074, 1.723, 0.6035, 1.3967, 1.8061, 0.159, 1.52, 0.7244, -0.9124, -0.1537, 0.1236, 0.4509, 0.9099, 0.9557, 0.216, 0.713, 0.8924, -0.1624, 0.1664]}, \"token.table\": {\"Topic\": [1, 1, 2, 3, 5, 1, 2, 3, 4, 5, 1, 2, 3, 4, 5, 1, 3, 2, 3, 1, 2, 5, 1, 3, 1, 2, 3, 4, 5, 1, 5, 5, 5, 3, 5, 1, 2, 1, 2, 3, 4, 5, 1, 1, 2, 3, 4, 5, 1, 3, 1, 2, 3, 4, 5, 1, 3, 3, 1, 2, 3, 4, 5, 1, 2, 3, 5, 1, 2, 3, 4, 5, 1, 2, 3, 4, 5, 5, 2, 1, 2, 3, 4, 5, 1, 3, 1, 2, 3, 4, 5, 1, 2, 3, 4, 5, 1, 1, 2, 3, 4, 5, 1, 3, 1, 3, 1, 2, 3, 4, 5, 1, 2, 3, 4, 5, 5, 1, 2, 3, 4, 5, 2, 3, 4, 5, 1, 2, 3, 4, 5, 1, 2, 3, 4, 5, 2, 2, 1, 3, 5, 1, 2, 3, 4, 5, 1, 2, 3, 4, 5, 1, 2, 3, 4, 5, 1, 2, 3, 4, 5, 1, 2, 3, 4, 5, 1, 2, 3, 5, 1, 3, 5, 4, 1, 2, 3, 5, 2, 1, 2, 3, 4, 5, 3, 1, 2, 3, 5, 1, 2, 3, 4, 5, 1, 2, 3, 4, 5, 1, 2, 3, 4, 5, 1, 2, 3, 4, 5, 1, 2, 3, 5, 1, 2, 3, 4, 5, 1, 2, 3, 4, 5, 4, 4, 1, 2, 3, 4, 5, 1, 2, 3, 4, 5, 5, 1, 2, 3, 4, 5, 2, 4, 5, 2, 4, 3, 5, 1, 2, 3, 4, 1, 3, 1, 1, 1, 2, 3, 4, 5, 1, 2, 3, 5, 2, 3, 4, 5, 1, 2, 3, 4, 5, 1, 2, 3, 4, 5, 1, 2, 3, 2, 4, 2, 2, 1, 2, 4, 5, 1, 2, 3, 4, 5, 1, 2, 3, 4, 5, 1, 2, 4, 2, 3, 4, 5, 1, 2, 3, 4, 5, 1, 2, 3, 4, 5, 1, 2, 3, 4, 5, 1, 2, 3, 4, 5, 1, 2, 3, 4, 5, 4, 5, 1, 2, 3, 4, 5, 1, 2, 3, 4, 5, 2, 4, 1, 2, 3, 4, 5, 1, 2, 3, 5, 3, 4, 5, 3, 1, 3, 3, 3, 3, 1, 2, 3, 4, 5, 2, 3, 4, 1, 5, 1, 2, 3, 4, 5, 1, 2, 4, 1, 2, 3, 4, 4, 1, 2, 3, 4, 5, 4, 1, 3, 4, 5, 5, 4, 5, 4, 1, 2, 3, 4, 5, 1, 2, 3, 4, 5, 2, 1, 2, 3, 5, 1, 2, 3, 4, 5, 5, 1, 2, 3, 4, 5, 1, 2, 3, 4, 5, 1, 2, 3, 4, 5, 1, 2, 3, 5, 1, 3, 1, 1, 2, 3, 5, 4, 5, 1, 2, 3, 1, 3, 1, 2, 3, 4, 5, 1, 2, 3, 1, 2, 3, 4, 5, 5, 3, 1, 2, 3, 5, 4, 2, 4, 5, 1, 2, 3, 4, 5, 1, 2, 3, 4, 5, 5, 1, 2, 3, 4, 5, 1, 4, 5, 1, 2, 3, 4, 5, 4, 1, 3, 5, 1, 2, 3, 4, 5, 5, 2, 3, 1, 2, 3, 4, 5, 1, 2, 3, 5, 5, 1, 2, 3, 5, 3, 1, 2, 3, 4, 5, 1, 1, 2, 3, 1, 2, 3, 4, 5, 2, 3, 4, 4, 1, 2, 3, 5, 1, 2, 3, 4, 1, 2, 3, 5, 1, 2, 3, 4, 5, 1, 1, 2, 3, 4, 5, 1, 2, 3, 4, 5, 1, 1, 3, 1, 2, 3, 4, 1, 3, 5, 1, 2, 3, 5, 1, 2, 3, 4, 5, 1, 1, 3, 5, 1, 2, 1, 2, 3, 4, 5, 1, 2, 3, 4, 5, 1, 2, 3, 4, 5, 4, 1, 2, 3, 5, 1, 2, 3, 4, 5, 1, 2, 3, 4, 1, 2, 3, 5, 1, 2, 3, 4, 5, 1, 2, 3, 4, 5, 5, 1, 2, 3, 4, 5, 1, 2, 3, 5, 2, 1, 3, 1, 2, 3, 5, 1, 2, 3, 4, 5, 1, 2, 3, 5, 1, 2, 3, 5, 1, 2, 3, 4, 5, 1, 2, 3, 4, 5, 1, 2, 3, 4, 5, 1, 2, 3, 4, 5, 2, 1, 2, 3, 5, 4, 5, 1, 3, 4, 5, 5, 3, 3, 3, 3, 1, 3, 5, 1, 2, 3, 4, 5, 2, 4, 5, 1, 2, 3, 4, 5, 1, 2, 3, 5, 1, 2, 3, 4, 5, 1, 1, 2, 3, 5, 1, 3, 5, 1, 2, 3, 4, 5, 4, 1, 2, 3, 4, 1, 2, 3, 1, 3, 1, 1, 2, 3, 5, 1, 2, 3, 4, 5, 1, 4, 1, 3, 3, 5, 1, 2, 3, 4, 5, 2, 3, 1, 5, 1, 2, 3, 4, 5, 1, 2, 3, 4, 5, 4, 1, 2, 3, 4, 5, 1, 2, 3, 4, 5, 1, 2, 3, 4, 5, 1, 1, 2, 3, 4, 5, 1, 2, 3, 4, 5, 1, 2, 4, 1, 3, 1, 2, 3, 4, 5, 1, 2, 3, 4, 5, 1, 2, 3, 4, 5, 1, 3, 5, 1, 2, 3, 4, 5, 1, 2, 3, 4, 5, 4, 1, 2, 3, 4, 5, 1, 2, 3, 4, 5, 1, 2, 3, 4, 1, 2, 3, 1, 3, 5, 1, 2, 1, 3, 5, 1, 2, 3, 4, 5, 1, 2, 3, 4, 5, 1, 2, 3, 4, 5, 2, 2, 4, 3, 1, 2, 4, 1, 2, 1, 2, 3, 4, 5, 1, 2, 3, 1, 2, 3, 4, 5, 1, 2, 2, 1, 2, 3, 4, 5, 1, 2, 3, 4, 5, 1, 2, 3, 4, 5, 2, 4, 3, 5, 1, 5, 1, 2, 3, 5, 1, 2, 3, 4, 5, 1, 2, 3, 4, 5, 1, 3, 1, 2, 3, 4, 5, 1, 2, 3, 4, 5, 1, 4, 1, 2, 3, 5, 1, 2, 3, 4, 5, 1, 2, 3, 5, 1, 2, 3, 4, 5, 1, 2, 3, 4, 5, 2, 1, 2, 3, 5, 1, 2, 3, 4, 5, 2, 4, 1, 2, 3, 4, 5, 2, 1, 2, 3, 4, 5, 1, 2, 3, 5, 1, 2, 3, 4, 1, 2, 3, 2, 2, 3, 1, 2, 3, 4, 5, 2, 3, 4, 5, 1, 2, 3, 4, 5, 1, 2, 3, 4, 5, 1, 2, 3, 4, 5, 1, 5, 5, 2, 1, 2, 3, 4, 5, 2, 3, 4, 5, 1, 2, 3, 4, 1, 2, 3, 4, 5, 2, 3, 4, 5, 1, 2, 3, 5, 1, 2, 3, 4, 2, 3, 4, 1, 1, 2, 3, 4, 5, 1, 2, 3, 5, 1, 2, 3, 4, 5, 1, 2, 1, 2, 5, 1, 2, 3, 1, 3, 4, 2, 2, 3, 5, 3, 4, 4, 1, 1, 2, 3, 4, 5, 1, 2, 3, 4, 5, 2, 4, 1, 2, 3, 5, 4, 1, 2, 3, 4, 5, 4, 1, 2, 3, 4, 5, 1, 2, 3, 4, 5, 2, 1, 1, 2, 3, 4, 3, 1, 2, 3, 4, 5, 1, 2, 3, 4, 5, 1, 3, 1, 2, 4, 1, 2, 3, 1, 2, 3, 4, 5, 1, 1, 2, 3, 4, 5, 1, 2, 3, 4, 1, 2, 3, 4, 5, 1, 2, 5, 1, 2, 3, 4, 5, 1, 2, 3, 4, 1, 2, 3, 4, 5, 1, 2, 3, 4, 1, 2, 3, 5, 1, 2, 5, 5, 1, 2, 3, 4, 5, 1, 2, 3, 4, 5, 1, 3, 1, 1, 2, 3, 4, 5, 1, 2, 3, 5, 4, 1, 2, 3, 5, 4, 1, 2, 3, 4, 5, 1, 2, 3, 4, 5, 1, 2, 3, 4, 5, 1, 2, 3, 4, 5, 1, 2, 3, 4, 5, 1, 2, 3, 4, 5, 5, 5, 2, 5, 1, 2, 3, 1, 1, 3, 1, 3, 3], \"Freq\": [0.9991970124507144, 0.00651916237217301, 0.07678124571670435, 0.9039905156079907, 0.01303832474434602, 0.028285494854099934, 0.03881513162460429, 0.8956385158911352, 0.003922805855678093, 0.03344708150630795, 0.09459445368613761, 0.03441956282180666, 0.8649992201562998, 0.00011868814766140227, 0.005815719235408711, 0.989708418355474, 0.009147027896076469, 0.005328347813092902, 0.9910726932352798, 0.9881910807089441, 0.01061619782319367, 0.0008846831519328058, 0.9958944799065881, 0.003281365666908033, 0.14455257009671163, 0.00119960639084408, 0.15055060205093204, 0.00179940958626612, 0.7017697386437868, 0.9982051644428934, 0.9956594295903463, 0.9881733309722901, 0.9877576996143482, 0.9856754928612778, 0.9903649909335357, 0.002055318662080349, 0.9968295511089691, 0.0015593459651010702, 0.906291874916742, 0.04241421025074911, 0.022766451090475624, 0.02713261979275862, 0.9965623100102946, 0.07721573364912022, 0.6282096314038587, 0.08675784057161313, 0.1884566117192349, 0.019335321921893522, 0.9945951419619753, 0.004274764220466943, 0.7038599627266108, 0.002229356307578051, 0.23256455268202522, 4.7433112927192586e-05, 0.06128358190193282, 0.9961855694939075, 0.9856331774828997, 0.9856457547736573, 0.04518244228970878, 0.3454595197785529, 0.14057877923991796, 0.15355992635656038, 0.31527080555380316, 0.49440785889096867, 0.05355357328118811, 0.36292569824805165, 0.08908392768197637, 0.0014706948966882309, 0.14517859623022394, 0.005672680315797462, 0.8296820210031177, 0.017963487666691962, 0.018002783482810158, 0.40438905483155874, 0.5628013026888032, 0.012797897101725587, 0.0020207205950093033, 0.9920596714599095, 0.9964426893498751, 0.26776606420042803, 0.007622275772617676, 0.10438034116855265, 0.5780375250622769, 0.042057027498325766, 0.9945389364170887, 0.004241104206469461, 0.17169145776825162, 0.016297423143564724, 0.1781346250575679, 0.00037900984054801685, 0.6333254435557362, 0.13778435159731148, 0.029861113742079448, 0.780150987371808, 0.0004702537597177866, 0.05149278668909763, 0.9964873778514822, 0.415865098632419, 0.33738360611235907, 0.23267389062725213, 0.009807877742563378, 0.004248233297155513, 0.9948204696000686, 0.9952631818805336, 0.008843953673315365, 0.9905228114113208, 0.4543752688693926, 0.0046429428309924005, 0.203656355995803, 0.33466120882937267, 0.0026380356994275002, 0.4888017644183787, 0.04930453669556187, 0.30273947997629824, 0.11444602306618443, 0.044710946320198966, 0.9976651011496918, 0.5308828119658011, 0.09388010891212156, 0.1655971489751854, 0.015830763463612653, 0.19372436591983672, 0.2167076734526108, 0.0008773590018324324, 0.028952847060470268, 0.7536513825740594, 0.6548951415803232, 0.0588831157999852, 0.20194809696505245, 0.03955001023713828, 0.044852804905804865, 0.03860515989752465, 0.14567984866990435, 0.6876088857219486, 0.12237107288271966, 0.005827193946796174, 0.9920941100169842, 0.9987761726798076, 0.9959683651610984, 0.0024837116338182006, 0.0024837116338182006, 0.722225406876632, 0.26158169147605387, 0.004257611768742168, 0.008515223537484335, 0.0033612724490069746, 0.29148381556008185, 0.05335860637313608, 0.2984436337826648, 0.00016570995768054684, 0.35660782892853676, 0.04744929673373098, 0.4488569981940856, 0.13858592549851861, 0.09944935722069703, 0.2656432494888417, 0.09746593035935318, 0.28929065571425466, 0.03401495556165346, 0.5471011241899598, 0.03205255427925038, 0.05147186507314895, 0.17639341561112412, 0.014651880261118185, 0.7307863135431739, 0.026639782292942154, 0.9340362654388126, 0.000927236530879033, 0.06243392641252156, 0.002472630749010755, 0.028627863584923717, 0.006223448605418199, 0.9646345338398209, 0.9858905849445427, 0.9338505194483605, 0.0007613946346908769, 0.06471854394872453, 0.00038069731734543844, 0.9900340486793979, 0.10350909628999935, 0.46836771360639146, 0.10529431662952748, 0.31103253990948715, 0.011822874324044833, 0.9957945155584785, 0.07139655689753045, 0.8684369299952404, 0.05998372438231184, 0.0002654147096562471, 0.06861878698818048, 0.2762239835701269, 0.04109763700901755, 0.5768856437939922, 0.03718576786482215, 0.7626627423369472, 0.037713039040453346, 0.13451348830466486, 0.017953377075861678, 0.0471276148241369, 0.23277278606704482, 0.49802665967601867, 0.19848997410060196, 0.02577466885068331, 0.04489296691080181, 0.0417411463636594, 0.18590839509214013, 0.5438330582089185, 0.0002266780640384917, 0.22829719306733806, 0.03983382234823261, 0.04846912649365366, 0.7941694231804977, 0.11755155965702209, 0.7419203566785842, 0.07845015928690713, 0.014053905540702615, 0.15443564110958657, 0.011117268562048336, 0.0008583700142946639, 0.029613765493165904, 0.19785428829492002, 0.7248934770718436, 0.04678116577905918, 0.9949592442157266, 0.9952610541847682, 0.18520264710330486, 0.7436501519974268, 0.06455274548098155, 0.00132512967263012, 0.0052374172775380935, 0.08992541947509942, 0.5088431156753824, 0.03019109904567459, 0.3425329198594025, 0.02850661712467129, 0.9918370659850614, 0.942055352086462, 0.0063225191415198796, 0.016709514874016822, 0.0018064340404342512, 0.032967421237925086, 0.0014932404323086239, 0.9978579188902378, 0.0005599651621157339, 0.9735031576330679, 0.026274166190189827, 0.014901241873539988, 0.9834819636536392, 0.008352430866109064, 0.0013920718110181772, 0.989763057633924, 0.0013920718110181772, 0.982016249307305, 0.016848318002821407, 0.9945933058240061, 0.9952279918832128, 0.0010726369301719103, 0.11799006231891013, 0.004290547720687641, 0.0010726369301719103, 0.8763443719504507, 0.055025924244684825, 0.1566522531427133, 0.782741171911632, 0.005512994300507175, 0.1042551374899043, 0.00022763130456310982, 0.0673788661506805, 0.8281226860005935, 0.36799969605791577, 0.43399039196446726, 0.126875622495874, 0.06242214745902584, 0.00872921851010124, 0.2301846319453483, 0.5642354986816656, 0.09493866874735783, 0.09946907539635456, 0.011192769368109555, 0.05682799952073227, 0.9386284546689656, 0.004252435338286088, 0.01130839504988375, 0.9838303693398863, 0.9967341849664514, 0.9961261376113419, 0.0003189118603432265, 0.9886267670640022, 0.010524091391326476, 0.0003189118603432265, 0.01678445140025936, 0.09559839710582503, 0.0010946381347995233, 0.8311952236911047, 0.05546166549650918, 0.00024904954562304197, 0.0007471486368691259, 0.0007471486368691259, 0.9929605383990684, 0.005230040458083882, 0.002346892218772021, 0.009387568875088084, 0.9856947318842487, 0.00032960496047186816, 0.0004944074407078022, 0.9700273986687079, 0.029334841481996263, 0.8333445825092454, 0.0031305205954517104, 0.10748120711050874, 0.017739616707559695, 0.03819235126451087, 0.540360260376979, 0.14815954133370088, 0.1802365186519206, 0.09786097798897886, 0.033415943703553753, 0.09331707945033484, 0.6800239872822916, 0.1213398938134621, 0.03948669296622477, 0.0658480756477437, 0.029988001121656307, 0.9661759111383641, 0.0032799376226811585, 0.0004685625175258798, 0.9974360380058087, 0.07624136352647262, 0.7914318921186081, 0.05379327803573383, 0.06761801361234736, 0.010950285605238438, 0.9848935907150038, 0.012959126193618472, 0.8185819510923489, 0.07611634329401877, 0.09260576389156248, 0.00014722696962092606, 0.012367065448157789, 0.24850092132826695, 0.46447501763136934, 0.1913401793597783, 0.0006032795986120177, 0.09511708338116145, 0.006858972031436669, 0.9876919725268803, 0.330099188361132, 0.41760928662391505, 0.20831333826887055, 0.014450148326087027, 0.029536103178521882, 0.1842687386183074, 0.00021035244134509978, 0.7488546911885552, 0.06668172390639662, 0.989386364007736, 0.0070169245674307525, 0.0035084622837153762, 0.9956643877817386, 0.008423794294142861, 0.9855839324147146, 0.9950899659562435, 0.998476327302071, 0.9986552768788557, 0.1836588107780731, 0.019953513582683356, 0.5683353713953153, 0.06894155157360564, 0.1591339039906883, 0.9876450484906449, 0.004247935692432881, 0.006371903538649322, 0.9976039039588884, 0.0028916055187214154, 0.008285614772499396, 0.12112779691225309, 0.8494727907233905, 0.011836592532141995, 0.009074720941308864, 0.0035314682160196864, 0.01059440464805906, 0.9817481640534729, 0.0014504601582408288, 0.06889685751643937, 0.923943120799408, 0.005076610553842902, 0.98588366421076, 0.046405595298419935, 0.04062678531786198, 0.075474760655166, 0.7960748536853473, 0.04150236258764349, 0.9998271083445474, 0.04031148611697777, 0.008941154755696054, 0.9405301389942254, 0.010192306103762736, 0.9874140975776767, 0.9964785642734265, 0.9988151899303395, 0.9945208431285023, 0.13581499608028658, 0.00025433519865222207, 0.04476299496279108, 0.7731790039027551, 0.04603467095605219, 0.10181171931334793, 0.005681256259292222, 0.07042954188106708, 0.8055660660993242, 0.01650269675318217, 0.9973410085223605, 0.9493027534004497, 0.010795198332912008, 0.038457894060999025, 0.0006746998958070005, 0.33935838557222664, 0.004260085181674951, 0.17951998955578244, 0.45301745821931433, 0.023856477017379727, 0.9933319103607383, 0.3082202877557198, 0.04153598336254662, 0.4981212509422414, 0.04169125806670568, 0.11047795200916607, 0.9304320132515509, 0.0019027239534796542, 0.05919585633047813, 0.00021141377260885046, 0.008456550904354019, 0.10543304964385401, 0.31013960470128094, 0.1355755001324636, 0.004586894639571026, 0.4442735093755936, 0.9796688754498984, 0.0007101622873866608, 0.00852194744863993, 0.011362596598186572, 0.9501758338290243, 0.049908225615261884, 0.9963154275214615, 0.9651628718271977, 0.007033575584165813, 0.027352793938422607, 0.000781508398240646, 0.007931689502045324, 0.9888172912549837, 0.014934429485924052, 0.9771383863647451, 0.007253865750305968, 0.04387613916907921, 0.9551497988345705, 0.03516058047788999, 0.27657240107866043, 0.021748812666736075, 0.11816854882259933, 0.5484325594128613, 0.00998912993442247, 0.9874968449457641, 0.0014270185620603529, 0.31081634312989265, 0.015418860071185817, 0.6222424716863293, 0.011411698696753344, 0.039984501540532714, 0.9884588152630084, 0.985632684171981, 0.3931471553829509, 0.0013843209696582778, 0.1306798995357414, 0.4748220925927893, 0.9858791214412305, 0.11662015004724774, 0.08997454455914419, 0.7933455277862065, 0.8576263672402206, 0.08644509802421321, 0.0005687177501592975, 0.0048341008763540284, 0.05033152088909783, 0.24737285707128337, 0.037984335888855546, 0.08931169995728985, 0.5584458940209935, 0.06688205915502689, 0.9936586116797926, 0.13015723196097775, 0.4808668982370013, 0.087463287992001, 0.17907737609209695, 0.12241566033080063, 0.997255529462576, 0.013153459686077163, 0.9838787845185718, 0.14784116544252843, 0.01773449094730439, 0.21500047349013282, 0.5279940858794334, 0.09143339253172729, 0.9914150336996495, 0.992259267710067, 0.0062275686257954, 0.0020758562085984667, 0.02853961582104846, 0.12583376066553184, 0.8128601487940439, 0.02386949686851326, 0.00882133579923316, 0.9899661765171615, 0.0046933809418050094, 0.994996759662662, 0.06871964609376278, 0.11400548277788779, 0.11857507561276714, 0.5550297758672708, 0.14364925168107956, 0.9826361971492945, 0.00041217961289819404, 0.01318974761274221, 0.0037096165160837463, 0.9862009100697731, 0.011061791126967181, 0.005530895563483591, 0.0013827238908708976, 0.9817339625183373, 0.9856233427508972, 0.0009765198065124831, 0.20702219898064642, 0.027342554582349528, 0.03417819322793691, 0.7307623218735082, 0.9984780741826732, 0.004588030954466574, 0.022940154772332872, 0.9680745313924473, 0.3142982927027425, 0.3293147666874291, 0.1462280743625083, 0.15314898626242726, 0.05701815491859854, 0.9741358187752643, 0.016408316096391862, 0.008635955840206244, 0.9879763510975708, 0.40666873885876004, 0.019940248935754117, 0.062348383996301604, 0.5108635607624893, 0.01984950308498334, 0.1603839849266654, 0.7350270992369331, 0.08475737817287887, 0.033248499678803174, 0.23260859814658755, 0.7326450893789818, 0.0013089960503465815, 0.11507672407953021, 0.0885880269209798, 0.3453354253398829, 0.2900775471614499, 0.1609319918758552, 0.9980166212929609, 0.003262280298401814, 0.22649546071761165, 0.003262280298401814, 0.7425182979183843, 0.024350592227356395, 0.61149546553003, 0.23606060035675977, 0.07912121690032266, 0.05170503765818187, 0.021630635713856327, 0.9951439095113496, 0.9955870837435016, 0.0031706595023678393, 0.06123201304893582, 0.9364896113366655, 0.0005145547315036624, 0.0015436641945109871, 0.9793355137307314, 0.0024699508543019706, 0.01852463140726478, 0.9766624464139826, 0.000852980302544963, 0.02217748786616904, 0.0004264901512724815, 0.010243106098664655, 0.07839915821670254, 0.8958778180139778, 0.007879312383588195, 0.007485346764408786, 0.9962652282040468, 0.997331814160525, 0.0015099648965337244, 0.0015099648965337244, 0.003553591393182847, 0.9950055900911972, 0.5996115402661785, 0.05041288444977193, 0.3493776152937089, 0.00024736449680947954, 0.00039578319489516725, 0.8178202667479668, 0.05332193354055769, 0.11681284218175964, 0.004432630172075701, 0.007561545587658548, 0.33004206685118964, 0.18901803503616169, 0.20600202872599738, 0.13231262452531317, 0.1426167891179982, 0.9858724720268766, 0.07717391914351149, 0.012862319857251916, 0.044433468597779344, 0.8652833358514924, 0.4641612455416013, 0.09472445850812149, 0.2440494171671337, 0.07135681230575698, 0.12561534690246676, 0.01817836889297738, 0.8933004094027899, 0.05991180733741841, 0.028675736845260095, 0.9637214094865297, 0.0009798895876833042, 0.025967074073607564, 0.009308951082991391, 0.20145195655936018, 0.011953752763845573, 0.13753506211685756, 0.6103550478375479, 0.038693584039686695, 0.09119166316364224, 0.26091497551593085, 0.047870677842953194, 0.10958824597105814, 0.49037772881273123, 0.9998409470189478, 0.728059000270763, 0.09216119278387828, 0.08869973953377956, 0.07975765197102455, 0.011249723062820823, 0.27133683802376735, 0.015194862929330972, 0.7132088787454725, 0.00027133683802376736, 0.9941958783570704, 0.9975301176544349, 0.002089068309223947, 0.2943963952021418, 0.006522671454544809, 0.26557981683579457, 0.4334169151587088, 0.013630539081365243, 0.0006490732895888211, 0.014279612370954065, 0.889230406736685, 0.08178323448819147, 0.16449486610445177, 0.001461248810572541, 0.39725092664564937, 0.4369133943611898, 0.06441826003844386, 0.018169252831355964, 0.8580842587172203, 0.059463009266255876, 0.00193233444709395, 0.12415248822578628, 0.03429893643591761, 0.0014492508353204623, 0.8381500664270007, 0.07193182906325031, 0.6640259575811838, 0.05367370503459452, 0.19255198886958272, 0.017869653304641842, 0.11776069500327242, 0.743527943728995, 0.08439516475234524, 0.04830369248745341, 0.005888034750163621, 0.10509423998936991, 0.833113323592001, 0.022705545676715722, 0.03755425173831394, 0.0015857841425007805, 0.9951620437475811, 0.9662752947804506, 0.01768809378520699, 0.009096733946677881, 0.006822550460008412, 0.034281183457853664, 0.9651471650441878, 0.009107999304895519, 0.00341549973933582, 0.1252349904423134, 0.8629829341388505, 0.9929693232072145, 0.994805120342669, 0.9966069077083943, 0.9957957026547325, 0.985696895403994, 0.032463200001278524, 0.9156861241739941, 0.05149335172616593, 0.2202155331095485, 0.20313481367254807, 0.4709248659501836, 0.04746972947828954, 0.058263067527437054, 0.0028707043811837716, 0.022965635049470173, 0.9731687852212987, 0.027975942685412394, 0.3264692597306607, 0.638076299909696, 0.0004995704050966499, 0.006993985671353098, 0.04513455154399259, 0.08444528998553452, 0.8662921989895351, 0.004367859826837992, 0.05926708180882728, 0.37271679849554434, 0.06714435217582332, 0.46651727093111317, 0.03436928082742911, 0.9968290558702252, 0.9884403411795266, 0.001959247455261698, 0.00940438778525615, 0.00019592474552616981, 0.984532119589287, 0.011000358878092592, 0.0041251345792847225, 0.32730562910658206, 0.03947813992165834, 0.16387501796748422, 0.37726436339768626, 0.09210331518308096, 0.985868609599394, 0.017924239585943236, 0.06640389430497091, 0.9155797818027784, 0.0001202969099727734, 0.04757862041115164, 0.01730131651314605, 0.9342710917098868, 0.009475960475305198, 0.9886585429235091, 0.9977758188228895, 0.07996175933572014, 0.08278998876560091, 0.0236542825044574, 0.8136730365844876, 0.16280837833735268, 0.33018871970274144, 0.30856875894304536, 0.00813654437192862, 0.1903951383031297, 0.9980825770312195, 0.9879793778409754, 0.0028985298689008132, 0.9970942749018797, 0.9982498822446444, 0.9895742449307721, 0.04095934805555065, 0.11263820715276428, 0.015359755520831492, 0.8247723267549516, 0.006516259917928512, 0.008425517427191095, 0.9857855389813581, 0.0026936808149159597, 0.9966619015189051, 0.11200081338290063, 0.0010075830749408674, 0.07509145442717202, 0.7291719621282593, 0.08278090420961548, 0.02585310900684276, 0.02641513311568717, 0.021469320957856378, 0.04473711906401486, 0.8815910171333381, 0.99866525867569, 0.7711810024717337, 0.0023717419049284452, 0.10289711033689564, 0.11439093649154887, 0.009304525934719286, 0.21801780024062595, 0.361908245633976, 0.19633838711541368, 0.1924161325248881, 0.03131987755174727, 0.42707723565573047, 0.24253804794022477, 0.25412620278732684, 0.035548625395621494, 0.040718278435180826, 0.9958407299683828, 0.03085462386663641, 0.22814790447672864, 0.735574232980612, 0.00017631213638077947, 0.005289364091423385, 0.05852514903070226, 0.02271430609233549, 0.16166037669319855, 0.6941164528396575, 0.06323171695974475, 0.0067332719802601386, 0.9909131930949504, 0.002244423993420046, 0.005696748699760578, 0.9912342737583406, 0.6353776910511797, 0.09677780350554263, 0.15777088098191996, 0.033478599240619106, 0.07665883531581191, 0.29450119916378864, 0.003683423245355183, 0.15830086931795986, 0.4878233660567271, 0.05568299984189281, 0.1354683061414517, 0.6071945194478215, 0.12397613621171415, 0.09308160146553658, 0.04024746958076916, 0.878449188521198, 0.12097349611845776, 0.0005858280683702555, 0.0051834976133836716, 0.02222805741268645, 0.003719921816663576, 0.9436709860977132, 0.025185700168558308, 0.9507590060803928, 0.03473799486958847, 0.00022126111381903487, 0.009514227894218498, 0.004867744504018767, 0.9952691189465267, 0.042154179304654135, 0.31577438764128885, 0.11069812489558269, 0.5016833464527536, 0.029723210448751185, 0.586612032713053, 0.01947588648350602, 0.1174391784530042, 0.23225098892215212, 0.04420650893472459, 0.015494332658533557, 0.9713754705157576, 0.010726845686677077, 0.0011918717429641196, 0.01672455822674814, 0.0092914212370823, 0.973740945646225, 0.892952146672435, 0.013067592390328318, 0.09389307124902568, 0.005565449582521058, 0.9937419421234823, 0.9898905110659404, 0.0016334826915279546, 0.008167413457639772, 0.0031197641787686667, 0.007799410446921666, 0.021838349251380666, 0.9016118476641446, 0.06551504775414199, 0.18206785691397473, 0.12084100582592153, 0.12617958684722316, 0.556102189718921, 0.014792318246523297, 0.06927262733242166, 0.025131464799669257, 0.05155172266598822, 0.813872821589289, 0.04059698159946572, 0.9884344566970512, 0.9904037780858461, 0.009425138834664688, 0.985714281411505, 0.004119635722149623, 0.9955786328528256, 0.0004577373024610692, 0.006497534408599228, 0.9908739973113823, 0.07628001677026519, 0.7870416984559141, 0.03684712674495861, 0.09615807198794023, 0.0037170347155002104, 0.034097924317877656, 0.9560047669864218, 0.010103088686778566, 0.9270960369824934, 0.001448135015592773, 0.061690551664252136, 0.001448135015592773, 0.00868881009355664, 0.001728946100897082, 0.9958729541167193, 0.9938326735983897, 0.0019496279468630617, 0.9921910920883538, 0.002034394379335369, 0.003644956596309202, 8.476643247230702e-05, 0.015384527581500733, 0.967027447980046, 0.0067931680230003235, 0.00819176143950039, 0.002597387773500124, 0.07477332811247113, 0.9065340621160486, 0.01739775456082249, 0.0007403299813115954, 0.0003701649906557977, 0.9964726248172199, 0.003389362669446326, 0.0032528968076213204, 0.9921335263245027, 0.9955363846614266, 0.9903306526446852, 0.006360075729114814, 0.006360075729114814, 0.9858117380127962, 0.9866698909737712, 0.2561107860995075, 0.17804629753775855, 0.4838159075129335, 0.03479183030795224, 0.047257625601844086, 0.03909549746566876, 0.0024766378485039033, 0.06969966516503842, 0.8884053767990431, 0.0005307081103936936, 0.9910938004801902, 0.008681113580848382, 0.03221746522692001, 0.08032299549725264, 0.0004413351400947947, 0.8707542314070299, 0.016329400183507405, 0.644079283264755, 0.2810415805326409, 0.03838917133645277, 0.006175798062593337, 0.030314443675665912, 0.005343574081253404, 0.9939047791131332, 0.28724664572823044, 0.00467638006883566, 0.25381052823605543, 0.4543103236873844, 0.020875731861985044, 0.0689531749380718, 0.044281855464816756, 0.8641287794991385, 0.001897793805635004, 0.9949268087339375, 0.001478345926796341, 0.002956691853592682, 0.001478345926796341, 5.971650562132061e-05, 0.44661974554185685, 0.0030455417866873512, 0.5499890167723629, 0.0002985825281066031, 0.006172179845593308, 0.9057673923408179, 0.03909047235542428, 0.005143483204661089, 0.04371960723961926, 0.9933765151740157, 0.9483500930430945, 0.04385095991259685, 0.0017540383965038739, 0.005846794655012913, 0.001829700173954202, 0.9078362363102767, 0.0004574250434885505, 0.08752065832080934, 0.002439600231938936, 0.9963865870290466, 0.0036430953821902983, 0.006138178503142524, 0.5130871104574188, 0.24565636493629345, 0.23002016285460408, 0.005104380018402731, 0.9907389771465952, 0.05998664600291371, 0.057017010062175404, 0.004157490317033623, 0.8623822771904031, 0.016036034079986834, 0.003586900550244802, 0.03586900550244802, 0.028695204401958416, 0.9308006927885262, 0.010910884970025932, 0.15291051834804456, 0.00332070412131224, 0.8330223481463276, 0.0746308896607414, 0.9247967585932431, 0.0005218943332918978, 0.9990689237131779, 0.9975797417207731, 0.0013684221422781524, 0.005217262489311643, 0.195601036285672, 0.7016137549975485, 0.000740913016233606, 0.09681263412119119, 0.13595927723862256, 0.0009248930424396093, 0.019422753891231794, 0.8425775616624841, 0.5810703408762538, 0.004562750989109583, 0.2111673177065102, 0.000400241314834174, 0.2028422983579594, 0.4133864296983947, 0.05818100969109722, 0.18037995884812666, 0.012144579692801848, 0.3359058941388914, 0.15830054560761717, 0.03905692303757888, 0.5489788735337903, 0.004145706914603344, 0.24961519527927506, 0.011200278132166695, 0.9878645312571025, 0.987153602053328, 0.9907127293100637, 0.857080979474247, 0.0005939577127333659, 0.13839214706687425, 0.0038607251327668784, 0.00029697885636668296, 0.0997253355777013, 0.00024323252579927146, 0.0012161626289963574, 0.8989874153541073, 0.9377525802653429, 0.04681699991856242, 0.015134806008155954, 0.00020179741344207938, 0.7084084762365039, 0.13108669532083211, 0.06777511039437287, 0.0016444567513366035, 0.09114988850265746, 0.0857952413303122, 0.8731870823243925, 0.04009123426650103, 0.0008018246853300206, 0.8973163231684645, 0.0966551578050065, 0.0013709951461703049, 0.004798483011596067, 0.8878107252224408, 0.007752333591539915, 0.10044327870777803, 0.004044695786890391, 0.9095376716576659, 0.08668036457650531, 0.0033338601760194353, 0.9971300534563748, 0.06389019474995417, 0.9254397906205482, 0.008389621532822264, 0.00016133887563119737, 0.002097405383205566, 0.9160790655842167, 0.0179699944634857, 0.01679803830282359, 0.04922215874780866, 0.012184862483008768, 0.9808814298822058, 0.002707747218446393, 0.0006769368046115982, 0.004061620827669589, 0.0001929212849603184, 0.9995251773794097, 0.9542781532664039, 0.04474863656559973, 0.0005391401995855389, 0.00692975435619907, 0.9897999138771005, 0.002309918118733023, 0.015022506017104078, 0.9839741441203171, 0.9843004996796278, 0.9989194569896294, 0.003969057251458346, 0.003969057251458346, 0.9922643128645866, 0.012142601032583406, 0.9835506836392559, 0.9891349655937102, 0.9968441535794121, 0.0003007586560176552, 0.0019549312641147587, 0.0001503793280088276, 0.990849392250165, 0.006767069760397242, 0.034915217276738644, 0.0020066216825711863, 0.0012039730095427118, 0.9518075514329327, 0.010033108412855932, 0.009577445285254602, 0.9864768643812238, 0.9479907327212946, 0.0010406045364668437, 0.04838811094570824, 0.0020812090729336874, 0.9958200944668841, 0.2038733862015419, 0.42515463528443337, 0.10770253041012444, 0.20569417693081143, 0.0575480221402458, 0.9835610057078508, 0.03921670569046304, 0.20438616434173754, 0.7552748881962825, 0.0006182813960208136, 0.0004416295685862955, 0.0012372315843423663, 0.9912287043222924, 0.0016496421124564883, 0.004330310545198282, 0.0016496421124564883, 0.9957324245562752, 0.9956747012587155, 0.024236251526925393, 0.027203955795528503, 0.9452138095500904, 0.0034623216467036277, 0.9856595781664761, 0.11683783034504742, 0.7567879214314738, 0.08799596515822546, 0.00011310535367381164, 0.03822960954174834, 0.16182043367194368, 0.8009929918032336, 0.03025812147942103, 0.00012103248591768413, 0.006898851697307995, 0.9838766153519916, 0.015776447184944472, 0.003419066127928447, 0.9829815117794285, 0.011966731447749564, 0.004344867971779522, 0.021724339858897608, 0.9732504256786129, 0.026374392430110975, 0.4270375359697143, 0.3106042425587366, 0.2355881470164322, 0.0003958633010147989, 0.997733654037273, 0.23462636528665237, 0.22301522322629302, 0.44334415483435985, 0.010762839444077379, 0.08825881803566903, 0.00032542380640661865, 0.7681086577217556, 0.21922717091592545, 0.01225763004131597, 0.28544640537336174, 0.05179915464304248, 0.572395687573891, 0.05250049716238735, 0.037872496044622936, 0.9852992744808802, 0.013514079824550725, 0.0012285527113227931, 0.27903923470986397, 0.26483876475007445, 0.3716381325726581, 0.02047234419202988, 0.06402045206871773, 0.03405438476845185, 0.930921657168083, 0.0019852331927797044, 0.03298541304926278, 0.0012295949647012825, 0.994250488457457, 0.0002459189929402565, 0.004180622879984361, 0.0002459189929402565, 0.019953580174364074, 0.97667524011361, 0.001050188430229688, 0.001050188430229688, 0.013353785129053027, 0.00021423184699015553, 0.0013568016976043182, 0.9850380324607351, 0.003807880577837062, 0.049502447511881806, 0.9462583235925099, 0.9861980688503816, 0.15775704712707622, 0.7674920518550712, 0.03200673536788728, 0.0313371383936637, 0.011517067956645631, 0.09624914334385472, 0.7703652439544867, 0.08421800042587288, 0.038946173981920594, 0.010170656899737226, 0.005474829170962534, 0.9936814945296999, 0.9961313224532116, 0.11797647426735364, 0.08043850518228657, 0.15765947015728168, 0.0604897558970795, 0.5834472909221853, 0.1686819170177471, 0.20091694304469876, 0.6233282567074654, 0.007065211183989407, 0.9901529764700662, 0.2911975115806594, 0.007087013532249687, 0.7014568505031135, 0.0001574891896055486, 0.9913294042989997, 0.03388480916576317, 0.6212883847854326, 0.240353905429688, 0.038173708031303884, 0.06631490409643066, 0.006042544174542154, 0.5739688948444619, 0.1565237346417546, 0.1384689038551708, 0.12500058250227564, 0.012601008267345708, 0.7117798444988651, 0.021558351493531212, 0.20525979731869154, 0.04883523284332775, 0.03176725753341204, 0.04331351106167494, 0.21690892280399293, 0.3491185458128329, 0.35889772054024865, 0.08760346941721578, 0.8967409687616816, 0.011468090541890066, 0.0006371161412161148, 0.0035041387766886313, 0.12246514064215085, 0.8151294673183039, 0.04660012962030093, 0.003914410888105279, 0.011743232664315834, 0.9990351371380861, 0.9955748257872872, 0.004807959896212267, 0.990439738619727, 0.9910703508539243, 0.0014955790002825818, 0.006979368667985382, 0.9982478093317906, 0.983918205694487, 0.015869648478943336, 0.992622000077718, 0.006573655629653761, 0.9856856512039482], \"Term\": [\"1080p\", \"2g\", \"2g\", \"2g\", \"2g\", \"3g\", \"3g\", \"3g\", \"3g\", \"3g\", \"4g\", \"4g\", \"4g\", \"4g\", \"4g\", \"4k\", \"4k\", \"5800\", \"5800\", \"5x\", \"5x\", \"5x\", \"6p\", \"6p\", \"6s\", \"6s\", \"6s\", \"6s\", \"6s\", \"720p\", \"77\", \"970\", \"a1\", \"absurdly\", \"accord\", \"acting\", \"acting\", \"activate\", \"activate\", \"activate\", \"activate\", \"activate\", \"aluminum\", \"amazon\", \"amazon\", \"amazon\", \"amazon\", \"amazon\", \"amoled\", \"amoled\", \"android\", \"android\", \"android\", \"android\", \"android\", \"angles\", \"anna\", \"aplications\", \"apple\", \"apple\", \"apple\", \"apple\", \"apple\", \"apps\", \"apps\", \"apps\", \"apps\", \"arrived\", \"arrived\", \"arrived\", \"arrived\", \"arrived\", \"att\", \"att\", \"att\", \"att\", \"att\", \"audiobooks\", \"avail\", \"awesome\", \"awesome\", \"awesome\", \"awesome\", \"awesome\", \"axon\", \"axon\", \"band\", \"band\", \"band\", \"band\", \"band\", \"basic\", \"basic\", \"basic\", \"basic\", \"basic\", \"bass\", \"battery\", \"battery\", \"battery\", \"battery\", \"battery\", \"bean\", \"belle\", \"bells\", \"bells\", \"best\", \"best\", \"best\", \"best\", \"best\", \"better\", \"better\", \"better\", \"better\", \"better\", \"bien\", \"big\", \"big\", \"big\", \"big\", \"big\", \"birthday\", \"birthday\", \"birthday\", \"birthday\", \"bit\", \"bit\", \"bit\", \"bit\", \"bit\", \"blackberry\", \"blackberry\", \"blackberry\", \"blackberry\", \"blackberry\", \"blacklisted\", \"blank\", \"bloat\", \"bloat\", \"bloat\", \"blu\", \"blu\", \"blu\", \"blu\", \"blu\", \"bluetooth\", \"bluetooth\", \"bluetooth\", \"bluetooth\", \"bluetooth\", \"bought\", \"bought\", \"bought\", \"bought\", \"bought\", \"box\", \"box\", \"box\", \"box\", \"box\", \"brand\", \"brand\", \"brand\", \"brand\", \"brand\", \"bright\", \"bright\", \"bright\", \"bright\", \"bt\", \"bt\", \"bt\", \"buen\", \"build\", \"build\", \"build\", \"build\", \"bulls\", \"buy\", \"buy\", \"buy\", \"buy\", \"buy\", \"c6\", \"called\", \"called\", \"called\", \"called\", \"came\", \"came\", \"came\", \"came\", \"came\", \"camera\", \"camera\", \"camera\", \"camera\", \"camera\", \"cant\", \"cant\", \"cant\", \"cant\", \"cant\", \"card\", \"card\", \"card\", \"card\", \"card\", \"cards\", \"cards\", \"cards\", \"cards\", \"case\", \"case\", \"case\", \"case\", \"case\", \"cellphone\", \"cellphone\", \"cellphone\", \"cellphone\", \"cellphone\", \"celphone\", \"celular\", \"charge\", \"charge\", \"charge\", \"charge\", \"charge\", \"charger\", \"charger\", \"charger\", \"charger\", \"charger\", \"cnpgd\", \"colors\", \"colors\", \"colors\", \"colors\", \"colors\", \"condition\", \"condition\", \"condition\", \"contacted\", \"contacted\", \"costa\", \"costa\", \"countries\", \"countries\", \"countries\", \"countries\", \"crisp\", \"crisp\", \"curved\", \"cyanogenmod\", \"dad\", \"dad\", \"dad\", \"dad\", \"dad\", \"data\", \"data\", \"data\", \"data\", \"daughter\", \"daughter\", \"daughter\", \"daughter\", \"day\", \"day\", \"day\", \"day\", \"day\", \"days\", \"days\", \"days\", \"days\", \"days\", \"dead\", \"dead\", \"dead\", \"dealfisher\", \"dealfisher\", \"dec\", \"defected\", \"defective\", \"defective\", \"defective\", \"defective\", \"delivered\", \"delivered\", \"delivered\", \"delivered\", \"delivered\", \"delivery\", \"delivery\", \"delivery\", \"delivery\", \"delivery\", \"dents\", \"dents\", \"dents\", \"described\", \"described\", \"described\", \"described\", \"design\", \"design\", \"design\", \"design\", \"design\", \"device\", \"device\", \"device\", \"device\", \"device\", \"didnt\", \"didnt\", \"didnt\", \"didnt\", \"didnt\", \"died\", \"died\", \"died\", \"died\", \"digitel\", \"disappointed\", \"disappointed\", \"disappointed\", \"disappointed\", \"disappointed\", \"discribed\", \"discribed\", \"display\", \"display\", \"display\", \"display\", \"display\", \"doesnt\", \"doesnt\", \"doesnt\", \"doesnt\", \"doesnt\", \"dominican\", \"dominican\", \"dont\", \"dont\", \"dont\", \"dont\", \"dont\", \"dual\", \"dual\", \"dual\", \"dual\", \"duos\", \"duos\", \"duos\", \"e6\", \"e63\", \"e63\", \"e7\", \"e71\", \"e72\", \"easy\", \"easy\", \"easy\", \"easy\", \"easy\", \"emailed\", \"emailed\", \"emailed\", \"emui\", \"emui\", \"english\", \"english\", \"english\", \"english\", \"english\", \"estimated\", \"estimated\", \"estimated\", \"europe\", \"europe\", \"europe\", \"europe\", \"everithing\", \"exactly\", \"exactly\", \"exactly\", \"exactly\", \"exactly\", \"excelent\", \"excellent\", \"excellent\", \"excellent\", \"excellent\", \"excellet\", \"exelent\", \"exelente\", \"exellent\", \"expectations\", \"expectations\", \"expectations\", \"expectations\", \"expectations\", \"expected\", \"expected\", \"expected\", \"expected\", \"expected\", \"expired\", \"facing\", \"facing\", \"facing\", \"facing\", \"fast\", \"fast\", \"fast\", \"fast\", \"fast\", \"fathers\", \"features\", \"features\", \"features\", \"features\", \"features\", \"feels\", \"feels\", \"feels\", \"feels\", \"feels\", \"fine\", \"fine\", \"fine\", \"fine\", \"fine\", \"fingerprint\", \"fingerprint\", \"fingerprint\", \"fingerprint\", \"flagship\", \"flagship\", \"flagships\", \"focus\", \"focus\", \"focus\", \"focus\", \"fone\", \"fone\", \"freezes\", \"freezes\", \"freezes\", \"frequencies\", \"frequencies\", \"friend\", \"friend\", \"friend\", \"friend\", \"friend\", \"froze\", \"froze\", \"froze\", \"galaxy\", \"galaxy\", \"galaxy\", \"galaxy\", \"galaxy\", \"gamut\", \"garmin\", \"gb\", \"gb\", \"gb\", \"gb\", \"gemini\", \"gift\", \"gift\", \"gift\", \"glass\", \"glass\", \"glass\", \"glass\", \"glass\", \"good\", \"good\", \"good\", \"good\", \"good\", \"goog\", \"got\", \"got\", \"got\", \"got\", \"got\", \"gpu\", \"grandson\", \"grandson\", \"great\", \"great\", \"great\", \"great\", \"great\", \"greetings\", \"grip\", \"grip\", \"grip\", \"gsm\", \"gsm\", \"gsm\", \"gsm\", \"gsm\", \"gud\", \"h2o\", \"h2o\", \"happy\", \"happy\", \"happy\", \"happy\", \"happy\", \"hd\", \"hd\", \"hd\", \"hd\", \"hebrew\", \"hes\", \"hes\", \"hes\", \"hes\", \"hotmail\", \"husband\", \"husband\", \"husband\", \"husband\", \"husband\", \"idol\", \"iii\", \"iii\", \"iii\", \"im\", \"im\", \"im\", \"im\", \"im\", \"imei\", \"imei\", \"imei\", \"immaculate\", \"internal\", \"internal\", \"internal\", \"internal\", \"international\", \"international\", \"international\", \"international\", \"internet\", \"internet\", \"internet\", \"internet\", \"iphone\", \"iphone\", \"iphone\", \"iphone\", \"iphone\", \"ips\", \"item\", \"item\", \"item\", \"item\", \"item\", \"ive\", \"ive\", \"ive\", \"ive\", \"ive\", \"jbl\", \"jelly\", \"jelly\", \"junk\", \"junk\", \"junk\", \"junk\", \"kitkat\", \"kitkat\", \"kitkat\", \"lag\", \"lag\", \"lag\", \"lag\", \"language\", \"language\", \"language\", \"language\", \"language\", \"laser\", \"launcher\", \"launcher\", \"launcher\", \"lemon\", \"lemon\", \"life\", \"life\", \"life\", \"life\", \"life\", \"light\", \"light\", \"light\", \"light\", \"light\", \"like\", \"like\", \"like\", \"like\", \"like\", \"likenew\", \"likes\", \"likes\", \"likes\", \"likes\", \"little\", \"little\", \"little\", \"little\", \"little\", \"locked\", \"locked\", \"locked\", \"locked\", \"lollipop\", \"lollipop\", \"lollipop\", \"lollipop\", \"love\", \"love\", \"love\", \"love\", \"love\", \"loved\", \"loved\", \"loved\", \"loved\", \"loved\", \"loves\", \"low\", \"low\", \"low\", \"low\", \"low\", \"lte\", \"lte\", \"lte\", \"lte\", \"malfunctioned\", \"marshmallow\", \"marshmallow\", \"memory\", \"memory\", \"memory\", \"memory\", \"met\", \"met\", \"met\", \"met\", \"met\", \"micro\", \"micro\", \"micro\", \"micro\", \"microsoft\", \"microsoft\", \"microsoft\", \"microsoft\", \"mom\", \"mom\", \"mom\", \"mom\", \"mom\", \"money\", \"money\", \"money\", \"money\", \"money\", \"month\", \"month\", \"month\", \"month\", \"month\", \"months\", \"months\", \"months\", \"months\", \"months\", \"motherboard\", \"moto\", \"moto\", \"moto\", \"moto\", \"movilnet\", \"movilnet\", \"movistar\", \"movistar\", \"movistar\", \"movistar\", \"mum\", \"n900\", \"n95\", \"n97\", \"nan\", \"nano\", \"nano\", \"nano\", \"need\", \"need\", \"need\", \"need\", \"need\", \"nephew\", \"nephew\", \"nephew\", \"network\", \"network\", \"network\", \"network\", \"network\", \"networks\", \"networks\", \"networks\", \"networks\", \"new\", \"new\", \"new\", \"new\", \"new\", \"nextbit\", \"nexus\", \"nexus\", \"nexus\", \"nexus\", \"nfc\", \"nfc\", \"nfc\", \"nice\", \"nice\", \"nice\", \"nice\", \"nice\", \"nicks\", \"nokia\", \"nokia\", \"nokia\", \"nokia\", \"nokias\", \"nokias\", \"nokias\", \"north\", \"north\", \"nova\", \"ok\", \"ok\", \"ok\", \"ok\", \"old\", \"old\", \"old\", \"old\", \"old\", \"oneplus\", \"orginal\", \"outlook\", \"outlook\", \"ovi\", \"p3\", \"packaging\", \"packaging\", \"packaging\", \"packaging\", \"packaging\", \"payasyougo\", \"payasyougo\", \"pedometer\", \"pedometer\", \"perfect\", \"perfect\", \"perfect\", \"perfect\", \"perfect\", \"perfectly\", \"perfectly\", \"perfectly\", \"perfectly\", \"perfectly\", \"perfecto\", \"performance\", \"performance\", \"performance\", \"performance\", \"performance\", \"phone\", \"phone\", \"phone\", \"phone\", \"phone\", \"phones\", \"phones\", \"phones\", \"phones\", \"phones\", \"placement\", \"plan\", \"plan\", \"plan\", \"plan\", \"plan\", \"pleased\", \"pleased\", \"pleased\", \"pleased\", \"pleased\", \"policy\", \"policy\", \"policy\", \"predictive\", \"predictive\", \"pretty\", \"pretty\", \"pretty\", \"pretty\", \"pretty\", \"price\", \"price\", \"price\", \"price\", \"price\", \"problem\", \"problem\", \"problem\", \"problem\", \"problem\", \"processor\", \"processor\", \"processor\", \"product\", \"product\", \"product\", \"product\", \"product\", \"protector\", \"protector\", \"protector\", \"protector\", \"protector\", \"publication\", \"purchase\", \"purchase\", \"purchase\", \"purchase\", \"purchase\", \"quality\", \"quality\", \"quality\", \"quality\", \"quality\", \"quit\", \"quit\", \"quit\", \"quit\", \"qwerty\", \"qwerty\", \"qwerty\", \"ram\", \"ram\", \"ram\", \"randomly\", \"randomly\", \"rear\", \"rear\", \"rear\", \"recomend\", \"recomend\", \"recomend\", \"recomend\", \"recomend\", \"recommend\", \"recommend\", \"recommend\", \"recommend\", \"recommend\", \"recommended\", \"recommended\", \"recommended\", \"recommended\", \"recommended\", \"referred\", \"refund\", \"refund\", \"regional\", \"repair\", \"repair\", \"repair\", \"repairs\", \"repairs\", \"replacement\", \"replacement\", \"replacement\", \"replacement\", \"replacement\", \"reset\", \"reset\", \"reset\", \"resolution\", \"resolution\", \"resolution\", \"resolution\", \"resolution\", \"restarting\", \"restarting\", \"restocking\", \"return\", \"return\", \"return\", \"return\", \"return\", \"returned\", \"returned\", \"returned\", \"returned\", \"returned\", \"returning\", \"returning\", \"returning\", \"returning\", \"returning\", \"returns\", \"returns\", \"rica\", \"rica\", \"robin\", \"royalties\", \"rural\", \"rural\", \"rural\", \"samoled\", \"samsung\", \"samsung\", \"samsung\", \"samsung\", \"samsung\", \"satisfied\", \"satisfied\", \"satisfied\", \"satisfied\", \"satisfied\", \"scanner\", \"scanner\", \"scratches\", \"scratches\", \"scratches\", \"scratches\", \"scratches\", \"screen\", \"screen\", \"screen\", \"screen\", \"screen\", \"scuffs\", \"scuffs\", \"sd\", \"sd\", \"sd\", \"sd\", \"sealed\", \"sealed\", \"sealed\", \"sealed\", \"sealed\", \"selfie\", \"selfie\", \"selfie\", \"selfie\", \"seller\", \"seller\", \"seller\", \"seller\", \"seller\", \"send\", \"send\", \"send\", \"send\", \"send\", \"seniors\", \"sensor\", \"sensor\", \"sensor\", \"sensor\", \"sent\", \"sent\", \"sent\", \"sent\", \"sent\", \"serial\", \"serial\", \"service\", \"service\", \"service\", \"service\", \"service\", \"serviced\", \"shape\", \"shape\", \"shape\", \"shape\", \"shape\", \"shes\", \"shes\", \"shes\", \"shes\", \"shipping\", \"shipping\", \"shipping\", \"shipping\", \"shut\", \"shut\", \"shut\", \"shuts\", \"shutting\", \"shutting\", \"sim\", \"sim\", \"sim\", \"sim\", \"sim\", \"sister\", \"sister\", \"sister\", \"sister\", \"size\", \"size\", \"size\", \"size\", \"size\", \"small\", \"small\", \"small\", \"small\", \"small\", \"smart\", \"smart\", \"smart\", \"smart\", \"smart\", \"smartwatch\", \"smartwatch\", \"smartwear\", \"smh\", \"solid\", \"solid\", \"solid\", \"solid\", \"solid\", \"son\", \"son\", \"son\", \"son\", \"sony\", \"sony\", \"sony\", \"sony\", \"sound\", \"sound\", \"sound\", \"sound\", \"sound\", \"spanish\", \"spanish\", \"spanish\", \"spanish\", \"speakers\", \"speakers\", \"speakers\", \"speakers\", \"specs\", \"specs\", \"specs\", \"specs\", \"sprint\", \"sprint\", \"sprint\", \"stabilization\", \"started\", \"started\", \"started\", \"started\", \"started\", \"stock\", \"stock\", \"stock\", \"stock\", \"stolen\", \"stolen\", \"stolen\", \"stolen\", \"stolen\", \"stopped\", \"stopped\", \"studio\", \"studio\", \"studio\", \"suddenly\", \"suddenly\", \"suddenly\", \"symbian\", \"symbian\", \"te\", \"technician\", \"teenage\", \"teenage\", \"teenage\", \"telefono\", \"telefono\", \"tel\\u00e9fono\", \"tempered\", \"thank\", \"thank\", \"thank\", \"thank\", \"thank\", \"thanks\", \"thanks\", \"thanks\", \"thanks\", \"thanks\", \"thankyou\", \"thankyou\", \"thin\", \"thin\", \"thin\", \"thin\", \"thx\", \"time\", \"time\", \"time\", \"time\", \"time\", \"tlf\", \"tmobile\", \"tmobile\", \"tmobile\", \"tmobile\", \"tmobile\", \"told\", \"told\", \"told\", \"told\", \"told\", \"tomorrow\", \"touchwiz\", \"travel\", \"travel\", \"travel\", \"travel\", \"travelers\", \"tried\", \"tried\", \"tried\", \"tried\", \"tried\", \"turn\", \"turn\", \"turn\", \"turn\", \"turn\", \"ui\", \"ui\", \"unhappy\", \"unhappy\", \"unhappy\", \"unlimited\", \"unlimited\", \"unlimited\", \"unlocked\", \"unlocked\", \"unlocked\", \"unlocked\", \"unlocked\", \"usbc\", \"use\", \"use\", \"use\", \"use\", \"use\", \"verizon\", \"verizon\", \"verizon\", \"verizon\", \"version\", \"version\", \"version\", \"version\", \"version\", \"vivo\", \"vivo\", \"vivo\", \"want\", \"want\", \"want\", \"want\", \"want\", \"warranty\", \"warranty\", \"warranty\", \"warranty\", \"waste\", \"waste\", \"waste\", \"waste\", \"waste\", \"wasted\", \"wasted\", \"wasted\", \"wasted\", \"watch\", \"watch\", \"watch\", \"watch\", \"watches\", \"watches\", \"watches\", \"watchs\", \"weeks\", \"weeks\", \"weeks\", \"weeks\", \"weeks\", \"went\", \"went\", \"went\", \"went\", \"went\", \"whistles\", \"whistles\", \"widget\", \"wife\", \"wife\", \"wife\", \"wife\", \"wife\", \"wifi\", \"wifi\", \"wifi\", \"wifi\", \"wifiinternational\", \"windows\", \"windows\", \"windows\", \"windows\", \"wine\", \"work\", \"work\", \"work\", \"work\", \"work\", \"worked\", \"worked\", \"worked\", \"worked\", \"worked\", \"working\", \"working\", \"working\", \"working\", \"working\", \"works\", \"works\", \"works\", \"works\", \"works\", \"worst\", \"worst\", \"worst\", \"worst\", \"worst\", \"wouldnt\", \"wouldnt\", \"wouldnt\", \"wouldnt\", \"wouldnt\", \"wrist\", \"wrists\", \"xmas\", \"xmas\", \"xperia\", \"xperia\", \"xperia\", \"z1\", \"z3\", \"z3\", \"z5\", \"z5\", \"\\u00edtem\"]}, \"R\": 30, \"lambda.step\": 0.01, \"plot.opts\": {\"xlab\": \"PC1\", \"ylab\": \"PC2\"}, \"topic.order\": [1, 2, 3, 4, 5]};\n",
       "\n",
       "function LDAvis_load_lib(url, callback){\n",
       "  var s = document.createElement('script');\n",
       "  s.src = url;\n",
       "  s.async = true;\n",
       "  s.onreadystatechange = s.onload = callback;\n",
       "  s.onerror = function(){console.warn(\"failed to load library \" + url);};\n",
       "  document.getElementsByTagName(\"head\")[0].appendChild(s);\n",
       "}\n",
       "\n",
       "if(typeof(LDAvis) !== \"undefined\"){\n",
       "   // already loaded: just create the visualization\n",
       "   !function(LDAvis){\n",
       "       new LDAvis(\"#\" + \"ldavis_el1959629021093800483771972010\", ldavis_el1959629021093800483771972010_data);\n",
       "   }(LDAvis);\n",
       "}else if(typeof define === \"function\" && define.amd){\n",
       "   // require.js is available: use it to load d3/LDAvis\n",
       "   require.config({paths: {d3: \"https://d3js.org/d3.v5\"}});\n",
       "   require([\"d3\"], function(d3){\n",
       "      window.d3 = d3;\n",
       "      LDAvis_load_lib(\"https://cdn.jsdelivr.net/gh/bmabey/pyLDAvis@3.3.1/pyLDAvis/js/ldavis.v3.0.0.js\", function(){\n",
       "        new LDAvis(\"#\" + \"ldavis_el1959629021093800483771972010\", ldavis_el1959629021093800483771972010_data);\n",
       "      });\n",
       "    });\n",
       "}else{\n",
       "    // require.js not available: dynamically load d3 & LDAvis\n",
       "    LDAvis_load_lib(\"https://d3js.org/d3.v5.js\", function(){\n",
       "         LDAvis_load_lib(\"https://cdn.jsdelivr.net/gh/bmabey/pyLDAvis@3.3.1/pyLDAvis/js/ldavis.v3.0.0.js\", function(){\n",
       "                 new LDAvis(\"#\" + \"ldavis_el1959629021093800483771972010\", ldavis_el1959629021093800483771972010_data);\n",
       "            })\n",
       "         });\n",
       "}\n",
       "</script>"
      ],
      "text/plain": [
       "<IPython.core.display.HTML object>"
      ]
     },
     "execution_count": 72,
     "metadata": {},
     "output_type": "execute_result"
    }
   ],
   "source": [
    "import pyLDAvis.sklearn\n",
    "lda_mod = LatentDirichletAllocation(n_components = 5, random_state=42)\n",
    "W_lda_para_matrix = lda_mod.fit_transform(count_para_vectors)\n",
    "H_lda_para_matrix = lda_mod.components_\n",
    "\n",
    "lda_display = pyLDAvis.sklearn.prepare(\n",
    "    lda_mod, \n",
    "    count_para_vectors,\n",
    "    count_para_vectorizer, \n",
    "    sort_topics=False\n",
    ")\n",
    "pyLDAvis.display(lda_display)"
   ]
  },
  {
   "cell_type": "markdown",
   "id": "2623d223",
   "metadata": {},
   "source": [
    "#### Comparrison with Apriori Group Topic generation"
   ]
  },
  {
   "cell_type": "code",
   "execution_count": 92,
   "id": "2e04c173",
   "metadata": {},
   "outputs": [
    {
     "name": "stdout",
     "output_type": "stream",
     "text": [
      "TOPIC/RATING: 1 N = 71375\n",
      "Topics for LDA\n",
      "\n",
      "Topic 00\n",
      "  phone (0.06)\n",
      "  work (0.01)\n",
      "  one (0.01)\n",
      "  would (0.01)\n",
      "  screen (0.01)\n",
      "Coherence score for LDA: -1.8808731546856088\n",
      "-----------------\n",
      "\n",
      "\n",
      "TOPIC/RATING: 2 N = 24534\n",
      "Topics for LDA\n",
      "\n",
      "Topic 00\n",
      "  phone (0.05)\n",
      "  battery (0.01)\n",
      "  one (0.01)\n",
      "  screen (0.01)\n",
      "  would (0.01)\n",
      "Coherence score for LDA: -1.6476912049801582\n",
      "-----------------\n",
      "\n",
      "\n",
      "TOPIC/RATING: 3 N = 31384\n",
      "Topics for LDA\n",
      "\n",
      "Topic 00\n",
      "  phone (0.05)\n",
      "  good (0.01)\n",
      "  like (0.01)\n",
      "  one (0.01)\n",
      "  battery (0.01)\n",
      "Coherence score for LDA: -1.6983812754312848\n",
      "-----------------\n",
      "\n",
      "\n",
      "TOPIC/RATING: 4 N = 60204\n",
      "Topics for LDA\n",
      "\n",
      "Topic 00\n",
      "  phone (0.05)\n",
      "  good (0.02)\n",
      "  great (0.01)\n",
      "  like (0.01)\n",
      "  use (0.01)\n",
      "Coherence score for LDA: -1.6622381308614727\n",
      "-----------------\n",
      "\n",
      "\n",
      "TOPIC/RATING: 5 N = 218172\n",
      "Topics for LDA\n",
      "\n",
      "Topic 00\n",
      "  phone (0.05)\n",
      "  great (0.02)\n",
      "  good (0.01)\n",
      "  love (0.01)\n",
      "  one (0.01)\n",
      "Coherence score for LDA: -1.9176512099948588\n",
      "-----------------\n",
      "\n",
      "\n"
     ]
    }
   ],
   "source": [
    "for rating in sorted(df['Rating'].unique()):\n",
    "    this_rating = df.query(f\"Rating=={rating}\")\n",
    "    print(f'TOPIC/RATING: {rating} N = {len(this_rating)}')\n",
    "    get_model_gensim(this_rating['tokens'],'LDA',topics=1)\n",
    "    print('-----------------\\n\\n')"
   ]
  },
  {
   "cell_type": "markdown",
   "id": "583085bf",
   "metadata": {},
   "source": [
    "### Closing Remarks"
   ]
  },
  {
   "cell_type": "markdown",
   "id": "52392f4e",
   "metadata": {},
   "source": [
    "Overall, our LDA models seem to outperform our NMF models, all else held constant. The LDA that uses the full text has the strongest coherence score out of all candidates. With regards to the visualization from ```pyLDAvis```, we observe that topics 1 and 3 have considerable overlap among one another, primarily because they both make strong references to actual features of the phones they review. There is a strong tapering-off for both topics, so they seem well defined.\n",
    "\n",
    "Topic 2 is largely characterized by refrences to the word 'phone', which isn't particularly meaningful to us since all of these reviews are about phones, but separates itself by possibly containing reviews that mention phones but not their individual features as part of the review.\n",
    "\n",
    "Topic 5 is poorly defined and small, with no meaningful insights.\n",
    "\n",
    "Topic 4, however, **is driven by a meaningful combination of sentiment and product descriptions.** This topic is driven by one noun (phone), followed by several adjectives (good, great, excellent), which sends the impression that Topic 4 is comprised largely of positive reviews that don't get specific about technical features.\n",
    "\n",
    "##### Remarks on Apriori Groups\n",
    "The general trend in apriori groups is that lower rating values (particular 1 and 2) tend to not include any positive adjectives, but also tend to excluse negative adjectives and simply discuss the product. Insofar as this is the case, Topics 5 and 2 correspond to negative reviews, while 1,3, and 4 correspond to positive reviews, but it's unclear to which respective ranking. We can speculate that Topic 4, which contains the strongest use of positive adjectives, may correspond to a rating of 5."
   ]
  }
 ],
 "metadata": {
  "kernelspec": {
   "display_name": "Python 3 (ipykernel)",
   "language": "python",
   "name": "python3"
  },
  "language_info": {
   "codemirror_mode": {
    "name": "ipython",
    "version": 3
   },
   "file_extension": ".py",
   "mimetype": "text/x-python",
   "name": "python",
   "nbconvert_exporter": "python",
   "pygments_lexer": "ipython3",
   "version": "3.8.2"
  }
 },
 "nbformat": 4,
 "nbformat_minor": 5
}
